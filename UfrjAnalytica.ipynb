{
 "cells": [
  {
   "cell_type": "markdown",
   "id": "80460ef5",
   "metadata": {},
   "source": [
    "<center><h1>Uma análise acerca do contexto político na cidade do Rio de Janeiro</h1>\n",
    "\n",
    "---\n",
    "\n",
    "<center><h6>Autor: Ronald Albert</h6>\n",
    "<h6>Junho, 2021</h6>"
   ]
  },
  {
   "cell_type": "markdown",
   "id": "89c39afb",
   "metadata": {},
   "source": [
    "<b>ATENÇÃO</b><br>\n",
    "Este notebook demora em torno de 10  a 15 minutos para ser completamente executado. Recomendável deixar-lo executando enquanto passa um café ou algo parecido."
   ]
  },
  {
   "cell_type": "markdown",
   "id": "51fbe117",
   "metadata": {},
   "source": [
    "<b>Este trabalho utiliza os seguintes datasets:</b>\n",
    "<ul>\n",
    "<li>br_tse_filiacao_partidaria.filiacao_partidaria</li>\n",
    "<li>br_tse_eleicoes.local_secao</li>\n",
    "<li>br_tse_eleicoes.resultados_partido_secao</li>\n",
    "</ul> \n",
    "\n",
    "Do datalake da basedosdados, disponível na [BigQuery](https://basedosdados.github.io/mais/access_data_bq/ \"Base dos dados API\") deles"
   ]
  },
  {
   "cell_type": "code",
   "execution_count": null,
   "id": "e9c0eef3",
   "metadata": {},
   "outputs": [],
   "source": [
    "import pandas as pd\n",
    "import numpy as np\n",
    "import scipy.stats as stats\n",
    "import basedosdados as bd\n",
    "import re\n",
    "import json\n",
    "import string\n",
    "import plotly\n",
    "import plotly.express as px\n",
    "import plotly.offline as py\n",
    "import plotly.graph_objs as go\n",
    "import scipy.stats as stats\n",
    "import sympy as sym\n",
    "import itertools\n",
    "import os\n",
    "from sklearn.linear_model import LinearRegression\n",
    "from sklearn.cluster import KMeans\n",
    "from sklearn.preprocessing import StandardScaler"
   ]
  },
  {
   "cell_type": "markdown",
   "id": "41ad8f62",
   "metadata": {},
   "source": [
    "Abaixo carregamos alguns csv's para auxiliarem a nossa análise:\n",
    "\n",
    "---\n",
    "\n",
    "Usamos o <b>'municipios.csv'</b> para conseguirmos o codigo do munícipio do Rio de Janeiro no IBGE, facilitando a consulta a base dos dados \n",
    "\n",
    "---\n",
    "\n",
    "Usamos o <b>'orientacao_partidos.csv'</b> para termos a orientação política (esquerda, direita e centro) de cada partido político. <br>\n",
    "Usaremos a classificação do [Congresso em Foco](https://congressoemfoco.uol.com.br/legislativo/direita-cresce-e-engole-o-centro-no-congresso-mais-fragmentado-da-historia) <br>\n",
    "Esta tabela está disponível no [Wikipedia](https://pt.wikipedia.org/wiki/Lista_de_partidos_pol%C3%ADticos_do_Brasil)<br>\n",
    "\n",
    "---\n",
    "\n",
    "Outro \"dataset\" que usaremos é um [geojson](https://gist.github.com/esperanc/db213370dd176f8524ae6ba32433f90a) para nos auxiliar nas visualizações, assim como também nos ajudar a determinar em qual bairro estão localizadas cada uma das seções e zonas eleitorais.<br>\n",
    "Publicado no github por <b>Claudio 'esperanc' Esperança</b>\n"
   ]
  },
  {
   "cell_type": "code",
   "execution_count": null,
   "id": "cf810131",
   "metadata": {},
   "outputs": [],
   "source": [
    "municipios = pd.read_csv(\"csv/municipios.csv\")\n",
    "\n",
    "orientacao_partidos = pd.read_csv(\"csv/orientacao_partidos.csv\", error_bad_lines=False, delimiter=',')\n",
    "orientacao_partidos =  orientacao_partidos.replace({ \"—\":\"esquerda\"})\n",
    "orientacao_partidos['Nome'] = orientacao_partidos['Nome'].map(lambda x: x.upper())\n",
    "\n",
    "with open('csv/bairros-geojson.json', encoding=\"utf8\") as geojson:\n",
    "    bairros = json.load(geojson)"
   ]
  },
  {
   "cell_type": "markdown",
   "id": "634e3644",
   "metadata": {},
   "source": [
    "Para não termos que fazer download dos dados todas as vezes que iniciarmos o notebook, faremos esse download uma única vez e armazenaremos seu resultado em um .csv.<br>\n",
    "\n",
    "Para isso foi criado a função 'dataAlreadyBeenGot' que valida se o csv já foi populado com dados.<br>\n",
    "\n",
    "<b>ATENÇÃO:</b><br>\n",
    "Se este projeto foi clonado do github, os datasets já estão populados e não há necessidade de realizar query da BaseDosDados.<br> \n",
    "No entanto, se não se tem acesso à estes datasets, será necessário criar os arquivos .csv dentro de uma pasta nomeadas 'csv' no diretório do notebook. <br>\n",
    "Os nomes dos arquivos csv são:\n",
    "<ul>\n",
    "<li>secao_eleitoral.csv</li>\n",
    "<li>resultado_eleicoes.csv</li>\n",
    "<li>filiados.csv</li>\n",
    "</ul> "
   ]
  },
  {
   "cell_type": "code",
   "execution_count": null,
   "id": "d63465f0",
   "metadata": {},
   "outputs": [],
   "source": [
    "def dataAlreadyBeenGot(csvName):\n",
    "    if os.stat(csvName).st_size == 0:\n",
    "        return False\n",
    "    else:\n",
    "        return True"
   ]
  },
  {
   "cell_type": "markdown",
   "id": "de03e550",
   "metadata": {},
   "source": [
    "Abaixo carregamos o dataset de seções eleitorais da base dos dados:<br>\n",
    "![alt text](img/secao_eleitoral.jpg)\n",
    "\n",
    "Usaremos este dataset para determinar o bairro onde está localizado determinada zona eleitoral ou seção eleitoral. Para isso teremos a coluna 'melhor_urbano' que nos retornar a latitude e a longitude de tal seção e zona."
   ]
  },
  {
   "cell_type": "code",
   "execution_count": null,
   "id": "63b7b810",
   "metadata": {},
   "outputs": [],
   "source": [
    "if not dataAlreadyBeenGot('csv/secao_eleitoral.csv'):\n",
    "    querySecaoEleitoral = \"\"\"\n",
    "        SELECT * FROM `basedosdados.br_tse_eleicoes.local_secao` AS LS\n",
    "        WHERE LS.id_municipio={} AND LS.sigla_uf='RJ'\n",
    "        \"\"\".format(municipios[municipios['nome_municipio'].eq('RIO DE JANEIRO')]['codigo_ibge'].values[0])\n",
    "\n",
    "    secao_eleitoral = bd.read_sql(querySecaoEleitoral, billing_project_id='capacitacaoufrjanalytica')\n",
    "    secao_eleitoral.to_csv(\"csv/secao_eleitoral.csv\", index=False)\n",
    "else:\n",
    "    secao_eleitoral = pd.read_csv(\"csv/secao_eleitoral.csv\")"
   ]
  },
  {
   "cell_type": "markdown",
   "id": "a5f7857d",
   "metadata": {},
   "source": [
    "Abaixo são filtradas as seções eleitorais onde as coordenadas não são informadas"
   ]
  },
  {
   "cell_type": "code",
   "execution_count": null,
   "id": "dd103146",
   "metadata": {},
   "outputs": [],
   "source": [
    "secao_eleitoral = secao_eleitoral[~(secao_eleitoral['melhor_urbano']).isnull()]"
   ]
  },
  {
   "cell_type": "markdown",
   "id": "e6525f18",
   "metadata": {},
   "source": [
    "Abaixo carregamos o dataset de resultados por seção eleitoral da base dos dados:<br>\n",
    "![alt text](img/resultados_partido.jpg)\n",
    "\n",
    "Usaremos este dataset para construir nossas análises propriamente ditas, observando como os votos de determinado partido se comportam, dado ano, bairro e o cargo para o qual é a eleição"
   ]
  },
  {
   "cell_type": "code",
   "execution_count": null,
   "id": "f2da0260",
   "metadata": {},
   "outputs": [],
   "source": [
    "if not dataAlreadyBeenGot('csv/resultado_eleicoes.csv'):\n",
    "    queryResultadosPartidoMunicipio = \"\"\"\n",
    "        SELECT MZ.ano, MZ.zona, MZ.secao, MZ.sigla_partido, MZ.cargo, MZ.turno, MZ.votos_nominais, MZ.votos_nao_nominais FROM `basedosdados.br_tse_eleicoes.resultados_partido_secao` AS MZ\n",
    "        WHERE MZ.id_municipio_tse={} AND MZ.sigla_uf='RJ'\n",
    "        ORDER BY MZ.ano ASC\"\"\".format(municipios[municipios['nome_municipio'].eq('RIO DE JANEIRO')]['codigo_tse'].values[0])\n",
    "\n",
    "    dfResultadosPartidoMunicipio = bd.read_sql(queryResultadosPartidoMunicipio, billing_project_id='capacitacaoufrjanalytica')"
   ]
  },
  {
   "cell_type": "markdown",
   "id": "68528d96",
   "metadata": {},
   "source": [
    "# Winding Number\n",
    "Na célula seguinte, implementamos um algoritmo de rasterização de polígonos, chamado winding number<br>\n",
    "O winding number funcionando determinando se algum ponto no plano cartesiano, está dentro ou não, de determinado polígono (também definido por pontos em um plano cartesiano) convexo ou não.<br>\n",
    "O algoritmo será usado para determinar os bairros onde estão localizados as diferentes seções eleitorais do município do Rio de Janeiro. Dentro do geojson importado anteriormente, temos as coordenadas (latitude, longitude) de cada um dos pontos que definem cada bairro do município Rio de Janeiro.<br>\n",
    "O seguinte algoritmo, será executado para cada uma das seções eleitorais e irá procurar dentro do geojson o primeiro bairro que, cujo qual o polígono contenha aquelas coordenadas.\n",
    "\n",
    "Para mais informações sobre o winding number, visitar:<br>\n",
    "[Geometry Algorithms](http://www.geomalgorithms.com/algorithms.html)"
   ]
  },
  {
   "cell_type": "code",
   "execution_count": null,
   "id": "b75f38d5",
   "metadata": {},
   "outputs": [],
   "source": [
    "def neighhboorhoodCoordinateIsInside(zona, secao):\n",
    "    zona_secao_df = secao_eleitoral[secao_eleitoral['zona'].eq(zona) &  secao_eleitoral['secao'].eq(secao)]\n",
    "    \n",
    "    if len(zona_secao_df) == 0:\n",
    "        return 'nao informado'\n",
    "    \n",
    "    coords = zona_secao_df.values[0][5]\n",
    "    array_coords = [float(x) for x in re.findall(r'[-+]?\\d+\\.\\d+', zona_secao_df.iloc[0]['melhor_urbano'])]\n",
    "    \n",
    "    longitude = array_coords[0]\n",
    "    latitude = array_coords[1]\n",
    "    for e in bairros['features']:\n",
    "        if (e['geometry']['type'] != 'MultiPolygon'):\n",
    "            vertices = e['geometry']['coordinates'][0]\n",
    "        else:\n",
    "            vertices = e['geometry']['coordinates'][0][0]\n",
    "        wn = 0;\n",
    "        i = 0\n",
    "        j = len(vertices) - 1\n",
    "        while (i < len(vertices)):\n",
    "            v = vertices[j];\n",
    "            v1 = vertices[i];\n",
    "            if ( v[0] <= longitude ) :\n",
    "                if ( longitude < v1[0] ):  \n",
    "                    if ( (v1[1] - v[1]) * (longitude - v[0]) - (v1[0] - v[0]) * (latitude - v[1]) > 0 ):\n",
    "                        wn += 1;\n",
    "            else:\n",
    "                if( longitude >= v1[0] ):\n",
    "                    if ( (v1[1] - v[1]) * (longitude - v[0]) - (v1[0] - v[0]) * (latitude - v[1]) < 0 ):\n",
    "                        wn -= 1;\n",
    "            j = i\n",
    "            i += 1\n",
    "    \n",
    "        if (wn != 0):\n",
    "            return e['properties']['NOME']"
   ]
  },
  {
   "cell_type": "markdown",
   "id": "6b665fec",
   "metadata": {},
   "source": [
    "Usando o algorítmo acima calculamos o bairro para cada combinação de zona e seção eleitoral possível no dataset, não fazemos isso no dataset diretamente, visto que os valores de zona e seção se repetem dentro dele, de forma que seria ineficaz calcular o bairro para cada linha do dataset.<br>\n",
    "Assim calculamos o bairro para cada combinação de zona e seção eleitoral, e depois para associar o bairro a cada linha do dataset, basta realizar um merge usando a zona e seção eleitoral como chaves."
   ]
  },
  {
   "cell_type": "code",
   "execution_count": null,
   "id": "0d39fed7",
   "metadata": {},
   "outputs": [],
   "source": [
    "if not dataAlreadyBeenGot('csv/resultado_eleicoes.csv'):\n",
    "    returnBairro = np.vectorize(neighhboorhoodCoordinateIsInside)\n",
    "    bairrosFromZonaSecao = pd.DataFrame(list(itertools.product(dfResultadosPartidoMunicipio['zona'].unique(),  dfResultadosPartidoMunicipio['secao'].unique())),\n",
    "                                        columns=['zona', 'secao'])\n",
    "    bairrosFromZonaSecao['bairro'] = returnBairro(bairrosFromZonaSecao['zona'].values, bairrosFromZonaSecao['secao'].values)"
   ]
  },
  {
   "cell_type": "markdown",
   "id": "5d3adfef",
   "metadata": {},
   "source": [
    "Abaixo realizamos o merge associando um bairro a cada linha do dataset<br>\n",
    "Além disso, quando encontrarmos um NaN dentro da nossa coluna de bairros, temos que não tivemos resultado do bairro para aquela linha, dessa forma substituiremos todos os NaN's por 'nao informado'."
   ]
  },
  {
   "cell_type": "code",
   "execution_count": null,
   "id": "4d2a758a",
   "metadata": {
    "scrolled": true
   },
   "outputs": [],
   "source": [
    "if not dataAlreadyBeenGot('csv/resultado_eleicoes.csv'):\n",
    "    dfResultadosPartidoMunicipio = pd.merge(dfResultadosPartidoMunicipio, bairrosFromZonaSecao, how='left', left_on=['secao', 'zona'], right_on = ['secao', 'zona'])\n",
    "    dfResultadosPartidoMunicipio.replace(np.nan, 'nao informado', inplace=True)"
   ]
  },
  {
   "cell_type": "markdown",
   "id": "adf2b173",
   "metadata": {},
   "source": [
    "Para associar uma orientação política a cada partido, precisamos tratar os nomes dos partidos presentes no nosso dataset para que estejam iguais aos presentes no csv 'orientacao_partidos.csv' <br>\n",
    "Além disso, o BigQuery também apresenta partidos que mudaram de nome ou se fundiram com outros partidos com nomes diferentes, para esta análise trataremos todos os partidos com a sua sigla atual.\n",
    "Por exemplo, o PRONA (Partido de Reedificação da Ordem Nacional) existiu até 2006 quando se filiou ao PL (Partido Liberal), para esta análise todos os votos de PRONA de 1998 até 2006 serão considerados como votos do PL"
   ]
  },
  {
   "cell_type": "code",
   "execution_count": null,
   "id": "1924934f",
   "metadata": {},
   "outputs": [],
   "source": [
    "if not dataAlreadyBeenGot('csv/resultado_eleicoes.csv'):\n",
    "    dfResultadosPartidoMunicipio['sigla_partido'].replace({'PEN':'PATRIOTA', 'PATRI':'PATRIOTA', \n",
    "                                                           'PT DO B':'AVANTE', 'PT do B':'AVANTE', \n",
    "                                                           'PC do B': 'PCDOB', 'PC DO B': 'PCDOB',\n",
    "                                                           'PRONA':'PL', 'PGT':'PL', 'PPB':'PP',\n",
    "                                                           'PPS': 'CIDADANIA', 'PRN':'PTC',\n",
    "                                                           'PRP': 'PATRIOTA', 'PSDC':'DC',\n",
    "                                                           'PSN':'PODE', 'PST': 'PL', 'PTN':'PODE',\n",
    "                                                           'PHS':'PODE', 'PRB':'REPUBLICANOS',\n",
    "                                                           'PR': 'PL', 'PPL': 'PCDOB', 'SD': 'SOLIDARIEDADE',\n",
    "                                                           'PAN':'PTB','PFL':'DEM', 'PMDB':'MDB'}, inplace=True)\n"
   ]
  },
  {
   "cell_type": "markdown",
   "id": "f592e2e6",
   "metadata": {},
   "source": [
    "Abaixo dissolvemos as colunas 'secao' e 'zona', visto que somente nos preocupamos com o bairro.<br>\n",
    "Além disso também armazenamos o resultado do nosso tratamento em um csv, para que não haja necessidade desse tratamento ser reexecutado"
   ]
  },
  {
   "cell_type": "code",
   "execution_count": null,
   "id": "0f98a13f",
   "metadata": {},
   "outputs": [],
   "source": [
    "if not dataAlreadyBeenGot('csv/resultado_eleicoes.csv'):\n",
    "    dfResultadosPartidoMunicipio = dfResultadosPartidoMunicipio.set_index(['ano', 'sigla_partido', 'bairro', 'cargo', 'turno']).groupby(level=(0, 1, 2, 3, 4)).agg({\"votos_nominais\":np.sum, \"votos_nao_nominais\":np.sum}).reset_index()\n",
    "    dfResultadosPartidoMunicipio.to_csv(\"csv/resultado_eleicoes.csv\", index=False)\n",
    "else:\n",
    "    dfResultadosPartidoMunicipio = pd.read_csv(\"csv/resultado_eleicoes.csv\")"
   ]
  },
  {
   "cell_type": "markdown",
   "id": "8f5733fa",
   "metadata": {},
   "source": [
    "Agruparemos os resultados somente por 'ano' e 'sigla_partido' para construir nossa primeira visualização <br>\n",
    "Consideraremos somente os votos de primeiro turno, visto que, considerar os votos de ambos os turnos tornariam a análise enviesada em favor dos partidos que foram para o segundo turno. <br>\n",
    "Também é criada uma coluna extra, chamada 'votos totais', que é a soma dos votos nominais com os votos não nominais."
   ]
  },
  {
   "cell_type": "code",
   "execution_count": null,
   "id": "2bc0d2a6",
   "metadata": {},
   "outputs": [],
   "source": [
    "votosTotaisPorPartido = dfResultadosPartidoMunicipio[dfResultadosPartidoMunicipio['turno'].eq(1)].set_index(['ano', 'sigla_partido']).groupby(level=(0, 1)).agg({\"votos_nominais\":np.sum, \"votos_nao_nominais\":np.sum}).reset_index()\n",
    "\n",
    "votosTotaisPorPartido['votos totais'] = votosTotaisPorPartido['votos_nominais'] + votosTotaisPorPartido['votos_nao_nominais']"
   ]
  },
  {
   "cell_type": "markdown",
   "id": "860f9735",
   "metadata": {},
   "source": [
    "Para comparar o resultado na eleição de diferentes anos, é necessário considerar a quantidade de votos em cada um dos anos da eleição, visto que, determinado ano de eleição pode apresentar mais ou menos votantes do que outro.<br>\n",
    "\n",
    "Dessa forma, criaremos outra coluna, denominada 'desempenho', onde nós temos a quantidade de voto de determinado partido dividido pela quantidade total de votos naquele ano."
   ]
  },
  {
   "cell_type": "code",
   "execution_count": null,
   "id": "0d7350f3",
   "metadata": {},
   "outputs": [],
   "source": [
    "def returnPorcentagemDeVotos(partido, ano):\n",
    "    votosPartido = votosTotaisPorPartido[votosTotaisPorPartido['sigla_partido'].eq(partido) & votosTotaisPorPartido['ano'].eq(ano)]['votos totais']\n",
    "    votosTotaisBairro = votosTotaisPorPartido[votosTotaisPorPartido['ano'].eq(ano)]['votos totais'].sum()\n",
    "    return votosPartido/votosTotaisBairro\n",
    "\n",
    "porcentagemVetorizada = np.vectorize(returnPorcentagemDeVotos)\n",
    "votosTotaisPorPartido['desempenho'] = porcentagemVetorizada(votosTotaisPorPartido['sigla_partido'], votosTotaisPorPartido['ano']) "
   ]
  },
  {
   "cell_type": "markdown",
   "id": "067a13e8",
   "metadata": {},
   "source": [
    "Segue o gráfico do desempenho de alguns partidos por ano.\n",
    "\n",
    "<b>Note que para avaliar o desempenho de outros partidos, basta mudar as strings dentro do array 'partido'.</b> "
   ]
  },
  {
   "cell_type": "code",
   "execution_count": null,
   "id": "92aff847",
   "metadata": {
    "scrolled": false
   },
   "outputs": [],
   "source": [
    "partido = ['PT', 'PSDB', 'PSL']\n",
    "fig = px.line(votosTotaisPorPartido[votosTotaisPorPartido['sigla_partido'].isin(partido)], x=\"ano\", y=\"desempenho\", \n",
    "              color='sigla_partido',\n",
    "              title='Desempenho dos partidos '+str(partido)[1:-1]+' X ano')\n",
    "fig.show()"
   ]
  },
  {
   "cell_type": "markdown",
   "id": "e6e7d6a3",
   "metadata": {},
   "source": [
    "Agora continuaremos a agrupar por 'ano' e 'sigla_partido', com a exceção de que adicionamos outra variável, sendo ela 'bairro'.<br>\n",
    "Também calcularemos o desempenho de partidos por bairro, que vai ser calculado pela divisão do número de votos daquele partido em determinado ano e bairro pelo número total de votos naquele ano e bairro"
   ]
  },
  {
   "cell_type": "code",
   "execution_count": null,
   "id": "870afabb",
   "metadata": {},
   "outputs": [],
   "source": [
    "votosTotaisPartidoPorBairro = dfResultadosPartidoMunicipio[dfResultadosPartidoMunicipio['turno'].eq(1)].set_index(['ano', 'bairro','sigla_partido']).groupby(level=(0, 1, 2)).agg({\"votos_nominais\":np.sum, \"votos_nao_nominais\":np.sum}).reset_index()\n",
    "\n",
    "votosTotaisPartidoPorBairro['votos totais'] = votosTotaisPartidoPorBairro['votos_nominais'] + votosTotaisPartidoPorBairro['votos_nao_nominais']\n",
    "\n",
    "def returnPorcentagemPorBairro(bairro, partido, ano):\n",
    "    votosPartido = votosTotaisPartidoPorBairro[votosTotaisPartidoPorBairro['bairro'].eq(bairro) & votosTotaisPartidoPorBairro['sigla_partido'].eq(partido) & votosTotaisPartidoPorBairro['ano'].eq(ano)]['votos totais']\n",
    "    votosTotaisBairro = votosTotaisPartidoPorBairro[votosTotaisPartidoPorBairro['bairro'].eq(bairro) & votosTotaisPartidoPorBairro['ano'].eq(ano)]['votos totais'].sum()\n",
    "    return votosPartido/votosTotaisBairro\n",
    "\n",
    "porcentagemPorBairroVetorizada = np.vectorize(returnPorcentagemPorBairro)\n",
    "\n",
    "votosTotaisPartidoPorBairro['desempenho por bairro'] = porcentagemPorBairroVetorizada(votosTotaisPartidoPorBairro['bairro'], votosTotaisPartidoPorBairro['sigla_partido'], votosTotaisPartidoPorBairro['ano']) "
   ]
  },
  {
   "cell_type": "markdown",
   "id": "2a5dc8cf",
   "metadata": {},
   "source": [
    "Construiremos um visualização do desempenho de partidos por bairro.\n",
    "\n",
    "<b>Note que para avaliar o desempenho de outros partidos em outros bairro, basta mudar o valor das variáveis 'partido' e 'bairro'.</b> "
   ]
  },
  {
   "cell_type": "code",
   "execution_count": null,
   "id": "a6d36c8c",
   "metadata": {
    "scrolled": false
   },
   "outputs": [],
   "source": [
    "partido = ['PT', 'PSL', 'PSOL', 'DEM']\n",
    "bairro = 'Barra da Tijuca'\n",
    "fig = px.line(votosTotaisPartidoPorBairro[votosTotaisPartidoPorBairro['sigla_partido'].isin(partido) & votosTotaisPartidoPorBairro['bairro'].eq(bairro)], \n",
    "              x=\"ano\", y=\"desempenho por bairro\", \n",
    "              color='sigla_partido',\n",
    "              title='Desempenho dos partidos '+str(partido)[1:-1]+' no bairro '+bairro+' X ano')\n",
    "fig.show()"
   ]
  },
  {
   "cell_type": "markdown",
   "id": "5863e446",
   "metadata": {},
   "source": [
    "Também podemos avaliar o desempenho de algum partido em diferentes bairros.\n",
    "\n",
    "<b>Note que para avaliar o desempenho de outros partidos em outros bairro, basta mudar o valor das variáveis 'partido' e 'bairro'.</b> "
   ]
  },
  {
   "cell_type": "code",
   "execution_count": null,
   "id": "3bcb39a7",
   "metadata": {},
   "outputs": [],
   "source": [
    "partido = 'PSOL'\n",
    "bairro = ['Bangu', 'Laranjeiras', 'Freguesia (Jacarepaguá)', 'Cidade Universitária']\n",
    "fig = px.line(votosTotaisPartidoPorBairro[votosTotaisPartidoPorBairro['sigla_partido'].eq(partido) & votosTotaisPartidoPorBairro['bairro'].isin(bairro)], \n",
    "              x=\"ano\", y=\"desempenho por bairro\", \n",
    "              color='bairro',\n",
    "              title='Desempenho do partido '+partido+' nos bairros '+str(bairro)[1:-1]+' X ano')\n",
    "fig.show()"
   ]
  },
  {
   "cell_type": "markdown",
   "id": "980857c3",
   "metadata": {},
   "source": [
    "Como fizemos com o bairros, também podemos agrupar os resultados da eleições por cargo na eleição e avaliar os resultado para cargos específicos.<br>\n",
    "São eles presidente, prefeito, governador, senador, vereador, deputado federal e deputado estadual"
   ]
  },
  {
   "cell_type": "code",
   "execution_count": null,
   "id": "a6031fbd",
   "metadata": {},
   "outputs": [],
   "source": [
    "votosTotaisPorCargoPorPartido = dfResultadosPartidoMunicipio[dfResultadosPartidoMunicipio['turno'].eq(1)].set_index(['ano','sigla_partido', 'cargo']).groupby(level=(0, 1, 2)).agg({\"votos_nominais\":np.sum, \"votos_nao_nominais\":np.sum}).reset_index()\n",
    "votosTotaisPorCargoPorPartido['votos totais'] = votosTotaisPorCargoPorPartido['votos_nominais'] + votosTotaisPorCargoPorPartido['votos_nao_nominais']\n"
   ]
  },
  {
   "cell_type": "markdown",
   "id": "fa0b0803",
   "metadata": {},
   "source": [
    "Usaremos a mesma definição de desempenho de algum partido utilizada anteriormente: número de votos daquele partido para a eleição daquele cargo dividido pelo número de votos total naquela eleição para aquele cargo."
   ]
  },
  {
   "cell_type": "code",
   "execution_count": null,
   "id": "3a46476b",
   "metadata": {},
   "outputs": [],
   "source": [
    "def returnPorcentagemDeVotosParaCargo(partido, ano, cargo):\n",
    "    votosPartido = votosTotaisPorCargoPorPartido[votosTotaisPorCargoPorPartido['sigla_partido'].eq(partido) & votosTotaisPorCargoPorPartido['ano'].eq(ano) & votosTotaisPorCargoPorPartido['cargo'].eq(cargo)]['votos totais']\n",
    "    votosTotaisBairro = votosTotaisPorCargoPorPartido[votosTotaisPorCargoPorPartido['ano'].eq(ano) & votosTotaisPorCargoPorPartido['cargo'].eq(cargo)]['votos totais'].sum()\n",
    "    return votosPartido/votosTotaisBairro\n",
    "\n",
    "porcentagemPorCargoVetorizada = np.vectorize(returnPorcentagemDeVotosParaCargo)\n",
    "votosTotaisPorCargoPorPartido['desempenho'] = porcentagemPorCargoVetorizada(votosTotaisPorCargoPorPartido['sigla_partido'], votosTotaisPorCargoPorPartido['ano'], votosTotaisPorCargoPorPartido['cargo']) "
   ]
  },
  {
   "cell_type": "markdown",
   "id": "bde6e70e",
   "metadata": {},
   "source": [
    "Construiremos uma visualização do desempenho por cargo.\n",
    "\n",
    "<b>Note que para avaliar o desempenho de outros partidos em eleições para outros cargos, basta mudar o valor das variáveis 'partido' e 'cargo'.</b> "
   ]
  },
  {
   "cell_type": "code",
   "execution_count": null,
   "id": "a1ca6a3d",
   "metadata": {
    "scrolled": false
   },
   "outputs": [],
   "source": [
    "cargo = 'prefeito'\n",
    "partido = ['DEM', 'PSOL', 'REPUBLICANOS']\n",
    "fig = px.line(votosTotaisPorCargoPorPartido[votosTotaisPorCargoPorPartido['sigla_partido'].isin(partido) & votosTotaisPorCargoPorPartido['cargo'].eq(cargo)], \n",
    "              x=\"ano\", y=\"desempenho\", \n",
    "              color='sigla_partido',\n",
    "              title='Desempenho dos partidos '+str(partido)[1:-1]+' para o cargo de '+cargo+' X ano')\n",
    "fig.show()"
   ]
  },
  {
   "cell_type": "markdown",
   "id": "3501987e",
   "metadata": {},
   "source": [
    "# Dividindo os partidos por orientação política\n",
    "\n",
    "Abaixo definimos uma função para retornar a orientação política de determinado partido (esquerda, direita, centro)."
   ]
  },
  {
   "cell_type": "code",
   "execution_count": null,
   "id": "b4952048",
   "metadata": {},
   "outputs": [],
   "source": [
    "def returnOrientacaoPolitica(partido):\n",
    "    return orientacao_partidos[orientacao_partidos['Nome'].eq(partido)]['Congresso em Foco (2019)[37]'].values[0]"
   ]
  },
  {
   "cell_type": "markdown",
   "id": "fc42a7a8",
   "metadata": {},
   "source": [
    "Assim associamos cada partido com uma orientação política no nosso dataset"
   ]
  },
  {
   "cell_type": "code",
   "execution_count": null,
   "id": "d7f737ba",
   "metadata": {},
   "outputs": [],
   "source": [
    "dfResultadosPartidoMunicipio['orientacao politica'] = dfResultadosPartidoMunicipio['sigla_partido'].map(lambda x: returnOrientacaoPolitica(x))"
   ]
  },
  {
   "cell_type": "markdown",
   "id": "8998bfa5",
   "metadata": {},
   "source": [
    "Novamente, agruparemos os resultados das eleições por orientação política para depois avaliar o seu desempenho.\n",
    "<br>\n",
    "Utilizaremos a mesma noção de desempenho de anteriormente: votos de determinada orientação política em algum ano dividido pela quantidade total de votos naquele ano."
   ]
  },
  {
   "cell_type": "code",
   "execution_count": null,
   "id": "6763471a",
   "metadata": {},
   "outputs": [],
   "source": [
    "votosPorOrientacaoPolitica = dfResultadosPartidoMunicipio[dfResultadosPartidoMunicipio['turno'].eq(1)].set_index(['ano', 'orientacao politica']).groupby(level=(0, 1)).agg({\"votos_nominais\":np.sum, \"votos_nao_nominais\":np.sum}).reset_index()\n",
    "votosPorOrientacaoPolitica['votos totais'] = votosPorOrientacaoPolitica['votos_nominais'] + votosPorOrientacaoPolitica['votos_nao_nominais']"
   ]
  },
  {
   "cell_type": "code",
   "execution_count": null,
   "id": "a4baf43c",
   "metadata": {},
   "outputs": [],
   "source": [
    "def returnPorcentagemDeVotosPorOrientacao(orientacao, ano):\n",
    "    votosPartido = votosPorOrientacaoPolitica[votosPorOrientacaoPolitica['orientacao politica'].eq(orientacao) & votosPorOrientacaoPolitica['ano'].eq(ano)]['votos totais']\n",
    "    votosTotaisBairro = votosPorOrientacaoPolitica[votosPorOrientacaoPolitica['ano'].eq(ano)]['votos totais'].sum()\n",
    "    return votosPartido/votosTotaisBairro\n",
    "\n",
    "porcentagemPorOrientacaoVetorizada = np.vectorize(returnPorcentagemDeVotosPorOrientacao)\n",
    "votosPorOrientacaoPolitica['desempenho'] = porcentagemPorOrientacaoVetorizada(votosPorOrientacaoPolitica['orientacao politica'], votosPorOrientacaoPolitica['ano']) "
   ]
  },
  {
   "cell_type": "markdown",
   "id": "88c75fbc",
   "metadata": {},
   "source": [
    "Assim também podemos montar uma visualização apresentado o desempenho por ano de cada uma das orientações políticas"
   ]
  },
  {
   "cell_type": "code",
   "execution_count": null,
   "id": "4e55e020",
   "metadata": {},
   "outputs": [],
   "source": [
    "fig = px.line(votosPorOrientacaoPolitica, x=\"ano\", y=\"desempenho\", color='orientacao politica',\n",
    "             title='Desempenho de determinada ideologica política X ano')\n",
    "fig.show()"
   ]
  },
  {
   "cell_type": "markdown",
   "id": "4affae3e",
   "metadata": {},
   "source": [
    "Analogamente aos exemplos anteriores, agruparemos os resultado das orientações políticas por bairro, e calcularemos o desempenho de cada orientação política por bairro."
   ]
  },
  {
   "cell_type": "code",
   "execution_count": null,
   "id": "44f3cfca",
   "metadata": {},
   "outputs": [],
   "source": [
    "votosTotaisPartidoPorBairroPorOrientacao = dfResultadosPartidoMunicipio[dfResultadosPartidoMunicipio['turno'].eq(1)].set_index(['ano', 'bairro','orientacao politica']).groupby(level=(0, 1, 2)).agg({\"votos_nominais\":np.sum, \"votos_nao_nominais\":np.sum}).reset_index()\n",
    "\n",
    "votosTotaisPartidoPorBairroPorOrientacao['votos totais'] = votosTotaisPartidoPorBairroPorOrientacao['votos_nominais'] + votosTotaisPartidoPorBairroPorOrientacao['votos_nao_nominais']\n",
    "\n",
    "def returnPorcentagemPorBairroPorOrientacao(bairro, orientacao, ano):\n",
    "    votosPartido = votosTotaisPartidoPorBairroPorOrientacao[votosTotaisPartidoPorBairroPorOrientacao['bairro'].eq(bairro) & votosTotaisPartidoPorBairroPorOrientacao['orientacao politica'].eq(orientacao) & votosTotaisPartidoPorBairroPorOrientacao['ano'].eq(ano)]['votos totais']\n",
    "    votosTotaisBairro = votosTotaisPartidoPorBairroPorOrientacao[votosTotaisPartidoPorBairroPorOrientacao['bairro'].eq(bairro) & votosTotaisPartidoPorBairroPorOrientacao['ano'].eq(ano)]['votos totais'].sum()\n",
    "    return votosPartido/votosTotaisBairro\n",
    "\n",
    "porcentagemPorBairroPorOriencaoVetorizada = np.vectorize(returnPorcentagemPorBairroPorOrientacao)\n",
    "\n",
    "votosTotaisPartidoPorBairroPorOrientacao['desempenho por bairro'] = porcentagemPorBairroPorOriencaoVetorizada(votosTotaisPartidoPorBairroPorOrientacao['bairro'], votosTotaisPartidoPorBairroPorOrientacao['orientacao politica'], votosTotaisPartidoPorBairroPorOrientacao['ano']) "
   ]
  },
  {
   "cell_type": "markdown",
   "id": "61f15f0f",
   "metadata": {},
   "source": [
    "Construiremos uma visualização do agrupamento de orientações políticas por bairro.\n",
    "\n",
    "\n",
    "<b>Note que para avaliar o desempenho das orientações políticas em outros bairros, basta mudar o valor da variável 'bairro'.</b> "
   ]
  },
  {
   "cell_type": "code",
   "execution_count": null,
   "id": "82959b87",
   "metadata": {
    "scrolled": false
   },
   "outputs": [],
   "source": [
    "bairro = 'Méier'\n",
    "fig = px.line(votosTotaisPartidoPorBairroPorOrientacao[votosTotaisPartidoPorBairroPorOrientacao['bairro'].eq(bairro)], \n",
    "              x=\"ano\", y=\"desempenho por bairro\", \n",
    "              color='orientacao politica',\n",
    "              title='Desempenho de determinada orientação política no bairro '+bairro+' X ano')\n",
    "fig.show()"
   ]
  },
  {
   "cell_type": "markdown",
   "id": "478294db",
   "metadata": {},
   "source": [
    "Assim como para partidos específicos, podemos comparar o desempenho de alguma orientação política em diferentes bairros.\n",
    "\n",
    "<b>Note que para avaliar o desempenho de outras orientações políticas em outros bairros, basta mudar o valor das variáveis 'orientacao' e 'bairro'.</b> "
   ]
  },
  {
   "cell_type": "code",
   "execution_count": null,
   "id": "e9ce25da",
   "metadata": {},
   "outputs": [],
   "source": [
    "orientacao = 'esquerda'\n",
    "bairro = ['Bangu', 'Laranjeiras', 'Freguesia (Jacarepaguá)']\n",
    "fig = px.line(votosTotaisPartidoPorBairroPorOrientacao[votosTotaisPartidoPorBairroPorOrientacao['orientacao politica'].eq(orientacao) & votosTotaisPartidoPorBairroPorOrientacao['bairro'].isin(bairro)], \n",
    "              x=\"ano\", y=\"desempenho por bairro\", \n",
    "              color='bairro',\n",
    "              title='Desempenho do(a) '+orientacao+' nos bairros '+str(bairro)[1:-1]+' X ano')\n",
    "fig.show()"
   ]
  },
  {
   "cell_type": "markdown",
   "id": "178cfd9a",
   "metadata": {},
   "source": [
    "Agora, procuramos montar uma visualização de mapas, e dessa forma agruparemos por bairro, considerando somente o partido que teve mais votos para aquela eleição naquele bairro.\n",
    "\n",
    "Assim podemos mostar quais partidos dominaram aquele bairro em determinado ano."
   ]
  },
  {
   "cell_type": "code",
   "execution_count": null,
   "id": "fc64ea6b",
   "metadata": {},
   "outputs": [],
   "source": [
    "auxDf = dfResultadosPartidoMunicipio[dfResultadosPartidoMunicipio['turno'].eq(1)]\n",
    "\n",
    "def calcularResultadoAgrupadoPorAno(ano):\n",
    "    bairrosArray = []\n",
    "    n_votosArray = []\n",
    "    partidosArray = []\n",
    "\n",
    "    for bairro, frame in auxDf[auxDf['ano'].eq(ano)].groupby('bairro'):\n",
    "        n_votos = np.max(frame['votos_nominais'])\n",
    "        partido = auxDf[auxDf['votos_nominais'].eq(n_votos) & auxDf['bairro'].eq(bairro) & auxDf['ano'].eq(ano)]['sigla_partido'].values[0]\n",
    "        \n",
    "        n_votosArray.append(n_votos)\n",
    "        partidosArray.append(partido)\n",
    "        bairrosArray.append(bairro)\n",
    "\n",
    "    dfAgrupadoResultadosPartidoMunicipio = pd.DataFrame([bairrosArray, n_votosArray, partidosArray], \n",
    "                              index=['bairro', 'votos', 'partido']).T\n",
    "    \n",
    "    dfAgrupadoResultadosPartidoMunicipio['ano'] = [ano]*len(dfAgrupadoResultadosPartidoMunicipio)\n",
    "    \n",
    "    return dfAgrupadoResultadosPartidoMunicipio\n",
    "\n",
    "dfAgrupadoResultadosPartidoMunicipioPorAno = pd.DataFrame()\n",
    "for a in dfResultadosPartidoMunicipio['ano'].unique():\n",
    "    dfAgrupadoResultadosPartidoMunicipioPorAno = dfAgrupadoResultadosPartidoMunicipioPorAno.append(calcularResultadoAgrupadoPorAno(a))\n",
    "dfAgrupadoResultadosPartidoMunicipioPorAno.reset_index(drop=True, inplace=True)"
   ]
  },
  {
   "cell_type": "markdown",
   "id": "0ac0e83a",
   "metadata": {},
   "source": [
    "Podemos montar uma visualização de mapas, usando o geojson importado anteriormente, para avaliar como se distribuem os partidos dado os bairros do Rio de Janeiro.<br>\n",
    "\n",
    "<b>Note que para avaliar o mapa de eleições de outros anos basta mudar o valor da variável 'ano'.</b>"
   ]
  },
  {
   "cell_type": "code",
   "execution_count": null,
   "id": "969a6780",
   "metadata": {},
   "outputs": [],
   "source": [
    "ano = 2010\n",
    "fig = px.choropleth_mapbox(dfAgrupadoResultadosPartidoMunicipioPorAno[dfAgrupadoResultadosPartidoMunicipioPorAno['ano'].eq(ano)], geojson=bairros, locations='bairro', color='partido',\n",
    "                           featureidkey=\"properties.NOME\",\n",
    "                           color_continuous_scale=\"Viridis\",\n",
    "                           mapbox_style=\"carto-positron\",\n",
    "                           hover_data=['votos'],\n",
    "                           center={\"lon\": -43.1811097599, \"lat\": -22.895417528999 },\n",
    "                           title='Partido mais votado em cada bairro do Rio de Janeiro no ano '+str(ano),\n",
    "                           zoom=9\n",
    "                          )\n",
    "\n",
    "fig.show()"
   ]
  },
  {
   "cell_type": "markdown",
   "id": "06bddefe",
   "metadata": {},
   "source": [
    "Realizaremos o mesmo agrupamento para montar o mapa considerando as orientações políticas, para também montar uma visualização do mapa das orientações políticas no Rio de Janeiro."
   ]
  },
  {
   "cell_type": "code",
   "execution_count": null,
   "id": "06cb4468",
   "metadata": {},
   "outputs": [],
   "source": [
    "dfAgrupadoOrientacaoPoliticaMunicipioPorAno = dfResultadosPartidoMunicipio[dfResultadosPartidoMunicipio['turno'].eq(1)].set_index(['ano', 'orientacao politica', 'bairro']).groupby(level=(0, 1, 2)).agg({\"votos_nominais\":np.sum, \"votos_nao_nominais\":np.sum}).reset_index()\n",
    "    \n",
    "dfAgrupadoOrientacaoPoliticaMunicipioPorAno['votos totais'] = dfAgrupadoOrientacaoPoliticaMunicipioPorAno['votos_nominais'] + dfAgrupadoOrientacaoPoliticaMunicipioPorAno['votos_nao_nominais']\n",
    "\n",
    "dfOrientacaoPoliticaMunicipioMaxVotos = pd.DataFrame()\n",
    "for group, frame in dfAgrupadoOrientacaoPoliticaMunicipioPorAno.set_index(['ano', 'bairro']).groupby(level = (0, 1)):\n",
    "    n_votos = np.max(frame['votos totais'])\n",
    "    dfOrientacaoPoliticaMunicipioMaxVotos = dfOrientacaoPoliticaMunicipioMaxVotos.append(frame[frame['votos totais'].eq(n_votos)])\n",
    "\n",
    "dfOrientacaoPoliticaMunicipioMaxVotos.reset_index(inplace=True)"
   ]
  },
  {
   "cell_type": "markdown",
   "id": "41859800",
   "metadata": {},
   "source": [
    "Construindo a visualização de mapas para diferentes orientações políticas<br>\n",
    "<b>Note que para avaliar o mapa de eleições de outros anos basta mudar o valor da variável 'ano'.</b>"
   ]
  },
  {
   "cell_type": "code",
   "execution_count": null,
   "id": "b4aff5e9",
   "metadata": {
    "scrolled": false
   },
   "outputs": [],
   "source": [
    "ano = 2018\n",
    "fig = px.choropleth_mapbox(dfOrientacaoPoliticaMunicipioMaxVotos[dfOrientacaoPoliticaMunicipioMaxVotos['ano'].eq(ano)], \n",
    "                           geojson=bairros, locations='bairro', color='orientacao politica',\n",
    "                           featureidkey=\"properties.NOME\",\n",
    "                           color_continuous_scale=\"Viridis\",\n",
    "                           mapbox_style=\"carto-positron\",\n",
    "                           hover_data=['votos totais'],\n",
    "                           center={\"lon\": -43.1811097599, \"lat\": -22.895417528999 },\n",
    "                           title='Orientação política mais votada em cada bairro do Rio de Janeiro no ano '+str(ano),\n",
    "                           zoom=9\n",
    "                          )\n",
    "\n",
    "fig.show()"
   ]
  },
  {
   "cell_type": "markdown",
   "id": "e1624e86",
   "metadata": {},
   "source": [
    "# Filiação Partidária\n",
    "\n",
    "As visualizações e códigos abaixo não dizem mais respeito a quantidade de votos em eleições, e sim aos filiados a algum partido."
   ]
  },
  {
   "cell_type": "markdown",
   "id": "c4230856",
   "metadata": {},
   "source": [
    "Abaixo carregamos o dataset de Filiação Partidária da base dos dados:<br>\n",
    "![alt text](img/filiados.jpg)\n",
    "\n",
    "Usaremos este dataset para construir nossas análises propriamente ditas, observando como os filiados de determinado partido se comportam, dado ano, bairro e o cargo para o qual é a eleição.\n",
    "\n",
    "Como não temos uma coluna do tabela no [BigQuery](https://basedosdados.github.io/mais/access_data_bq/ \"Base dos dados API\") que nos diz respeito a a quantidade de filiados por ano, realizaremos uma consulta para cada ano.<br>\n",
    "Assim pegaremos o número de filiados que ainda são filiados e se filiaram antes daquele ano ou de ex-filiados que se desfiliaram depois daquele ano."
   ]
  },
  {
   "cell_type": "code",
   "execution_count": null,
   "id": "faced054",
   "metadata": {},
   "outputs": [],
   "source": [
    "if not dataAlreadyBeenGot('csv/filiados.csv'):\n",
    "    dfFiliacaoPartidaria = pd.DataFrame()\n",
    "    for ano in dfAgrupadoResultadosPartidoMunicipioPorAno['ano'].unique():\n",
    "        queryFiliacaoPartidaria = \"\"\"\n",
    "            SELECT COUNT(*) AS n_filiados, FP.secao, FP.zona, FP.sigla_partido FROM `basedosdados.br_tse_filiacao_partidaria.filiacao_partidaria` AS FP\n",
    "            WHERE FP.id_municipio_tse={} AND (FP.data_desfiliacao > '{}-12-30' OR (FP.situacao_registro = 'regular' AND FP.data_filiacao < '{}-01-01'))\n",
    "            GROUP BY FP.zona, FP.sigla_partido, FP.secao\n",
    "            ORDER BY FP.zona\"\"\".format(municipios[municipios['nome_municipio'].eq('RIO DE JANEIRO')]['codigo_tse'].values[0], ano, ano)\n",
    "\n",
    "        dfResultadoQuery = bd.read_sql(queryFiliacaoPartidaria, billing_project_id='capacitacaoufrjanalytica')\n",
    "        dfResultadoQuery['ano'] = [ano]*len(dfResultadoQuery)\n",
    "        dfFiliacaoPartidaria = dfFiliacaoPartidaria.append(dfResultadoQuery)"
   ]
  },
  {
   "cell_type": "markdown",
   "id": "195fc823",
   "metadata": {},
   "source": [
    "Novamente cruzaremos o dados de zona e seção com o dataframe criado anteriormente para termos a quantidade de filiados por bairro."
   ]
  },
  {
   "cell_type": "code",
   "execution_count": null,
   "id": "f4daf55a",
   "metadata": {},
   "outputs": [],
   "source": [
    "if not dataAlreadyBeenGot('csv/filiados.csv'):\n",
    "    dfFiliacaoPartidaria = pd.merge(dfFiliacaoPartidaria, bairrosFromZonaSecao, how='left', left_on=['secao', 'zona'], right_on = ['secao', 'zona'])\n",
    "    dfFiliacaoPartidaria.replace(np.nan, 'nao informado', inplace=True)\n"
   ]
  },
  {
   "cell_type": "markdown",
   "id": "9c46eebe",
   "metadata": {},
   "source": [
    "Assim, colapsaremos as colunas 'zona' e 'secao' e armazenaremos esse resultado em um csv para não termos que fazer download nem tratar os dados novamente"
   ]
  },
  {
   "cell_type": "code",
   "execution_count": null,
   "id": "65972bab",
   "metadata": {},
   "outputs": [],
   "source": [
    "if not dataAlreadyBeenGot('csv/filiados.csv'):\n",
    "    dfFiliacaoPartidaria = dfFiliacaoPartidaria.set_index(['ano', 'sigla_partido', 'bairro']).groupby(level=(0, 1, 2)).agg({\"n_filiados\":np.sum}).reset_index()\n",
    "    dfFiliacaoPartidaria.to_csv('csv/filiados.csv')\n",
    "else:\n",
    "    dfFiliacaoPartidaria = pd.read_csv(\"csv/filiados.csv\")"
   ]
  },
  {
   "cell_type": "markdown",
   "id": "c804217b",
   "metadata": {},
   "source": [
    "Analogamente ao caso para desempenho dos partidos em eleições, construiremos uma visualização para o número de filiados por partido em determinado ano."
   ]
  },
  {
   "cell_type": "code",
   "execution_count": null,
   "id": "b853a87d",
   "metadata": {},
   "outputs": [],
   "source": [
    "filiadosPorPartido = dfFiliacaoPartidaria.set_index(['ano', 'sigla_partido']).groupby(level=(0, 1)).agg({\"n_filiados\":np.sum}).reset_index()"
   ]
  },
  {
   "cell_type": "markdown",
   "id": "c0bab0da",
   "metadata": {},
   "source": [
    "<b>Note que para avaliar o número de filiados de outros partidos, basta mudar o valor da variável 'partido'.</b> "
   ]
  },
  {
   "cell_type": "code",
   "execution_count": null,
   "id": "bc1a2912",
   "metadata": {},
   "outputs": [],
   "source": [
    "partido = ['PSOL', 'DEM', 'REPUBLICANOS']\n",
    "fig = px.line(filiadosPorPartido[filiadosPorPartido['sigla_partido'].isin(partido)], x=\"ano\", y=\"n_filiados\", \n",
    "              color = \"sigla_partido\",\n",
    "              title='Filiados do '+str(partido)[1:-1]+' X ano')\n",
    "fig.show()"
   ]
  },
  {
   "cell_type": "markdown",
   "id": "8837bda8",
   "metadata": {},
   "source": [
    "Assim como realizado para outras visualizações também agruparemos a quantidade de filiados por partido em diferentes bairros do Rio de Janeiro."
   ]
  },
  {
   "cell_type": "code",
   "execution_count": null,
   "id": "d1e6ee5f",
   "metadata": {},
   "outputs": [],
   "source": [
    "filiadosPartidoPorBairro = dfFiliacaoPartidaria.set_index(['ano', 'bairro','sigla_partido']).groupby(level=(0, 1, 2)).agg({\"n_filiados\":np.sum}).reset_index()"
   ]
  },
  {
   "cell_type": "markdown",
   "id": "ac92631d",
   "metadata": {},
   "source": [
    "Construimos visualizações a partir desse agrupamento.\n",
    "\n",
    "<b>Note que para avaliar o número de filiados de outros partidos em outros bairros, basta mudar os valores das variáveis 'partido' e 'bairro'.</b> "
   ]
  },
  {
   "cell_type": "code",
   "execution_count": null,
   "id": "8f6d1626",
   "metadata": {
    "scrolled": false
   },
   "outputs": [],
   "source": [
    "partido = ['PT', 'PSL', 'PSOL', 'DEM']\n",
    "bairro = 'Barra da Tijuca'\n",
    "fig = px.line(filiadosPartidoPorBairro[filiadosPartidoPorBairro['sigla_partido'].isin(partido) & filiadosPartidoPorBairro['bairro'].eq(bairro)], \n",
    "              x=\"ano\", y=\"n_filiados\", \n",
    "              color='sigla_partido',\n",
    "              title='Filiados dos partido '+str(partido)[1:-1]+' no(a) '+bairro+' X ano')\n",
    "fig.show()"
   ]
  },
  {
   "cell_type": "code",
   "execution_count": null,
   "id": "4b8e8bb9",
   "metadata": {},
   "outputs": [],
   "source": [
    "partido = 'PT'\n",
    "bairro = ['Barra da Tijuca', 'Copacabana', 'Leblon']\n",
    "fig = px.line(filiadosPartidoPorBairro[filiadosPartidoPorBairro['sigla_partido'].eq(partido) & filiadosPartidoPorBairro['bairro'].isin(bairro)], \n",
    "              x=\"ano\", y=\"n_filiados\", \n",
    "              color='bairro',\n",
    "              title='Filiados dos partido '+partido+' no(a) '+str(bairro)[1:-1]+' X ano')\n",
    "fig.show()"
   ]
  },
  {
   "cell_type": "markdown",
   "id": "a04cd74d",
   "metadata": {},
   "source": [
    "# Número de filiados por orientação política\n",
    "Assim como no resultado em eleições, também avaliaremos o número de filiados por orientação política.<br>\n",
    "\n",
    "Na seguinte célula, criamos uma nova coluna orientação política, onde temos a orientação política de cada partido em cada linha."
   ]
  },
  {
   "cell_type": "code",
   "execution_count": null,
   "id": "bdcc2135",
   "metadata": {},
   "outputs": [],
   "source": [
    "dfFiliacaoPartidaria['orientacao politica'] = dfFiliacaoPartidaria['sigla_partido'].map(lambda x: returnOrientacaoPolitica(x))"
   ]
  },
  {
   "cell_type": "markdown",
   "id": "746aa9d0",
   "metadata": {},
   "source": [
    "Agruparemos o nosso dataframe por orientação política, para avaliar os filiados de cada orientação política por ano."
   ]
  },
  {
   "cell_type": "code",
   "execution_count": null,
   "id": "c634507f",
   "metadata": {},
   "outputs": [],
   "source": [
    "filiadosPorOrientacaoPolitica = dfFiliacaoPartidaria.set_index(['ano', 'orientacao politica']).groupby(level=(0, 1)).agg({\"n_filiados\":np.sum}).reset_index()"
   ]
  },
  {
   "cell_type": "markdown",
   "id": "bc665e04",
   "metadata": {},
   "source": [
    "Assim, construindo a seguinte visualização"
   ]
  },
  {
   "cell_type": "code",
   "execution_count": null,
   "id": "16d5d682",
   "metadata": {},
   "outputs": [],
   "source": [
    "fig = px.line(filiadosPorOrientacaoPolitica, x=\"ano\", y=\"n_filiados\", color='orientacao politica',\n",
    "             title='Filiados de determinada ideologica política X ano')\n",
    "fig.show()"
   ]
  },
  {
   "cell_type": "markdown",
   "id": "d8107cfd",
   "metadata": {},
   "source": [
    "Também existe a possibilidade de agruparmos o número de filiados de cada orientação política por bairro."
   ]
  },
  {
   "cell_type": "code",
   "execution_count": null,
   "id": "c803b121",
   "metadata": {},
   "outputs": [],
   "source": [
    "filiadosOrientacaoPorBairro = dfFiliacaoPartidaria.set_index(['ano', 'bairro','orientacao politica']).groupby(level=(0, 1, 2)).agg({\"n_filiados\":np.sum}).reset_index()"
   ]
  },
  {
   "cell_type": "markdown",
   "id": "27a0f0f9",
   "metadata": {},
   "source": [
    "Construindo visualizações, a cerca desse agrupamento por bairro.\n",
    "\n",
    "<b>Note que para avaliar o número de filiados de outros partidos em outros bairros, basta mudar os valores das variáveis 'orientacao' e 'bairro'.</b> "
   ]
  },
  {
   "cell_type": "code",
   "execution_count": null,
   "id": "bd981bb2",
   "metadata": {},
   "outputs": [],
   "source": [
    "orientacao = 'esquerda'\n",
    "bairro = ['Barra da Tijuca', 'Laranjeiras', 'Tanque', 'Copacabana']\n",
    "fig = px.line(filiadosOrientacaoPorBairro[filiadosOrientacaoPorBairro['bairro'].isin(bairro) & filiadosOrientacaoPorBairro['orientacao politica'].eq(orientacao)], \n",
    "              x=\"ano\", y=\"n_filiados\", color='bairro',\n",
    "             title='Filiados de partidos de '+orientacao+' nos(as) '+str(bairro)[1:-1]+' X ano')\n",
    "fig.show()"
   ]
  },
  {
   "cell_type": "code",
   "execution_count": null,
   "id": "30295825",
   "metadata": {},
   "outputs": [],
   "source": [
    "bairro = 'Méier'\n",
    "fig = px.line(filiadosOrientacaoPorBairro[filiadosOrientacaoPorBairro['bairro'].eq(bairro)], \n",
    "              x=\"ano\", y=\"n_filiados\", color='orientacao politica',\n",
    "             title='Filiados de determinada ideologica política no(a) '+bairro+' X ano')\n",
    "fig.show()"
   ]
  },
  {
   "cell_type": "markdown",
   "id": "9dffd967",
   "metadata": {},
   "source": [
    "Abaixo construimos o dataframe para montar a nossa visualização de mapas, agruparemos os resultado por bairro e por ano, tendo para cada valor de bairro e ano o partido com mais votos naquele ano e naquele bairro. "
   ]
  },
  {
   "cell_type": "code",
   "execution_count": null,
   "id": "655de563",
   "metadata": {},
   "outputs": [],
   "source": [
    "def calcularResultadoAgrupadoPorAno(ano):\n",
    "    bairrosArray = []\n",
    "    n_filiadosArray = []\n",
    "    partidosArray = []\n",
    "    \n",
    "    for bairro, frame in dfFiliacaoPartidaria[dfFiliacaoPartidaria['ano'].eq(ano)].groupby('bairro'):\n",
    "        n_filiados = np.max(frame['n_filiados'])\n",
    "        partido = dfFiliacaoPartidaria[dfFiliacaoPartidaria['n_filiados'].eq(n_filiados) & dfFiliacaoPartidaria['bairro'].eq(bairro)]['sigla_partido'].values[0]\n",
    "        \n",
    "            \n",
    "        n_filiadosArray.append(n_filiados)\n",
    "        partidosArray.append(partido)\n",
    "        bairrosArray.append(bairro)\n",
    "        \n",
    "    \n",
    "    dfAgrupadoFiliacaoPartidaria = pd.DataFrame([bairrosArray, n_filiadosArray, partidosArray], \n",
    "                              index=['bairro', 'filiados', 'partido']).T\n",
    "    \n",
    "    dfAgrupadoFiliacaoPartidaria['ano'] = [ano]*len(dfAgrupadoFiliacaoPartidaria)\n",
    "    \n",
    "    return dfAgrupadoFiliacaoPartidaria\n",
    "\n",
    "dfAgrupadoFiliacaoPartidariaPorAno = pd.DataFrame()\n",
    "for a in dfFiliacaoPartidaria['ano'].unique():\n",
    "    dfAgrupadoFiliacaoPartidariaPorAno = dfAgrupadoFiliacaoPartidariaPorAno.append(calcularResultadoAgrupadoPorAno(a))\n",
    "dfAgrupadoFiliacaoPartidariaPorAno.reset_index(drop=True, inplace=True)                     "
   ]
  },
  {
   "cell_type": "markdown",
   "id": "27805eae",
   "metadata": {},
   "source": [
    "A partir desse dataframe, podemos construir uma visualização de mapas para o número de filiados no Rio de Janeiro.\n",
    "\n",
    "<b>Note que para avaliar o mapa de filiados de outros anos basta mudar o valor da variável 'ano'.</b>"
   ]
  },
  {
   "cell_type": "code",
   "execution_count": null,
   "id": "9c09cba6",
   "metadata": {
    "scrolled": false
   },
   "outputs": [],
   "source": [
    "ano = 2002\n",
    "fig = px.choropleth_mapbox(dfAgrupadoFiliacaoPartidariaPorAno[dfAgrupadoFiliacaoPartidariaPorAno['ano'].eq(ano)], geojson=bairros, locations='bairro', color='partido',\n",
    "                           featureidkey=\"properties.NOME\",\n",
    "                           color_continuous_scale=\"Viridis\",\n",
    "                           mapbox_style=\"carto-positron\",\n",
    "                           hover_data=['filiados'],\n",
    "                           title='Partido com mais filiados em cada bairro do Rio de Janeiro no ano '+str(ano),\n",
    "                           center={\"lon\": -43.1811097599, \"lat\": -22.895417528999 },\n",
    "                           zoom=9\n",
    "                          )\n",
    "\n",
    "fig.show()"
   ]
  },
  {
   "cell_type": "markdown",
   "id": "917c4d1e",
   "metadata": {},
   "source": [
    "Analogamente ao mapa anterior, vamos agrupar por bairro e ano, no entanto, agora nos importaremos com as orientações políticas que receberam mais votos dado um ano e um bairro."
   ]
  },
  {
   "cell_type": "code",
   "execution_count": null,
   "id": "d3e14b60",
   "metadata": {},
   "outputs": [],
   "source": [
    "dfAgrupadoFiliacaoOrientacaoPoliticaPorAno = dfFiliacaoPartidaria.set_index(['ano', 'orientacao politica', 'bairro']).groupby(level=(0, 1, 2)).agg({\"n_filiados\":np.sum}).reset_index()\n",
    "\n",
    "dfOrientacaoPoliticaMunicipioMaxFiliados = pd.DataFrame()\n",
    "for group, frame in dfAgrupadoFiliacaoOrientacaoPoliticaPorAno.set_index(['ano', 'bairro']).groupby(level = (0, 1)):\n",
    "    n_filiados = np.max(frame['n_filiados'])\n",
    "    dfOrientacaoPoliticaMunicipioMaxFiliados = dfOrientacaoPoliticaMunicipioMaxFiliados.append(frame[frame['n_filiados'].eq(n_filiados)])\n",
    "\n",
    "dfOrientacaoPoliticaMunicipioMaxFiliados.reset_index(inplace=True)"
   ]
  },
  {
   "cell_type": "markdown",
   "id": "503b5adf",
   "metadata": {},
   "source": [
    "A partir desse dataframe, podemos construir uma visualização de mapas para o número de filiados no Rio de Janeiro.\n",
    "\n",
    "<b>Note que para avaliar o mapa de filiados de outros anos basta mudar o valor da variável 'ano'.</b>"
   ]
  },
  {
   "cell_type": "code",
   "execution_count": null,
   "id": "a4601723",
   "metadata": {},
   "outputs": [],
   "source": [
    "ano = 2020\n",
    "fig = px.choropleth_mapbox(dfOrientacaoPoliticaMunicipioMaxFiliados[dfOrientacaoPoliticaMunicipioMaxFiliados['ano'].eq(ano)], \n",
    "                           geojson=bairros, locations='bairro', color='orientacao politica',\n",
    "                           featureidkey=\"properties.NOME\",\n",
    "                           color_continuous_scale=\"Viridis\",\n",
    "                           mapbox_style=\"carto-positron\",\n",
    "                           hover_data=['n_filiados'],\n",
    "                           title='Orientação política com mais filiados em cada bairro do Rio de Janeiro no ano '+str(ano),\n",
    "                           center={\"lon\": -43.1811097599, \"lat\": -22.895417528999 },\n",
    "                           zoom=9\n",
    "                          )\n",
    "\n",
    "fig.show()"
   ]
  },
  {
   "cell_type": "markdown",
   "id": "0cefb877",
   "metadata": {},
   "source": [
    "# Correlação entre o Número de votos e Filiação Pártidaria\n",
    "\n",
    "A partir desse pontos começamos a estudar as correlações entre a quantidade de filiados de determinado partido e a quantidade de votos que esse partido recebe em determinada eleição"
   ]
  },
  {
   "cell_type": "markdown",
   "id": "058993be",
   "metadata": {},
   "source": [
    "Nas seguintes células iremos agrupar a quantidade de votos por ano, partido, cargo e bairo<br>\n",
    "Assim como iremos agrupar a quantidade de filiados por ano, partido e bairro <br>\n",
    "\n",
    "Juntaremos esses dataframes com a intenção de construir um grafico de distribuição dos votos pela filiação partidária na cidade do Rio de Janeiro."
   ]
  },
  {
   "cell_type": "code",
   "execution_count": null,
   "id": "1d8c2405",
   "metadata": {},
   "outputs": [],
   "source": [
    "dfVotosAgrupados = dfResultadosPartidoMunicipio[dfResultadosPartidoMunicipio['turno'].ne(2)].set_index(['ano', 'sigla_partido', 'cargo', 'bairro']).groupby(level=(0, 1, 2, 3)).agg({\"votos_nominais\":np.sum, \"votos_nao_nominais\":np.sum}).reset_index()\n",
    "dfVotosAgrupados.columns = ['ano', 'partido', 'cargo', 'bairro', 'votos_nominais', 'votos_nao_nominais']\n",
    "\n",
    "dfVotosAgrupados['votos'] = dfVotosAgrupados['votos_nominais'].values + dfVotosAgrupados['votos_nao_nominais'].values"
   ]
  },
  {
   "cell_type": "code",
   "execution_count": null,
   "id": "48d76b68",
   "metadata": {},
   "outputs": [],
   "source": [
    "dfFiliadosAgrupados = dfFiliacaoPartidaria.set_index(['ano', 'sigla_partido', 'bairro']).groupby(level=(0, 1, 2)).agg({\"n_filiados\":np.sum}).reset_index()\n",
    "dfFiliadosAgrupados.columns = ['ano', 'partido', 'bairro', 'filiados']"
   ]
  },
  {
   "cell_type": "code",
   "execution_count": null,
   "id": "b6c98bba",
   "metadata": {},
   "outputs": [],
   "source": [
    "new_df = pd.merge(dfFiliadosAgrupados, dfVotosAgrupados,  how='inner', on=['ano', 'partido', 'bairro'])"
   ]
  },
  {
   "cell_type": "markdown",
   "id": "87724b00",
   "metadata": {},
   "source": [
    "Após juntar ambos os dataframes convertemos os valores de filiados e bairros que iremos usar para inteiro."
   ]
  },
  {
   "cell_type": "code",
   "execution_count": null,
   "id": "fcca8403",
   "metadata": {},
   "outputs": [],
   "source": [
    "new_df['filiados'] = new_df['filiados'].values.astype(int)\n",
    "new_df['votos'] = new_df['votos'].values.astype(int)"
   ]
  },
  {
   "cell_type": "markdown",
   "id": "675c620e",
   "metadata": {},
   "source": [
    "Desconsideraremos a coluna cargos para construir a correlação, visto que, essa informação não faz sentido quando pensamos em filação partidária, assim não sendo possível usar essa informação na correlação entre filiação partidária e número de votos"
   ]
  },
  {
   "cell_type": "code",
   "execution_count": null,
   "id": "c2bd9f11",
   "metadata": {},
   "outputs": [],
   "source": [
    "dfWithoutCargos = new_df.set_index(['ano', 'partido', 'bairro']).groupby(level=(0, 1, 2)).agg({\"votos\":np.sum, \"filiados\":np.max}).reset_index()"
   ]
  },
  {
   "cell_type": "markdown",
   "id": "2ebbd1a2",
   "metadata": {},
   "source": [
    "Realizamos uma regressão linear do número de filiados pelo número de votos para mostrar a reta que tenta explicar a relação entre os dois"
   ]
  },
  {
   "cell_type": "code",
   "execution_count": null,
   "id": "89a7e04a",
   "metadata": {},
   "outputs": [],
   "source": [
    "reg = LinearRegression().fit(dfWithoutCargos['filiados'].values.reshape(-1, 1),dfWithoutCargos['votos'].values )"
   ]
  },
  {
   "cell_type": "markdown",
   "id": "dd6582ea",
   "metadata": {},
   "source": [
    "Construimos uma visualização, sendo um gráfico de distriuição do número de filiados pelo número de votos, e uma reta que foi construida pela regressão linear, sendo a reta que melhor aproxima esse gráfico de distribuição."
   ]
  },
  {
   "cell_type": "code",
   "execution_count": null,
   "id": "f1d996c5",
   "metadata": {},
   "outputs": [],
   "source": [
    "fig = px.scatter(dfWithoutCargos, x=\"filiados\", y=\"votos\", color='partido', hover_data=['ano', 'bairro'])\n",
    "\n",
    "fig.add_trace(\n",
    "    go.Scatter(\n",
    "        x=dfWithoutCargos['filiados'].values,\n",
    "        y=reg.predict(dfWithoutCargos['filiados'].values.reshape(-1, 1)),\n",
    "        mode=\"lines\",\n",
    "        line=go.scatter.Line(color=\"gray\"),\n",
    "        showlegend=False)\n",
    ")\n",
    "fig.update_layout(\n",
    "        title='Número de votos X Número de filiados',\n",
    ")\n",
    "fig.show()"
   ]
  },
  {
   "cell_type": "markdown",
   "id": "c4e72cc4",
   "metadata": {},
   "source": [
    "Abaixo está a correlação entre ambas as variáveis"
   ]
  },
  {
   "cell_type": "code",
   "execution_count": null,
   "id": "3608c08b",
   "metadata": {},
   "outputs": [],
   "source": [
    "dfWithoutCargos[['filiados', 'votos']].corr()"
   ]
  },
  {
   "cell_type": "markdown",
   "id": "79bf01bc",
   "metadata": {},
   "source": [
    "No entanto, para uma análise mais aprofundada, precisamos avaliar essa correlação em diferentes contextos.\n",
    "\n",
    "Abaixo seguem os dataframes com as correlações entre filiação partidária e número de votos, dado determinado partido, bairro ou cargo de eleição"
   ]
  },
  {
   "cell_type": "code",
   "execution_count": null,
   "id": "673bfdd1",
   "metadata": {},
   "outputs": [],
   "source": [
    "dfPartidos = pd.DataFrame({'partido': dfWithoutCargos[:-1]['partido'].unique()})\n",
    "dfPartidos['corr'] = dfPartidos['partido'].map(lambda x: stats.pearsonr(dfWithoutCargos[dfWithoutCargos['partido'].eq(x)]['filiados'], dfWithoutCargos[dfWithoutCargos['partido'].eq(x)]['votos'])[0])\n",
    "dfPartidos.head()"
   ]
  },
  {
   "cell_type": "code",
   "execution_count": null,
   "id": "8a5c1133",
   "metadata": {
    "scrolled": false
   },
   "outputs": [],
   "source": [
    "dfBairros = pd.DataFrame({'bairro': dfWithoutCargos['bairro'].unique()})\n",
    "dfBairros['corr'] = dfBairros['bairro'].map(lambda x: stats.pearsonr(dfWithoutCargos[dfWithoutCargos['bairro'].eq(x)]['filiados'], dfWithoutCargos[dfWithoutCargos['bairro'].eq(x)]['votos'])[0])\n",
    "\n",
    "dfBairros.head()"
   ]
  },
  {
   "cell_type": "code",
   "execution_count": null,
   "id": "2fb9548e",
   "metadata": {},
   "outputs": [],
   "source": [
    "dfCargos = pd.DataFrame({'cargo': new_df['cargo'].unique()})\n",
    "dfCargos['corr'] = dfCargos['cargo'].map(lambda x: stats.pearsonr(new_df[new_df['cargo'].eq(x)]['filiados'], new_df[new_df['cargo'].eq(x)]['votos'])[0])\n",
    "\n",
    "dfCargos.head()"
   ]
  },
  {
   "cell_type": "markdown",
   "id": "8fedc252",
   "metadata": {},
   "source": [
    "Para analisar bem essa correlação dentro do contexto de cada partido especificamente, realizaremos uma regressão linear dessas duas variáveis (Filiação partidária e Número de votos) para cada partido, para conseguirmos construir uma visualização do gráfico de distribuição com a reta que melhor aproxima tal gráfico"
   ]
  },
  {
   "cell_type": "code",
   "execution_count": null,
   "id": "9d8607ed",
   "metadata": {},
   "outputs": [],
   "source": [
    "regDictPartido = {}\n",
    "for partido in dfWithoutCargos['partido'].unique():\n",
    "    regDictPartido[partido] = LinearRegression().fit(dfWithoutCargos[dfWithoutCargos['partido'].eq(partido)]['filiados'].values.reshape(-1, 1),dfWithoutCargos[dfWithoutCargos['partido'].eq(partido)]['votos'].values )"
   ]
  },
  {
   "cell_type": "markdown",
   "id": "7d04f91d",
   "metadata": {},
   "source": [
    "Abaixo, construimos a visualização com o gráfico de distribuição do Número de votos X Número de filiados do partido, e também mostramos a reta que melhor aproxima os pontos no gráfico de distribuição.\n",
    "\n",
    "<b>Note que para mostrar o gráfico de distribuição de outro partido, basta mudar o valor da variável 'partido'</b>"
   ]
  },
  {
   "cell_type": "code",
   "execution_count": null,
   "id": "45ba1997",
   "metadata": {
    "scrolled": false
   },
   "outputs": [],
   "source": [
    "partido = 'NOVO'\n",
    "fig = px.scatter(dfWithoutCargos[dfWithoutCargos['partido'].eq(partido)], x=\"filiados\", y=\"votos\", color='bairro', hover_data=['ano', 'bairro'])\n",
    "\n",
    "fig.add_trace(\n",
    "    go.Scatter(\n",
    "        x=dfWithoutCargos[dfWithoutCargos['partido'].eq(partido)]['filiados'].values,\n",
    "        y=regDictPartido[partido].predict(dfWithoutCargos[dfWithoutCargos['partido'].eq(partido)]['filiados'].values.reshape(-1, 1)),\n",
    "        mode=\"lines\",\n",
    "        line=go.scatter.Line(color=\"gray\"),\n",
    "        showlegend=False)\n",
    ")\n",
    "\n",
    "fig.update_layout(\n",
    "        title='Número de votos X Número de filiados do partido '+partido,\n",
    ")\n",
    "fig.show()"
   ]
  },
  {
   "cell_type": "markdown",
   "id": "b2efda1c",
   "metadata": {},
   "source": [
    "Analogamente para os bairros, realizaremos uma regressão linear dessas duas variáveis (Filiação partidária e Número de votos) para cada bairro, para conseguirmos construir uma visualização do gráfico de distribuição com a reta que melhor aproxima tal gráfico"
   ]
  },
  {
   "cell_type": "code",
   "execution_count": null,
   "id": "598f3a76",
   "metadata": {},
   "outputs": [],
   "source": [
    "regDictBairro = {}\n",
    "\n",
    "for bairro in dfWithoutCargos['bairro'].unique():\n",
    "    regDictBairro[bairro] = LinearRegression().fit(dfWithoutCargos[dfWithoutCargos['bairro'].eq(bairro)]['filiados'].values.reshape(-1, 1),dfWithoutCargos[dfWithoutCargos['bairro'].eq(bairro)]['votos'].values )"
   ]
  },
  {
   "cell_type": "markdown",
   "id": "996305aa",
   "metadata": {},
   "source": [
    "Abaixo, construimos a visualização com o gráfico de distribuição do Número de votos X Número de filiados em determinado bairro, e também mostramos a reta que melhor aproxima os pontos no gráfico de distribuição\n",
    "\n",
    "<b>Note que para mostrar o gráfico de distribuição em outro bairro, basta mudar o valor da variável 'bairro'</b>"
   ]
  },
  {
   "cell_type": "code",
   "execution_count": null,
   "id": "81f253d2",
   "metadata": {},
   "outputs": [],
   "source": [
    "bairro = 'Cidade Universitária'\n",
    "fig = px.scatter(dfWithoutCargos[dfWithoutCargos['bairro'].eq(bairro)], x=\"filiados\", y=\"votos\", color='partido', hover_data=['ano', 'bairro'])\n",
    "\n",
    "fig.add_trace(\n",
    "    go.Scatter(\n",
    "        x=dfWithoutCargos[dfWithoutCargos['bairro'].eq(bairro)]['filiados'].values,\n",
    "        y=regDictBairro[bairro].predict(dfWithoutCargos[dfWithoutCargos['bairro'].eq(bairro)]['filiados'].values.reshape(-1, 1)),\n",
    "        mode=\"lines\",\n",
    "        line=go.scatter.Line(color=\"gray\"),\n",
    "        showlegend=False)\n",
    ")\n",
    "fig.update_layout(\n",
    "        title='número de votos X número de filiados em '+bairro,\n",
    ")\n",
    "fig.show()"
   ]
  },
  {
   "cell_type": "markdown",
   "id": "3dab9f47",
   "metadata": {},
   "source": [
    "# Avaliando quais características dos partidos influenciam mais para uma maior correlação entre Filiação Partidária e Número de votos.\n",
    "\n",
    "Temos em mãos somente uma informação referente aos partidos, que é a 'orientação política', dessa forma, vamos avaliar o quanto tal característica influencia na correlação entre Filiação Partidária e Número de Votos."
   ]
  },
  {
   "cell_type": "code",
   "execution_count": null,
   "id": "c9377b60",
   "metadata": {},
   "outputs": [],
   "source": [
    "dfPartidos['orientacao politica'] = dfPartidos['partido'].map(lambda x: orientacao_partidos[orientacao_partidos['Nome'].eq(x)]['Congresso em Foco (2019)[37]'].iloc[0])"
   ]
  },
  {
   "cell_type": "markdown",
   "id": "138977ca",
   "metadata": {},
   "source": [
    "Abaixo definimos as funções para cálculo da Entropia (calcularEntropia) e Informação Mútua (calcularGanho), que irão nos auxiliar a determinar a relação de dependência entre a orientação política e a correlação"
   ]
  },
  {
   "cell_type": "code",
   "execution_count": null,
   "id": "db40ec8d",
   "metadata": {},
   "outputs": [],
   "source": [
    "def calcularEntropia(df, coluna):\n",
    "    values = df[coluna].unique()\n",
    "    entropia = 0\n",
    "    for i in values:\n",
    "        pi = len(df[df[coluna].eq(i)])/len(df)\n",
    "        entropia += pi*np.log2(pi)\n",
    "    return -entropia\n",
    "\n",
    "def calcularGanho(df, resultado, coluna):\n",
    "    values = df[coluna].unique()\n",
    "    ganho = 0\n",
    "    for i in values:\n",
    "        pi = len(df[df[coluna].eq(i)])/len(df)\n",
    "        ganho += pi * calcularEntropia(df[df[coluna].eq(i)], resultado)\n",
    "    ganho = calcularEntropia(df, resultado) - ganho\n",
    "    return ganho"
   ]
  },
  {
   "cell_type": "markdown",
   "id": "b8031fc8",
   "metadata": {},
   "source": [
    "Para usarmos o cálculo de Informação Mútua, discretizaremos a coluna de correlação, usando as seguintes funções:"
   ]
  },
  {
   "cell_type": "code",
   "execution_count": null,
   "id": "169f9197",
   "metadata": {},
   "outputs": [],
   "source": [
    "def retornarValorDiscretizado(x, minValue, maxValue, bins):\n",
    "    for i in range(1, bins + 1):\n",
    "        if x <= minValue + i * ((maxValue - minValue)/bins):\n",
    "            return str(round(minValue + (i-1) * ((maxValue - minValue)/bins), 2))+ \" - \" + str(round(minValue + i * ((maxValue - minValue)/bins), 2))\n",
    "\n",
    "def discretizar(i):\n",
    "    minValue = np.min(i)\n",
    "    maxValue = np.max(i)\n",
    "    bins = int(np.sqrt(len(i)))\n",
    "            \n",
    "    return i.map(lambda v:retornarValorDiscretizado(v, minValue, maxValue, bins))\n",
    "\n",
    "dfPartidos['corr discretizada'] = discretizar(dfPartidos['corr'])"
   ]
  },
  {
   "cell_type": "markdown",
   "id": "490060c5",
   "metadata": {},
   "source": [
    "Abaixo mostramos o dataframe para mostrar o resultado da Informação mútua na coluna 'orientacao politica'"
   ]
  },
  {
   "cell_type": "code",
   "execution_count": null,
   "id": "b3041b83",
   "metadata": {},
   "outputs": [],
   "source": [
    "partidosInformacaoMutua = pd.DataFrame()\n",
    "\n",
    "partidosInformacaoMutua = partidosInformacaoMutua.append({'coluna': 'orientacao politica',\n",
    "                                                        'informação mutua': calcularGanho(dfPartidos, 'corr discretizada', 'orientacao politica')},\n",
    "                                                        ignore_index=True)"
   ]
  },
  {
   "cell_type": "markdown",
   "id": "06c0893d",
   "metadata": {},
   "source": [
    "A visualização será um gráfico de barras com uma única barra, que indica a Informação Mútua da variável Orientação Política pela variável correlação discretizada."
   ]
  },
  {
   "cell_type": "code",
   "execution_count": null,
   "id": "591d94e4",
   "metadata": {},
   "outputs": [],
   "source": [
    "fig = px.bar(partidosInformacaoMutua, x='coluna', y='informação mutua', color='coluna',\n",
    "            title='Informação Mútua por coluna dos Partidos')\n",
    "fig.show()"
   ]
  },
  {
   "cell_type": "markdown",
   "id": "0c47efe0",
   "metadata": {},
   "source": [
    "Abaixo podemos ver a correlação média de cada um dos grupos para orientação política <br>\n"
   ]
  },
  {
   "cell_type": "code",
   "execution_count": null,
   "id": "345509ae",
   "metadata": {},
   "outputs": [],
   "source": [
    "partidosCorrMediaOrientacaoPolitica = dfPartidos.groupby('orientacao politica').agg({'corr': np.average}).reset_index()\n",
    "\n",
    "fig = px.bar(partidosCorrMediaOrientacaoPolitica, x='orientacao politica', y='corr', color='orientacao politica',\n",
    "            title='Correlação media por orientacao politica')\n",
    "fig.show()"
   ]
  },
  {
   "cell_type": "markdown",
   "id": "51d076ae",
   "metadata": {},
   "source": [
    "# Avaliando quais características dos bairros influenciam mais para uma maior correlação entre Filiação Partidária e Número de votos.\n",
    "\n",
    "Realizaremos um processo análogo para as informações que termos sobre os bairros, com a exceção de que agora temos mais informações sobre cada um dos bairros.\n",
    "\n",
    "\n",
    "Para isso usaremos a tabela presente em [Lista do bairros do Rio de Janeiro por IDH](https://pt.wikipedia.org/wiki/Lista_de_bairros_do_Rio_de_Janeiro_por_IDH)\n",
    "\n",
    "Assim temos algumas variáveis sobre os bairros que podemos usar para explicar a correlação"
   ]
  },
  {
   "cell_type": "markdown",
   "id": "d46a45d7",
   "metadata": {},
   "source": [
    "Nas seguintes células realizaremos o tratamentos dos dados coletados da wikipedia para os cruzamos com os dataframe das correlações por bairros"
   ]
  },
  {
   "cell_type": "code",
   "execution_count": null,
   "id": "96dd14b0",
   "metadata": {},
   "outputs": [],
   "source": [
    "bairro_idh = pd.read_csv('csv/bairro_idh.csv')\n",
    "bairro_idh = bairro_idh.iloc[1:]\n",
    "bairro_idh.columns = ['N', 'bairro', 'exp de vida', 'alfabetizacao', 'frequencia escolar', 'renda per capita' ,'IL', 'IE', 'IR', 'IDH']\n",
    "bairro_idh = bairro_idh.replace(to_replace ='\\[\\w\\]', value = '', regex = True)\n",
    "bairro_idh.replace(to_replace =',', value = '.', regex = True, inplace=True)\n",
    "        \n",
    "cols=[i for i in bairro_idh.columns if i not in [\"N\",\"bairro\"]]\n",
    "for col in cols:\n",
    "    bairro_idh[col]=pd.to_numeric(bairro_idh[col])"
   ]
  },
  {
   "cell_type": "code",
   "execution_count": null,
   "id": "e2741702",
   "metadata": {
    "scrolled": false
   },
   "outputs": [],
   "source": [
    "dfBairros = pd.merge(dfBairros, bairro_idh,  how='inner', left_on=['bairro'], right_on = ['bairro'])"
   ]
  },
  {
   "cell_type": "markdown",
   "id": "46bd0cd8",
   "metadata": {},
   "source": [
    "Usaremos o arquivo 'bairro_ids.csv', para termos a Região de cada um dos bairros do Rio de Janeiro, tal tabela está presente em [Lista de bairros do Rio de Janeiro por Índice de Desenvolvimento Social](https://pt.wikipedia.org/wiki/Lista_de_bairros_do_Rio_de_Janeiro_por_%C3%8Dndice_de_Desenvolvimento_Social)"
   ]
  },
  {
   "cell_type": "code",
   "execution_count": null,
   "id": "cb9041a0",
   "metadata": {},
   "outputs": [],
   "source": [
    "bairro_ids = pd.read_csv('csv/bairro_ids.csv')\n",
    "bairro_ids.columns = ['N', 'bairro', 'R A', 'regiao', 'IDS']\n",
    "bairro_ids.replace(to_replace =',', value = '.', regex = True, inplace=True)\n",
    "bairro_ids['IDS'] = pd.to_numeric(bairro_ids['IDS'])"
   ]
  },
  {
   "cell_type": "code",
   "execution_count": null,
   "id": "13ec1d8c",
   "metadata": {},
   "outputs": [],
   "source": [
    "dfBairros = pd.merge(dfBairros, bairro_ids.loc[:, ~bairro_ids.columns.isin(['N'])],  how='inner', left_on=['bairro'], right_on = ['bairro'])"
   ]
  },
  {
   "cell_type": "markdown",
   "id": "7dd5a509",
   "metadata": {},
   "source": [
    "Assim, discretizamos as nossas colunas numéricas, para assim podermos usar o cálculo da Informação Mútua"
   ]
  },
  {
   "cell_type": "code",
   "execution_count": null,
   "id": "21fde675",
   "metadata": {},
   "outputs": [],
   "source": [
    "dfBairros['exp de vida discretizada'] = discretizar(dfBairros['exp de vida'])\n",
    "dfBairros['alfabetizacao discretizada'] = discretizar(dfBairros['alfabetizacao'])\n",
    "dfBairros['frequencia escolar discretizada'] = discretizar(dfBairros['frequencia escolar'])\n",
    "dfBairros['renda per capita discretizada'] = discretizar(dfBairros['renda per capita'])\n",
    "dfBairros['corr discretizada'] = discretizar(dfBairros['corr'])"
   ]
  },
  {
   "cell_type": "markdown",
   "id": "aa39b2f0",
   "metadata": {},
   "source": [
    "Construimos um dataframe com os valores da Informação Mútua para cada uma das colunas discretizadas e da coluna 'regiao' pela correlação da Filiação Partidária pelo Número de votos. "
   ]
  },
  {
   "cell_type": "code",
   "execution_count": null,
   "id": "fde57e5d",
   "metadata": {},
   "outputs": [],
   "source": [
    "bairrosInformacaoMutua = pd.DataFrame()\n",
    "\n",
    "for c in ['exp de vida discretizada', 'alfabetizacao discretizada', 'frequencia escolar discretizada', 'renda per capita discretizada', 'regiao']:\n",
    "    bairrosInformacaoMutua = bairrosInformacaoMutua.append({'coluna': c, \n",
    "                                                            'informação mutua': calcularGanho(dfBairros, 'corr discretizada', c)},\n",
    "                                                           ignore_index=True)"
   ]
  },
  {
   "cell_type": "markdown",
   "id": "7f4d8226",
   "metadata": {},
   "source": [
    "Abaixo temos uma visualização em gráfico de barras para cada coluna com o valor da sua respectiva Informação Mútua"
   ]
  },
  {
   "cell_type": "code",
   "execution_count": null,
   "id": "4d109f93",
   "metadata": {},
   "outputs": [],
   "source": [
    "fig = px.bar(bairrosInformacaoMutua, x='coluna', y='informação mutua', color='coluna',\n",
    "            title='Informação Mútua por coluna dos Bairros')\n",
    "fig.show()"
   ]
  },
  {
   "cell_type": "markdown",
   "id": "5f50c0cb",
   "metadata": {},
   "source": [
    "Na seguintes células temos um gráficos de barras para cada coluna do dataframe de Bairros, cada um dos gráficos de barras mostra a correlação média entre Filiação partidária e o Número de filiados para todos os possíveis valores das colunas"
   ]
  },
  {
   "cell_type": "code",
   "execution_count": null,
   "id": "da63847c",
   "metadata": {},
   "outputs": [],
   "source": [
    "bairrosCorrMediaoRegiao = dfBairros.groupby('regiao').agg({'corr': np.average}).reset_index()\n",
    "\n",
    "fig = px.bar(bairrosCorrMediaoRegiao, x='regiao', y='corr', color='regiao',\n",
    "            title='Correlação media por região')\n",
    "fig.show()"
   ]
  },
  {
   "cell_type": "code",
   "execution_count": null,
   "id": "25bc0b1c",
   "metadata": {},
   "outputs": [],
   "source": [
    "bairrosCorrMediaExpDeVida = dfBairros.groupby('exp de vida discretizada').agg({'corr': np.average}).reset_index()\n",
    "\n",
    "fig = px.bar(bairrosCorrMediaExpDeVida, x='exp de vida discretizada', y='corr', color='exp de vida discretizada',\n",
    "            title='Correlação media por Expectativa de Vida')\n",
    "fig.show()"
   ]
  },
  {
   "cell_type": "code",
   "execution_count": null,
   "id": "15176148",
   "metadata": {},
   "outputs": [],
   "source": [
    "bairrosCorrMediaRenda = dfBairros.sort_values('renda per capita').groupby('renda per capita discretizada', sort=False).agg({'corr': np.average}).reset_index()\n",
    "\n",
    "fig = px.bar(bairrosCorrMediaRenda, x='renda per capita discretizada', y='corr', color='renda per capita discretizada',\n",
    "            title='Correlação media por Renda per Capita')\n",
    "fig.show()"
   ]
  },
  {
   "cell_type": "code",
   "execution_count": null,
   "id": "bcbf4a27",
   "metadata": {},
   "outputs": [],
   "source": [
    "bairrosCorrMediaAlfabetizacao = dfBairros.sort_values('alfabetizacao').groupby('alfabetizacao discretizada', sort=False).agg({'corr': np.average}).reset_index()\n",
    "\n",
    "\n",
    "fig = px.bar(bairrosCorrMediaAlfabetizacao, x='alfabetizacao discretizada', y='corr', color='alfabetizacao discretizada',\n",
    "            title='Correlação media por Alfabetização')\n",
    "fig.show()"
   ]
  },
  {
   "cell_type": "code",
   "execution_count": null,
   "id": "2fd8562a",
   "metadata": {},
   "outputs": [],
   "source": [
    "bairrosCorrMediaFrequenciaEscolar = dfBairros.sort_values('frequencia escolar').groupby('frequencia escolar discretizada', sort=False).agg({'corr': np.average}).reset_index()\n",
    "\n",
    "\n",
    "fig = px.bar(bairrosCorrMediaFrequenciaEscolar, x='frequencia escolar discretizada', y='corr', color='frequencia escolar discretizada',\n",
    "            title='Correlação media por Frequência Escolar')\n",
    "fig.show()"
   ]
  },
  {
   "cell_type": "markdown",
   "id": "0aa45fcf",
   "metadata": {},
   "source": [
    "# Um modelo de clusterização para classificar bairros do Rio de Janeiro\n",
    "\n",
    "Nas seguintes células, usaremos o algoritmo k-means para clusterizar os bairros do Rio de Janeiro, considerando o desempenho de orientações políticas naquele bairro, e o número de filiados de determinada orientação política em tal bairro do Rio de Janeiro.\n",
    "\n",
    "A ideia por trás dessa clusterização é entender com mais precisão como os diferentes bairros do Rio de Janeiro se comportam em eleições.\n",
    "\n",
    "Assim calcularemos a quantidade de votos que as orientações tiveram em cada bairro, assim como a quantidade de filiados que as orientações tem em cada bairro.<br>\n",
    "Após isso, teremos mais 6 colunas em nosso dataframe 3 representado a quantidade de votos em cada uma das orientações políticas e outra 3 representando a quantidade de filiados de cada uma da orientações política para cada bairro.\n",
    "\n",
    "Normalizaremos essas 6 variáveis, usando o método do sklearn 'StandardScaler', e realizaremos duas clusterizações, uma será para os votos de cada orientação política e outra para os filiados de cada orientação política."
   ]
  },
  {
   "cell_type": "code",
   "execution_count": null,
   "id": "69ba9dc5",
   "metadata": {},
   "outputs": [],
   "source": [
    "def desempenhoVotos(orientacao, bairro):\n",
    "    votosPorBairroPorOrientacao = dfForKmeans[dfForKmeans['orientacao politica'].eq(orientacao) & dfForKmeans['bairro'].eq(bairro)]['votos']\n",
    "    votosPorBairro = dfForKmeans[dfForKmeans['bairro'].eq(bairro)]['votos'].sum()\n",
    "    \n",
    "    return votosPorBairroPorOrientacao/votosPorBairro\n",
    "\n",
    "def desempenhoFiliados(orientacao, bairro):\n",
    "    filiadosPorBairroPorOrientacao = dfForKmeans[dfForKmeans['orientacao politica'].eq(orientacao) & dfForKmeans['bairro'].eq(bairro)]['filiados']\n",
    "    filiadosPorBairro = dfForKmeans[dfForKmeans['bairro'].eq(bairro)]['filiados'].sum()\n",
    "    \n",
    "    return filiadosPorBairroPorOrientacao/filiadosPorBairro\n",
    "\n",
    "desempenhoVotos = np.vectorize(desempenhoVotos)\n",
    "desempenhoFiliados = np.vectorize(desempenhoFiliados)\n",
    "\n",
    "dfForKmeans = dfWithoutCargos.copy()\n",
    "dfForKmeans['orientacao politica'] = dfForKmeans['partido'].map(lambda x: returnOrientacaoPolitica(x))\n",
    "dfForKmeans = dfForKmeans.set_index(['bairro', 'orientacao politica']).groupby(level=(0, 1)).agg({\"votos\":np.sum, \"filiados\":np.max}).reset_index()\n",
    "dfForKmeans['desempenho votos'] = desempenhoVotos(dfForKmeans['orientacao politica'].values, dfForKmeans['bairro'].values)\n",
    "dfForKmeans['desempenho filiados'] = desempenhoFiliados(dfForKmeans['orientacao politica'].values, dfForKmeans['bairro'].values)\n",
    "\n",
    "dfForKmeans = pd.pivot_table(dfForKmeans, values=['desempenho votos', 'desempenho filiados'], index=['bairro'], columns=['orientacao politica'], aggfunc={np.mean})\n",
    "dfForKmeans.reset_index(inplace=True)\n",
    "dfForKmeans.columns = ['bairro', 'filiados_centro', 'filiados_direita', 'filiados_esquerda', 'votos_centro', 'votos_direita' , 'votos_esquerda']\n",
    "\n",
    "dfForKmeans[['votos_esquerda', 'votos_direita', 'votos_centro', 'filiados_esquerda', 'filiados_direita', 'filiados_centro']] = StandardScaler().fit_transform(dfForKmeans[['votos_esquerda', 'votos_direita', 'votos_centro', 'filiados_esquerda', 'filiados_direita', 'filiados_centro']])"
   ]
  },
  {
   "cell_type": "markdown",
   "id": "75192fa6",
   "metadata": {},
   "source": [
    "Abaixo realizamos a clusterização para cada bairro, com as variáveis número de votos da orientação política centro, número de votos da orientação política esquerda e número de votos da orientação política direita."
   ]
  },
  {
   "cell_type": "code",
   "execution_count": null,
   "id": "499c2034",
   "metadata": {},
   "outputs": [],
   "source": [
    "kmeansVotos = KMeans(n_clusters=3).fit(dfForKmeans[dfForKmeans.columns.difference(['bairro', 'filiados_centro', 'filiados_direita', 'filiados_esquerda'])].values)\n",
    "dfForKmeans['labels votos'] = kmeansVotos.labels_"
   ]
  },
  {
   "cell_type": "markdown",
   "id": "e423c701",
   "metadata": {},
   "source": [
    "Mostramos uma gráfico de distribuição 3d onde podemos ver essas classes se diferenciando"
   ]
  },
  {
   "cell_type": "code",
   "execution_count": null,
   "id": "05418ccd",
   "metadata": {},
   "outputs": [],
   "source": [
    "fig = px.scatter_3d(dfForKmeans,\n",
    "                 x=\"votos_esquerda\", y=\"votos_direita\", z='votos_centro',color='labels votos', hover_data=['bairro'])\n",
    "fig.show()"
   ]
  },
  {
   "cell_type": "markdown",
   "id": "16349cca",
   "metadata": {},
   "source": [
    "Dessa forma, usaremos a clusterização para para colorir o mapa do Rio de Janeiro, dado as classificações geradas pelo K-means."
   ]
  },
  {
   "cell_type": "code",
   "execution_count": null,
   "id": "c7f71490",
   "metadata": {},
   "outputs": [],
   "source": [
    "fig = px.choropleth_mapbox(dfForKmeans, \n",
    "                           geojson=bairros, locations='bairro', color='labels votos',\n",
    "                           featureidkey=\"properties.NOME\",\n",
    "                           mapbox_style=\"carto-positron\",\n",
    "                           center={\"lon\": -43.1811097599, \"lat\": -22.895417528999 },\n",
    "                           title=\"Mapa do Rio de Janeiro colorido com a clusterização da variável filiados\",\n",
    "                           zoom=9\n",
    "                          )\n",
    "\n",
    "fig.show()"
   ]
  },
  {
   "cell_type": "markdown",
   "id": "c79604eb",
   "metadata": {},
   "source": [
    "Abaixo realizamos a clusterização para cada bairro, com as variáveis número de filiados da orientação política centro, número de filiados da orientação política esquerda e número de filiados da orientação política direita."
   ]
  },
  {
   "cell_type": "code",
   "execution_count": null,
   "id": "b646fd76",
   "metadata": {},
   "outputs": [],
   "source": [
    "kmeansFiliados = KMeans(n_clusters=3).fit(dfForKmeans[dfForKmeans.columns.difference(['bairro', 'votos_centro', 'votos_direita' , 'votos_esquerda'])].values)\n",
    "dfForKmeans['labels filiados'] = kmeansFiliados.labels_"
   ]
  },
  {
   "cell_type": "markdown",
   "id": "0b6392e9",
   "metadata": {},
   "source": [
    "Mostramos uma gráfico de distribuição 3d onde podemos ver os 4 clusters se diferenciando"
   ]
  },
  {
   "cell_type": "code",
   "execution_count": null,
   "id": "74b51440",
   "metadata": {},
   "outputs": [],
   "source": [
    "fig = px.scatter_3d(dfForKmeans,\n",
    "                 x=\"filiados_esquerda\", y=\"filiados_direita\", z='filiados_centro', color='labels filiados', hover_data=['bairro'])\n",
    "fig.show()"
   ]
  },
  {
   "cell_type": "markdown",
   "id": "d936cf5f",
   "metadata": {},
   "source": [
    "Dessa forma, usaremos a clusterização para para colorir o mapa do Rio de Janeiro, dado as classificações geradas pelo K-means."
   ]
  },
  {
   "cell_type": "code",
   "execution_count": null,
   "id": "e3af9fef",
   "metadata": {},
   "outputs": [],
   "source": [
    "fig = px.choropleth_mapbox(dfForKmeans, \n",
    "                           geojson=bairros, locations='bairro', color='labels filiados',\n",
    "                           featureidkey=\"properties.NOME\",\n",
    "                           mapbox_style=\"carto-positron\",\n",
    "                           center={\"lon\": -43.1811097599, \"lat\": -22.895417528999 },\n",
    "                           zoom=9\n",
    "                          )\n",
    "\n",
    "fig.show()"
   ]
  },
  {
   "cell_type": "code",
   "execution_count": null,
   "id": "0ab0b435",
   "metadata": {},
   "outputs": [],
   "source": []
  }
 ],
 "metadata": {
  "kernelspec": {
   "display_name": "Python 3",
   "language": "python",
   "name": "python3"
  },
  "language_info": {
   "codemirror_mode": {
    "name": "ipython",
    "version": 3
   },
   "file_extension": ".py",
   "mimetype": "text/x-python",
   "name": "python",
   "nbconvert_exporter": "python",
   "pygments_lexer": "ipython3",
   "version": "3.8.8"
  }
 },
 "nbformat": 4,
 "nbformat_minor": 5
}
