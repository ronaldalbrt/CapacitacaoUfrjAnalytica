{
 "cells": [
  {
   "cell_type": "code",
   "execution_count": null,
   "id": "e9c0eef3",
   "metadata": {},
   "outputs": [],
   "source": [
    "import pandas as pd\n",
    "import numpy as np\n",
    "import scipy.stats as stats\n",
    "import basedosdados as bd\n",
    "import re\n",
    "import json\n",
    "import string\n",
    "import plotly\n",
    "import plotly.express as px\n",
    "import plotly.offline as py\n",
    "import plotly.graph_objs as go\n",
    "import os"
   ]
  },
  {
   "cell_type": "code",
   "execution_count": null,
   "id": "cf810131",
   "metadata": {},
   "outputs": [],
   "source": [
    "municipios = pd.read_csv(\"csv/municipios.csv\")\n",
    "zonas_eleitorais = pd.read_csv(\"csv/zona_eleitoral_2.csv\", error_bad_lines=False, delimiter=',')\n",
    "\n",
    "zonas_eleitorais = zonas_eleitorais[zonas_eleitorais['uf'].eq('RJ') & zonas_eleitorais['nome_municipio'].eq('RIO DE JANEIRO')]\n",
    "zonas_eleitorais['id'].replace('(19-0*)','',regex=True, inplace = True)\n",
    "\n",
    "with open('csv/bairros-geojson.json', encoding=\"utf8\") as geojson:\n",
    "    bairros = json.load(geojson)  "
   ]
  },
  {
   "cell_type": "code",
   "execution_count": null,
   "id": "d63465f0",
   "metadata": {},
   "outputs": [],
   "source": [
    "def dataAlreadyBeenGot(csvName):\n",
    "    if os.stat(csvName).st_size == 0:\n",
    "        return False\n",
    "    else:\n",
    "        return True"
   ]
  },
  {
   "cell_type": "code",
   "execution_count": null,
   "id": "f2da0260",
   "metadata": {},
   "outputs": [],
   "source": [
    "if not dataAlreadyBeenGot('csv/resultado_eleicoes.csv'):\n",
    "    queryResultadosPartidoMunicipio = \"\"\"\n",
    "        SELECT MZ.ano, MZ.zona, MZ.sigla_partido, MZ.cargo, MZ.turno, MZ.votos_nominais, MZ.votos_nao_nominais FROM `basedosdados.br_tse_eleicoes.resultados_partido_municipio_zona` AS MZ\n",
    "        WHERE MZ.id_municipio_tse={} AND MZ.sigla_uf='RJ'\n",
    "        ORDER BY MZ.ano ASC\"\"\".format(municipios[municipios['nome_municipio'].eq('RIO DE JANEIRO')]['codigo_tse'].values[0])\n",
    "\n",
    "    dfResultadosPartidoMunicipio = bd.read_sql(queryResultadosPartidoMunicipio, billing_project_id='capacitacaoufrjanalytica')\n",
    "    dfResultadosPartidoMunicipio.to_csv(\"csv/resultado_eleicoes.csv\", index=False)\n",
    "else:\n",
    "    dfResultadosPartidoMunicipio = pd.read_csv(\"csv/resultado_eleicoes.csv\")"
   ]
  },
  {
   "cell_type": "code",
   "execution_count": null,
   "id": "e666625d",
   "metadata": {},
   "outputs": [],
   "source": [
    "def neighhboorhoodCoordinateIsInside(latitude, longitude):\n",
    "    for e in bairros['features']:\n",
    "        if (e['geometry']['type'] != 'MultiPolygon'):\n",
    "            vertices = e['geometry']['coordinates'][0]\n",
    "        else:\n",
    "            vertices = e['geometry']['coordinates'][0][0]\n",
    "        wn = 0;\n",
    "        i = 0\n",
    "        j = len(vertices) - 1\n",
    "        while (i < len(vertices)):\n",
    "            v = vertices[j];\n",
    "            v1 = vertices[i];\n",
    "            if ( v[0] <= longitude ) :\n",
    "                if ( longitude < v1[0] ):  \n",
    "                    if ( (v1[1] - v[1]) * (longitude - v[0]) - (v1[0] - v[0]) * (latitude - v[1]) > 0 ):\n",
    "                        wn += 1;\n",
    "            else:\n",
    "                if( longitude >= v1[0] ):\n",
    "                    if ( (v1[1] - v[1]) * (longitude - v[0]) - (v1[0] - v[0]) * (latitude - v[1]) < 0 ):\n",
    "                        wn -= 1;\n",
    "            j = i\n",
    "            i += 1\n",
    "    \n",
    "        if (wn != 0):\n",
    "            return e['properties']['NOME']\n",
    "        \n",
    "def returnLat(zona):\n",
    "    return zonas_eleitorais[zonas_eleitorais['id'].eq(str(zona))]['latitude'].values[0] \n",
    "def returnLon(zona):\n",
    "    return zonas_eleitorais[zonas_eleitorais['id'].eq(str(zona))]['longitude'].values[0] \n",
    "def returnBairro(zona):\n",
    "    return zonas_eleitorais[zonas_eleitorais['id'].eq(str(zona))]['bairro'].values[0]"
   ]
  },
  {
   "cell_type": "code",
   "execution_count": null,
   "id": "3a4b01a5",
   "metadata": {},
   "outputs": [],
   "source": [
    "dfResultadosPartidoMunicipio['bairro'] = dfResultadosPartidoMunicipio['zona'].map(lambda x: returnBairro(x))"
   ]
  },
  {
   "cell_type": "code",
   "execution_count": null,
   "id": "11117586",
   "metadata": {},
   "outputs": [],
   "source": [
    "dfResultadosPartidoMunicipio['latitude'] = dfResultadosPartidoMunicipio['zona'].map(lambda x: returnLat(x))\n",
    "dfResultadosPartidoMunicipio['longitude'] = dfResultadosPartidoMunicipio['zona'].map(lambda x: returnLon(x))"
   ]
  },
  {
   "cell_type": "code",
   "execution_count": null,
   "id": "fc64ea6b",
   "metadata": {},
   "outputs": [],
   "source": [
    "auxDf = dfResultadosPartidoMunicipio[~(dfResultadosPartidoMunicipio['cargo'].eq('presidente') | dfResultadosPartidoMunicipio['cargo'].eq('governador') | dfResultadosPartidoMunicipio['cargo'].eq('prefeito'))]\n",
    "\n",
    "def calcularResultadoAgrupadoPorAno(ano):\n",
    "    bairrosArray = []\n",
    "    n_votosArray = []\n",
    "    partidosArray = []\n",
    "    latitudeArray = []\n",
    "    longitudeArray = []\n",
    "    for bairro, frame in auxDf[auxDf['ano'].eq(ano)].groupby('bairro'):\n",
    "        n_votos = np.max(frame['votos_nominais'])\n",
    "        partido = auxDf[auxDf['votos_nominais'].eq(n_votos) & auxDf['bairro'].eq(bairro)]['sigla_partido'].values[0]\n",
    "        latitude = auxDf[auxDf['votos_nominais'].eq(n_votos) & auxDf['bairro'].eq(bairro)]['latitude'].values[0]\n",
    "        longitude = auxDf[auxDf['votos_nominais'].eq(n_votos) & auxDf['bairro'].eq(bairro)]['longitude'].values[0]\n",
    "        n_votosArray.append(n_votos)\n",
    "        partidosArray.append(partido)\n",
    "        latitudeArray.append(latitude)\n",
    "        longitudeArray.append(longitude)\n",
    "        bairrosArray.append(neighhboorhoodCoordinateIsInside(latitude, longitude))\n",
    "\n",
    "    dfAgrupadoResultadosPartidoMunicipio = pd.DataFrame([bairrosArray, n_votosArray, partidosArray], \n",
    "                              index=['bairro', 'votos', 'partido']).T\n",
    "    \n",
    "    dfAgrupadoResultadosPartidoMunicipio['ano'] = [ano]*len(dfAgrupadoResultadosPartidoMunicipio)\n",
    "    \n",
    "    return dfAgrupadoResultadosPartidoMunicipio\n",
    "\n",
    "dfAgrupadoResultadosPartidoMunicipioPorAno = pd.DataFrame()\n",
    "for a in dfResultadosPartidoMunicipio['ano'].unique():\n",
    "    dfAgrupadoResultadosPartidoMunicipioPorAno = dfAgrupadoResultadosPartidoMunicipioPorAno.append(calcularResultadoAgrupadoPorAno(a))\n",
    "dfAgrupadoResultadosPartidoMunicipioPorAno.reset_index(drop=True, inplace=True)"
   ]
  },
  {
   "cell_type": "code",
   "execution_count": null,
   "id": "969a6780",
   "metadata": {},
   "outputs": [],
   "source": [
    "ano = 2016\n",
    "fig = px.choropleth_mapbox(dfAgrupadoResultadosPartidoMunicipioPorAno[dfAgrupadoResultadosPartidoMunicipioPorAno['ano'].eq(ano)], geojson=bairros, locations='bairro', color='partido',\n",
    "                           featureidkey=\"properties.NOME\",\n",
    "                           color_continuous_scale=\"Viridis\",\n",
    "                           mapbox_style=\"carto-positron\",\n",
    "                           hover_data=['votos'],\n",
    "                           center={\"lon\": -43.1811097599, \"lat\": -22.895417528999 },\n",
    "                           zoom=9\n",
    "                          )\n",
    "\n",
    "fig.show()"
   ]
  },
  {
   "cell_type": "code",
   "execution_count": null,
   "id": "f3686a12",
   "metadata": {},
   "outputs": [],
   "source": [
    "if not dataAlreadyBeenGot('csv/filiados.csv'):\n",
    "    dfFiliacaoPartidaria = pd.DataFrame()\n",
    "    for ano in dfAgrupadoResultadosPartidoMunicipioPorAno['ano'].unique():\n",
    "        queryFiliacaoPartidaria = \"\"\"\n",
    "            SELECT COUNT(*) AS n_filiados, FP.zona, FP.sigla_partido FROM `basedosdados.br_tse_filiacao_partidaria.filiacao_partidaria` AS FP\n",
    "            WHERE FP.id_municipio_tse={} AND (FP.data_desfiliacao > '{}-12-30' OR (FP.situacao_registro = 'regular' AND FP.data_filiacao < '{}-01-01'))\n",
    "            GROUP BY FP.zona, FP.sigla_partido\n",
    "            ORDER BY FP.zona\"\"\".format(municipios[municipios['nome_municipio'].eq('RIO DE JANEIRO')]['codigo_tse'].values[0], ano, ano)\n",
    "\n",
    "        dfResultadoQuery = bd.read_sql(queryFiliacaoPartidaria, billing_project_id='capacitacaoufrjanalytica')\n",
    "        dfResultadoQuery['ano'] = [ano]*len(dfResultadoQuery)\n",
    "        dfFiliacaoPartidaria = dfFiliacaoPartidaria.append(dfResultadoQuery)\n",
    "    dfFiliacaoPartidaria.to_csv(\"csv/filiados.csv\", index=False)\n",
    "else:\n",
    "    dfFiliacaoPartidaria = pd.read_csv(\"csv/filiados.csv\")\n"
   ]
  },
  {
   "cell_type": "code",
   "execution_count": null,
   "id": "761158e4",
   "metadata": {},
   "outputs": [],
   "source": [
    "dfFiliacaoPartidaria['bairro'] = dfFiliacaoPartidaria['zona'].map(lambda x: returnBairro(x))"
   ]
  },
  {
   "cell_type": "code",
   "execution_count": null,
   "id": "6427af46",
   "metadata": {},
   "outputs": [],
   "source": [
    "dfFiliacaoPartidaria['latitude'] = dfFiliacaoPartidaria['zona'].map(lambda x: returnLat(x))\n",
    "dfFiliacaoPartidaria['longitude'] = dfFiliacaoPartidaria['zona'].map(lambda x: returnLon(x))"
   ]
  },
  {
   "cell_type": "code",
   "execution_count": null,
   "id": "655de563",
   "metadata": {},
   "outputs": [],
   "source": [
    "def calcularResultadoAgrupadoPorAno(ano):\n",
    "    bairrosArray = []\n",
    "    n_filiadosArray = []\n",
    "    partidosArray = []\n",
    "    latitudeArray = []\n",
    "    longitudeArray = []\n",
    "    for bairro, frame in dfFiliacaoPartidaria[dfFiliacaoPartidaria['ano'].eq(ano)].groupby('bairro'):\n",
    "        n_filiados = np.max(frame['n_filiados'])\n",
    "        partido = dfFiliacaoPartidaria[dfFiliacaoPartidaria['n_filiados'].eq(n_filiados) & dfFiliacaoPartidaria['bairro'].eq(bairro)]['sigla_partido'].values[0]\n",
    "        latitude = dfFiliacaoPartidaria[dfFiliacaoPartidaria['n_filiados'].eq(n_filiados) & dfFiliacaoPartidaria['bairro'].eq(bairro)]['latitude'].values[0]\n",
    "        longitude = dfFiliacaoPartidaria[dfFiliacaoPartidaria['n_filiados'].eq(n_filiados) & dfFiliacaoPartidaria['bairro'].eq(bairro)]['longitude'].values[0]\n",
    "\n",
    "        n_filiadosArray.append(n_filiados)\n",
    "        partidosArray.append(partido)\n",
    "        latitudeArray.append(latitude)\n",
    "        longitudeArray.append(longitude)\n",
    "        bairrosArray.append(neighhboorhoodCoordinateIsInside(latitude, longitude))\n",
    "        \n",
    "    \n",
    "    dfAgrupadoFiliacaoPartidaria = pd.DataFrame([bairrosArray, n_filiadosArray, partidosArray], \n",
    "                              index=['bairro', 'filiados', 'partido']).T\n",
    "    \n",
    "    dfAgrupadoFiliacaoPartidaria['ano'] = [ano]*len(dfAgrupadoFiliacaoPartidaria)\n",
    "    \n",
    "    return dfAgrupadoFiliacaoPartidaria\n",
    "\n",
    "dfAgrupadoFiliacaoPartidariaPorAno = pd.DataFrame()\n",
    "for a in dfFiliacaoPartidaria['ano'].unique():\n",
    "    dfAgrupadoFiliacaoPartidariaPorAno = dfAgrupadoFiliacaoPartidariaPorAno.append(calcularResultadoAgrupadoPorAno(a))\n",
    "dfAgrupadoFiliacaoPartidariaPorAno.reset_index(drop=True, inplace=True)                     "
   ]
  },
  {
   "cell_type": "code",
   "execution_count": null,
   "id": "9c09cba6",
   "metadata": {},
   "outputs": [],
   "source": [
    "ano = 2012\n",
    "fig = px.choropleth_mapbox(dfAgrupadoFiliacaoPartidariaPorAno[dfAgrupadoFiliacaoPartidariaPorAno['ano'].eq(ano)], geojson=bairros, locations='bairro', color='partido',\n",
    "                           featureidkey=\"properties.NOME\",\n",
    "                           color_continuous_scale=\"Viridis\",\n",
    "                           mapbox_style=\"carto-positron\",\n",
    "                           hover_data=['filiados'],\n",
    "                           center={\"lon\": -43.1811097599, \"lat\": -22.895417528999 },\n",
    "                           zoom=9\n",
    "                          )\n",
    "\n",
    "fig.show()"
   ]
  },
  {
   "cell_type": "code",
   "execution_count": null,
   "id": "1d8c2405",
   "metadata": {},
   "outputs": [],
   "source": [
    "dfResultadosPartidoMunicipio = dfResultadosPartidoMunicipio.replace({'PC do B': 'PCDOB'})\n",
    "votosArray = []\n",
    "anosArray = []\n",
    "partidosArray = []\n",
    "for group, frame in dfResultadosPartidoMunicipio.set_index(['ano', 'sigla_partido']).groupby(level=(0, 1)):\n",
    "    n_votos = np.sum(frame['votos_nominais']) + np.sum(frame['votos_nao_nominais']) \n",
    "    votosArray.append(n_votos)\n",
    "    anosArray.append(group[0])\n",
    "    partidosArray.append(group[1])\n",
    "\n",
    "dfVotosAgrupados = pd.DataFrame([votosArray, anosArray, partidosArray],\n",
    "                               index=['votos', 'ano', 'partido']).T\n",
    "dfVotosAgrupados"
   ]
  },
  {
   "cell_type": "code",
   "execution_count": null,
   "id": "48d76b68",
   "metadata": {},
   "outputs": [],
   "source": [
    "filiadosArray = []\n",
    "anosArray = []\n",
    "partidosArray = []\n",
    "for group, frame in dfFiliacaoPartidaria.set_index(['ano', 'sigla_partido']).groupby(level=(0, 1)):\n",
    "    n_filiados = np.sum(frame['n_filiados'])\n",
    "    filiadosArray.append(n_filiados)\n",
    "    anosArray.append(group[0])\n",
    "    partidosArray.append(group[1])\n",
    "\n",
    "dfFiliadosAgrupados = pd.DataFrame([filiadosArray, anosArray, partidosArray],\n",
    "                               index=['filiados', 'ano', 'partido']).T\n",
    "dfFiliadosAgrupados"
   ]
  },
  {
   "cell_type": "code",
   "execution_count": null,
   "id": "b6c98bba",
   "metadata": {},
   "outputs": [],
   "source": [
    "new_df = pd.merge(dfFiliadosAgrupados, dfVotosAgrupados,  how='inner', left_on=['ano', 'partido'], right_on = ['ano', 'partido'])"
   ]
  },
  {
   "cell_type": "code",
   "execution_count": null,
   "id": "fcca8403",
   "metadata": {},
   "outputs": [],
   "source": [
    "new_df['filiados'] = new_df['filiados'].apply(lambda x: int(x)) \n",
    "new_df['votos'] = new_df['votos'].apply(lambda x: int(x)) \n",
    "new_df.corr()"
   ]
  },
  {
   "cell_type": "code",
   "execution_count": null,
   "id": "c756d9d8",
   "metadata": {},
   "outputs": [],
   "source": [
    "fig = px.scatter(new_df, x=\"filiados\", y=\"votos\", color='partido')\n",
    "fig.show()"
   ]
  },
  {
   "cell_type": "code",
   "execution_count": null,
   "id": "5f454249",
   "metadata": {},
   "outputs": [],
   "source": []
  }
 ],
 "metadata": {
  "kernelspec": {
   "display_name": "Python 3",
   "language": "python",
   "name": "python3"
  },
  "language_info": {
   "codemirror_mode": {
    "name": "ipython",
    "version": 3
   },
   "file_extension": ".py",
   "mimetype": "text/x-python",
   "name": "python",
   "nbconvert_exporter": "python",
   "pygments_lexer": "ipython3",
   "version": "3.8.8"
  }
 },
 "nbformat": 4,
 "nbformat_minor": 5
}
