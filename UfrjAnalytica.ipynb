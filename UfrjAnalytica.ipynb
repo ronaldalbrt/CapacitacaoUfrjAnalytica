{
 "cells": [
  {
   "cell_type": "code",
   "execution_count": null,
   "id": "e9c0eef3",
   "metadata": {},
   "outputs": [],
   "source": [
    "import pandas as pd\n",
    "import numpy as np\n",
    "import scipy.stats as stats\n",
    "import re\n",
    "import basedosdados as bd\n",
    "import json"
   ]
  },
  {
   "cell_type": "code",
   "execution_count": null,
   "id": "cf810131",
   "metadata": {},
   "outputs": [],
   "source": [
    "#Carregando o mapeamento para trabalhar com o código dos munícipios no IBGE e no TSE  \n",
    "municipios = pd.read_csv(\"municipios.csv\")"
   ]
  },
  {
   "cell_type": "code",
   "execution_count": null,
   "id": "f3686a12",
   "metadata": {},
   "outputs": [],
   "source": [
    "queryFiliacaoPartidaria = \"\"\"\n",
    "    SELECT * FROM `basedosdados.br_tse_filiacao_partidaria.filiacao_partidaria` AS FP\n",
    "    WHERE FP.nome_filiado LIKE 'R%' AND FP.situacao_registro='regular' AND FP.id_municipio_tse=0000000\"\"\"\n",
    "\n",
    "dfFiliacaoPartidaria = (bd.read_sql(queryFiliacaoPartidaria, billing_project_id='capacitacaoufrjanalytica'))\n",
    "    "
   ]
  },
  {
   "cell_type": "code",
   "execution_count": null,
   "id": "761158e4",
   "metadata": {},
   "outputs": [],
   "source": [
    "dfFiliacaoPartidaria"
   ]
  },
  {
   "cell_type": "code",
   "execution_count": null,
   "id": "9c777cba",
   "metadata": {},
   "outputs": [],
   "source": []
  }
 ],
 "metadata": {
  "kernelspec": {
   "display_name": "Python 3",
   "language": "python",
   "name": "python3"
  },
  "language_info": {
   "codemirror_mode": {
    "name": "ipython",
    "version": 3
   },
   "file_extension": ".py",
   "mimetype": "text/x-python",
   "name": "python",
   "nbconvert_exporter": "python",
   "pygments_lexer": "ipython3",
   "version": "3.8.8"
  }
 },
 "nbformat": 4,
 "nbformat_minor": 5
}
