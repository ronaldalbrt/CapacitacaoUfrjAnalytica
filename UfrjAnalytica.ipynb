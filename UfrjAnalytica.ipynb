{
 "cells": [
  {
   "cell_type": "code",
   "execution_count": null,
   "id": "e9c0eef3",
   "metadata": {},
   "outputs": [],
   "source": [
    "import pandas as pd\n",
    "import numpy as np\n",
    "import scipy.stats as stats\n",
    "import basedosdados as bd\n",
    "import re\n",
    "import json\n",
    "import string\n",
    "import plotly\n",
    "import plotly.express as px\n",
    "import plotly.offline as py\n",
    "import plotly.graph_objs as go\n",
    "import scipy.stats as stats\n",
    "import sympy as sym\n",
    "import itertools\n",
    "import os\n",
    "from sklearn.linear_model import LinearRegression\n",
    "from sklearn.cluster import KMeans\n",
    "from sklearn.preprocessing import StandardScaler"
   ]
  },
  {
   "cell_type": "code",
   "execution_count": null,
   "id": "cf810131",
   "metadata": {},
   "outputs": [],
   "source": [
    "municipios = pd.read_csv(\"csv/municipios.csv\")\n",
    "\n",
    "orientacao_partidos = pd.read_csv(\"csv/orientacao_partidos.csv\", error_bad_lines=False, delimiter=',')\n",
    "orientacao_partidos =  orientacao_partidos.replace({ \"—\":\"esquerda\"})\n",
    "orientacao_partidos['Nome'] = orientacao_partidos['Nome'].map(lambda x: x.upper())\n",
    "\n",
    "with open('csv/bairros-geojson.json', encoding=\"utf8\") as geojson:\n",
    "    bairros = json.load(geojson)"
   ]
  },
  {
   "cell_type": "code",
   "execution_count": null,
   "id": "d63465f0",
   "metadata": {},
   "outputs": [],
   "source": [
    "def dataAlreadyBeenGot(csvName):\n",
    "    if os.stat(csvName).st_size == 0:\n",
    "        return False\n",
    "    else:\n",
    "        return True"
   ]
  },
  {
   "cell_type": "code",
   "execution_count": null,
   "id": "63b7b810",
   "metadata": {},
   "outputs": [],
   "source": [
    "if not dataAlreadyBeenGot('csv/secao_eleitoral.csv'):\n",
    "    querySecaoEleitoral = \"\"\"\n",
    "        SELECT * FROM `basedosdados.br_tse_eleicoes.local_secao` AS LS\n",
    "        WHERE LS.id_municipio={} AND LS.sigla_uf='RJ'\n",
    "        \"\"\".format(municipios[municipios['nome_municipio'].eq('RIO DE JANEIRO')]['codigo_ibge'].values[0])\n",
    "\n",
    "    secao_eleitoral = bd.read_sql(querySecaoEleitoral, billing_project_id='capacitacaoufrjanalytica')\n",
    "    secao_eleitoral.to_csv(\"csv/secao_eleitoral.csv\", index=False)\n",
    "else:\n",
    "    secao_eleitoral = pd.read_csv(\"csv/secao_eleitoral.csv\")"
   ]
  },
  {
   "cell_type": "code",
   "execution_count": null,
   "id": "dd103146",
   "metadata": {},
   "outputs": [],
   "source": [
    "secao_eleitoral = secao_eleitoral[~(secao_eleitoral['melhor_urbano']).isnull()]"
   ]
  },
  {
   "cell_type": "code",
   "execution_count": null,
   "id": "f2da0260",
   "metadata": {},
   "outputs": [],
   "source": [
    "if not dataAlreadyBeenGot('csv/resultado_eleicoes.csv'):\n",
    "    queryResultadosPartidoMunicipio = \"\"\"\n",
    "        SELECT MZ.ano, MZ.zona, MZ.secao, MZ.sigla_partido, MZ.cargo, MZ.turno, MZ.votos_nominais, MZ.votos_nao_nominais FROM `basedosdados.br_tse_eleicoes.resultados_partido_secao` AS MZ\n",
    "        WHERE MZ.id_municipio_tse={} AND MZ.sigla_uf='RJ'\n",
    "        ORDER BY MZ.ano ASC\"\"\".format(municipios[municipios['nome_municipio'].eq('RIO DE JANEIRO')]['codigo_tse'].values[0])\n",
    "\n",
    "    dfResultadosPartidoMunicipio = bd.read_sql(queryResultadosPartidoMunicipio, billing_project_id='capacitacaoufrjanalytica')"
   ]
  },
  {
   "cell_type": "code",
   "execution_count": null,
   "id": "b75f38d5",
   "metadata": {},
   "outputs": [],
   "source": [
    "def neighhboorhoodCoordinateIsInside(zona, secao):\n",
    "    zona_secao_df = secao_eleitoral[secao_eleitoral['zona'].eq(zona) &  secao_eleitoral['secao'].eq(secao)]\n",
    "    \n",
    "    if len(zona_secao_df) == 0:\n",
    "        return 'nao informado'\n",
    "    \n",
    "    coords = zona_secao_df.values[0][5]\n",
    "    array_coords = [float(x) for x in re.findall(r'[-+]?\\d+\\.\\d+', zona_secao_df.iloc[0]['melhor_urbano'])]\n",
    "    \n",
    "    longitude = array_coords[0]\n",
    "    latitude = array_coords[1]\n",
    "    for e in bairros['features']:\n",
    "        if (e['geometry']['type'] != 'MultiPolygon'):\n",
    "            vertices = e['geometry']['coordinates'][0]\n",
    "        else:\n",
    "            vertices = e['geometry']['coordinates'][0][0]\n",
    "        wn = 0;\n",
    "        i = 0\n",
    "        j = len(vertices) - 1\n",
    "        while (i < len(vertices)):\n",
    "            v = vertices[j];\n",
    "            v1 = vertices[i];\n",
    "            if ( v[0] <= longitude ) :\n",
    "                if ( longitude < v1[0] ):  \n",
    "                    if ( (v1[1] - v[1]) * (longitude - v[0]) - (v1[0] - v[0]) * (latitude - v[1]) > 0 ):\n",
    "                        wn += 1;\n",
    "            else:\n",
    "                if( longitude >= v1[0] ):\n",
    "                    if ( (v1[1] - v[1]) * (longitude - v[0]) - (v1[0] - v[0]) * (latitude - v[1]) < 0 ):\n",
    "                        wn -= 1;\n",
    "            j = i\n",
    "            i += 1\n",
    "    \n",
    "        if (wn != 0):\n",
    "            return e['properties']['NOME']"
   ]
  },
  {
   "cell_type": "code",
   "execution_count": null,
   "id": "0d39fed7",
   "metadata": {},
   "outputs": [],
   "source": [
    "if not dataAlreadyBeenGot('csv/resultado_eleicoes.csv'):\n",
    "    returnBairro = np.vectorize(neighhboorhoodCoordinateIsInside)\n",
    "    bairrosFromZonaSecao = pd.DataFrame(list(itertools.product(dfResultadosPartidoMunicipio['zona'].unique(),  dfResultadosPartidoMunicipio['secao'].unique())),\n",
    "                                        columns=['zona', 'secao'])\n",
    "    bairrosFromZonaSecao['bairro'] = returnBairro(bairrosFromZonaSecao['zona'].values, bairrosFromZonaSecao['secao'].values)"
   ]
  },
  {
   "cell_type": "code",
   "execution_count": null,
   "id": "4d2a758a",
   "metadata": {
    "scrolled": true
   },
   "outputs": [],
   "source": [
    "if not dataAlreadyBeenGot('csv/resultado_eleicoes.csv'):\n",
    "    dfResultadosPartidoMunicipio = pd.merge(dfResultadosPartidoMunicipio, bairrosFromZonaSecao, how='left', left_on=['secao', 'zona'], right_on = ['secao', 'zona'])\n",
    "    dfResultadosPartidoMunicipio.replace(np.nan, 'nao informado', inplace=True)"
   ]
  },
  {
   "cell_type": "code",
   "execution_count": null,
   "id": "1924934f",
   "metadata": {},
   "outputs": [],
   "source": [
    "if not dataAlreadyBeenGot('csv/resultado_eleicoes.csv'):\n",
    "    dfResultadosPartidoMunicipio['sigla_partido'].replace({'PEN':'PATRIOTA', 'PATRI':'PATRIOTA', \n",
    "                                                           'PT DO B':'AVANTE', 'PT do B':'AVANTE', \n",
    "                                                           'PC do B': 'PCDOB', 'PC DO B': 'PCDOB',\n",
    "                                                           'PRONA':'PL', 'PGT':'PL', 'PPB':'PP',\n",
    "                                                           'PPS': 'CIDADANIA', 'PRN':'PTC',\n",
    "                                                           'PRP': 'PATRIOTA', 'PSDC':'DC',\n",
    "                                                           'PSN':'PODE', 'PST': 'PL', 'PTN':'PODE',\n",
    "                                                           'PHS':'PODE', 'PRB':'REPUBLICANOS',\n",
    "                                                           'PR': 'PL', 'PPL': 'PCDOB', 'SD': 'SOLIDARIEDADE',\n",
    "                                                           'PAN':'PTB','PFL':'DEM', 'PMDB':'MDB'}, inplace=True)\n"
   ]
  },
  {
   "cell_type": "code",
   "execution_count": null,
   "id": "0f98a13f",
   "metadata": {},
   "outputs": [],
   "source": [
    "if not dataAlreadyBeenGot('csv/resultado_eleicoes.csv'):\n",
    "    dfResultadosPartidoMunicipio = dfResultadosPartidoMunicipio.set_index(['ano', 'sigla_partido', 'bairro', 'cargo', 'turno']).groupby(level=(0, 1, 2, 3, 4)).agg({\"votos_nominais\":np.sum, \"votos_nao_nominais\":np.sum}).reset_index()\n",
    "    dfResultadosPartidoMunicipio.to_csv(\"csv/resultado_eleicoes.csv\", index=False)\n",
    "else:\n",
    "    dfResultadosPartidoMunicipio = pd.read_csv(\"csv/resultado_eleicoes.csv\")"
   ]
  },
  {
   "cell_type": "code",
   "execution_count": null,
   "id": "2bc0d2a6",
   "metadata": {},
   "outputs": [],
   "source": [
    "votosTotaisPorPartido = dfResultadosPartidoMunicipio[dfResultadosPartidoMunicipio['turno'].eq(1)].set_index(['ano', 'sigla_partido']).groupby(level=(0, 1)).agg({\"votos_nominais\":np.sum, \"votos_nao_nominais\":np.sum}).reset_index()\n",
    "\n",
    "votosTotaisPorPartido['votos totais'] = votosTotaisPorPartido['votos_nominais'] + votosTotaisPorPartido['votos_nao_nominais']"
   ]
  },
  {
   "cell_type": "code",
   "execution_count": null,
   "id": "0d7350f3",
   "metadata": {},
   "outputs": [],
   "source": [
    "def returnPorcentagemDeVotos(partido, ano):\n",
    "    votosPartido = votosTotaisPorPartido[votosTotaisPorPartido['sigla_partido'].eq(partido) & votosTotaisPorPartido['ano'].eq(ano)]['votos totais']\n",
    "    votosTotaisBairro = votosTotaisPorPartido[votosTotaisPorPartido['ano'].eq(ano)]['votos totais'].sum()\n",
    "    return votosPartido/votosTotaisBairro\n",
    "\n",
    "porcentagemVetorizada = np.vectorize(returnPorcentagemDeVotos)\n",
    "votosTotaisPorPartido['desempenho'] = porcentagemVetorizada(votosTotaisPorPartido['sigla_partido'], votosTotaisPorPartido['ano']) "
   ]
  },
  {
   "cell_type": "code",
   "execution_count": null,
   "id": "92aff847",
   "metadata": {
    "scrolled": false
   },
   "outputs": [],
   "source": [
    "partido = ['PT', 'PSDB', 'PSL']\n",
    "fig = px.line(votosTotaisPorPartido[votosTotaisPorPartido['sigla_partido'].isin(partido)], x=\"ano\", y=\"desempenho\", \n",
    "              color='sigla_partido',\n",
    "              title='Desempenho dos partidos '+str(partido)[1:-1]+' X ano')\n",
    "fig.show()"
   ]
  },
  {
   "cell_type": "code",
   "execution_count": null,
   "id": "870afabb",
   "metadata": {},
   "outputs": [],
   "source": [
    "votosTotaisPartidoPorBairro = dfResultadosPartidoMunicipio[dfResultadosPartidoMunicipio['turno'].eq(1)].set_index(['ano', 'bairro','sigla_partido']).groupby(level=(0, 1, 2)).agg({\"votos_nominais\":np.sum, \"votos_nao_nominais\":np.sum}).reset_index()\n",
    "\n",
    "votosTotaisPartidoPorBairro['votos totais'] = votosTotaisPartidoPorBairro['votos_nominais'] + votosTotaisPartidoPorBairro['votos_nao_nominais']\n",
    "\n",
    "def returnPorcentagemPorBairro(bairro, partido, ano):\n",
    "    votosPartido = votosTotaisPartidoPorBairro[votosTotaisPartidoPorBairro['bairro'].eq(bairro) & votosTotaisPartidoPorBairro['sigla_partido'].eq(partido) & votosTotaisPartidoPorBairro['ano'].eq(ano)]['votos totais']\n",
    "    votosTotaisBairro = votosTotaisPartidoPorBairro[votosTotaisPartidoPorBairro['bairro'].eq(bairro) & votosTotaisPartidoPorBairro['ano'].eq(ano)]['votos totais'].sum()\n",
    "    return votosPartido/votosTotaisBairro\n",
    "\n",
    "porcentagemPorBairroVetorizada = np.vectorize(returnPorcentagemPorBairro)\n",
    "\n",
    "votosTotaisPartidoPorBairro['desempenho por bairro'] = porcentagemPorBairroVetorizada(votosTotaisPartidoPorBairro['bairro'], votosTotaisPartidoPorBairro['sigla_partido'], votosTotaisPartidoPorBairro['ano']) "
   ]
  },
  {
   "cell_type": "code",
   "execution_count": null,
   "id": "a6d36c8c",
   "metadata": {
    "scrolled": false
   },
   "outputs": [],
   "source": [
    "partido = ['PT', 'PSL', 'PSOL', 'DEM']\n",
    "bairro = 'Barra da Tijuca'\n",
    "fig = px.line(votosTotaisPartidoPorBairro[votosTotaisPartidoPorBairro['sigla_partido'].isin(partido) & votosTotaisPartidoPorBairro['bairro'].eq(bairro)], \n",
    "              x=\"ano\", y=\"desempenho por bairro\", \n",
    "              color='sigla_partido',\n",
    "              title='Desempenho dos partidos '+str(partido)[1:-1]+' no bairro '+bairro+' X ano')\n",
    "fig.show()"
   ]
  },
  {
   "cell_type": "code",
   "execution_count": null,
   "id": "3bcb39a7",
   "metadata": {},
   "outputs": [],
   "source": [
    "partido = 'PSOL'\n",
    "bairro = ['Bangu', 'Laranjeiras', 'Freguesia (Jacarepaguá)', 'Cidade Universitária']\n",
    "fig = px.line(votosTotaisPartidoPorBairro[votosTotaisPartidoPorBairro['sigla_partido'].eq(partido) & votosTotaisPartidoPorBairro['bairro'].isin(bairro)], \n",
    "              x=\"ano\", y=\"desempenho por bairro\", \n",
    "              color='bairro',\n",
    "              title='Votos do partido '+partido+' nos bairros '+str(bairro)[1:-1]+' X ano')\n",
    "fig.show()"
   ]
  },
  {
   "cell_type": "code",
   "execution_count": null,
   "id": "a6031fbd",
   "metadata": {},
   "outputs": [],
   "source": [
    "votosTotaisPorCargoPorPartido = dfResultadosPartidoMunicipio[dfResultadosPartidoMunicipio['turno'].eq(1)].set_index(['ano','sigla_partido', 'cargo']).groupby(level=(0, 1, 2)).agg({\"votos_nominais\":np.sum, \"votos_nao_nominais\":np.sum}).reset_index()\n",
    "votosTotaisPorCargoPorPartido['votos totais'] = votosTotaisPorCargoPorPartido['votos_nominais'] + votosTotaisPorCargoPorPartido['votos_nao_nominais']\n"
   ]
  },
  {
   "cell_type": "code",
   "execution_count": null,
   "id": "3a46476b",
   "metadata": {},
   "outputs": [],
   "source": [
    "def returnPorcentagemDeVotosParaCargo(partido, ano, cargo):\n",
    "    votosPartido = votosTotaisPorCargoPorPartido[votosTotaisPorCargoPorPartido['sigla_partido'].eq(partido) & votosTotaisPorCargoPorPartido['ano'].eq(ano) & votosTotaisPorCargoPorPartido['cargo'].eq(cargo)]['votos totais']\n",
    "    votosTotaisBairro = votosTotaisPorCargoPorPartido[votosTotaisPorCargoPorPartido['ano'].eq(ano) & votosTotaisPorCargoPorPartido['cargo'].eq(cargo)]['votos totais'].sum()\n",
    "    return votosPartido/votosTotaisBairro\n",
    "\n",
    "porcentagemPorCargoVetorizada = np.vectorize(returnPorcentagemDeVotosParaCargo)\n",
    "votosTotaisPorCargoPorPartido['desempenho'] = porcentagemPorCargoVetorizada(votosTotaisPorCargoPorPartido['sigla_partido'], votosTotaisPorCargoPorPartido['ano'], votosTotaisPorCargoPorPartido['cargo']) "
   ]
  },
  {
   "cell_type": "code",
   "execution_count": null,
   "id": "a1ca6a3d",
   "metadata": {
    "scrolled": false
   },
   "outputs": [],
   "source": [
    "cargo = 'prefeito'\n",
    "partido = ['DEM', 'PSOL', 'REPUBLICANOS']\n",
    "fig = px.line(votosTotaisPorCargoPorPartido[votosTotaisPorCargoPorPartido['sigla_partido'].isin(partido) & votosTotaisPorCargoPorPartido['cargo'].eq(cargo)], \n",
    "              x=\"ano\", y=\"desempenho\", \n",
    "              color='sigla_partido',\n",
    "              title='Desempenho dos partidos '+str(partido)[1:-1]+' para o cargo de '+cargo+' X ano')\n",
    "fig.show()"
   ]
  },
  {
   "cell_type": "code",
   "execution_count": null,
   "id": "9bd9047f",
   "metadata": {},
   "outputs": [],
   "source": [
    "votosTotaisPorCargoPorPartidoPorBairro = dfResultadosPartidoMunicipio[dfResultadosPartidoMunicipio['turno'].eq(1)].set_index(['ano', 'bairro','sigla_partido', 'cargo']).groupby(level=(0, 1, 2, 3)).agg({\"votos_nominais\":np.sum, \"votos_nao_nominais\":np.sum}).reset_index()\n",
    "votosTotaisPorCargoPorPartidoPorBairro['votos totais'] = votosTotaisPorCargoPorPartidoPorBairro['votos_nominais'] + votosTotaisPorCargoPorPartidoPorBairro['votos_nao_nominais']\n"
   ]
  },
  {
   "cell_type": "code",
   "execution_count": null,
   "id": "b1f64b1f",
   "metadata": {},
   "outputs": [],
   "source": [
    "cargo = 'presidente'\n",
    "partido = 'PSOL'\n",
    "bairro = ['Taquara', 'Laranjeiras', 'Cachambi']\n",
    "fig = px.line(votosTotaisPorCargoPorPartidoPorBairro[votosTotaisPorCargoPorPartidoPorBairro['sigla_partido'].eq(partido) & votosTotaisPorCargoPorPartidoPorBairro['cargo'].eq(cargo) & votosTotaisPorCargoPorPartidoPorBairro['bairro'].isin(bairro)], \n",
    "              x=\"ano\", y=\"votos totais\", \n",
    "              color='bairro',\n",
    "              title='Votos do partido '+partido+' em '+str(bairro)[1:-1]+' para o cargo de '+cargo+' X ano')\n",
    "fig.show()"
   ]
  },
  {
   "cell_type": "code",
   "execution_count": null,
   "id": "b4952048",
   "metadata": {},
   "outputs": [],
   "source": [
    "def returnOrientacaoPolitica(partido):\n",
    "    return orientacao_partidos[orientacao_partidos['Nome'].eq(partido)]['Congresso em Foco (2019)[37]'].values[0]"
   ]
  },
  {
   "cell_type": "code",
   "execution_count": null,
   "id": "d7f737ba",
   "metadata": {},
   "outputs": [],
   "source": [
    "dfResultadosPartidoMunicipio['orientacao politica'] = dfResultadosPartidoMunicipio['sigla_partido'].map(lambda x: returnOrientacaoPolitica(x))"
   ]
  },
  {
   "cell_type": "code",
   "execution_count": null,
   "id": "6763471a",
   "metadata": {},
   "outputs": [],
   "source": [
    "votosPorOrientacaoPolitica = dfResultadosPartidoMunicipio[dfResultadosPartidoMunicipio['turno'].eq(1)].set_index(['ano', 'orientacao politica']).groupby(level=(0, 1)).agg({\"votos_nominais\":np.sum, \"votos_nao_nominais\":np.sum}).reset_index()\n",
    "votosPorOrientacaoPolitica['votos totais'] = votosPorOrientacaoPolitica['votos_nominais'] + votosPorOrientacaoPolitica['votos_nao_nominais']"
   ]
  },
  {
   "cell_type": "code",
   "execution_count": null,
   "id": "a4baf43c",
   "metadata": {},
   "outputs": [],
   "source": [
    "def returnPorcentagemDeVotosPorOrientacao(orientacao, ano):\n",
    "    votosPartido = votosPorOrientacaoPolitica[votosPorOrientacaoPolitica['orientacao politica'].eq(orientacao) & votosPorOrientacaoPolitica['ano'].eq(ano)]['votos totais']\n",
    "    votosTotaisBairro = votosPorOrientacaoPolitica[votosPorOrientacaoPolitica['ano'].eq(ano)]['votos totais'].sum()\n",
    "    return votosPartido/votosTotaisBairro\n",
    "\n",
    "porcentagemPorOrientacaoVetorizada = np.vectorize(returnPorcentagemDeVotosPorOrientacao)\n",
    "votosPorOrientacaoPolitica['desempenho'] = porcentagemPorOrientacaoVetorizada(votosPorOrientacaoPolitica['orientacao politica'], votosPorOrientacaoPolitica['ano']) "
   ]
  },
  {
   "cell_type": "code",
   "execution_count": null,
   "id": "4e55e020",
   "metadata": {},
   "outputs": [],
   "source": [
    "fig = px.line(votosPorOrientacaoPolitica, x=\"ano\", y=\"desempenho\", color='orientacao politica',\n",
    "             title='Desempenho de determinada ideologica política X ano')\n",
    "fig.show()"
   ]
  },
  {
   "cell_type": "code",
   "execution_count": null,
   "id": "44f3cfca",
   "metadata": {},
   "outputs": [],
   "source": [
    "votosTotaisPartidoPorBairroPorOrientacao = dfResultadosPartidoMunicipio[dfResultadosPartidoMunicipio['turno'].eq(1)].set_index(['ano', 'bairro','orientacao politica']).groupby(level=(0, 1, 2)).agg({\"votos_nominais\":np.sum, \"votos_nao_nominais\":np.sum}).reset_index()\n",
    "\n",
    "votosTotaisPartidoPorBairroPorOrientacao['votos totais'] = votosTotaisPartidoPorBairroPorOrientacao['votos_nominais'] + votosTotaisPartidoPorBairroPorOrientacao['votos_nao_nominais']\n",
    "\n",
    "def returnPorcentagemPorBairroPorOrientacao(bairro, orientacao, ano):\n",
    "    votosPartido = votosTotaisPartidoPorBairroPorOrientacao[votosTotaisPartidoPorBairroPorOrientacao['bairro'].eq(bairro) & votosTotaisPartidoPorBairroPorOrientacao['orientacao politica'].eq(orientacao) & votosTotaisPartidoPorBairroPorOrientacao['ano'].eq(ano)]['votos totais']\n",
    "    votosTotaisBairro = votosTotaisPartidoPorBairroPorOrientacao[votosTotaisPartidoPorBairroPorOrientacao['bairro'].eq(bairro) & votosTotaisPartidoPorBairroPorOrientacao['ano'].eq(ano)]['votos totais'].sum()\n",
    "    return votosPartido/votosTotaisBairro\n",
    "\n",
    "porcentagemPorBairroPorOriencaoVetorizada = np.vectorize(returnPorcentagemPorBairroPorOrientacao)\n",
    "\n",
    "votosTotaisPartidoPorBairroPorOrientacao['desempenho por bairro'] = porcentagemPorBairroPorOriencaoVetorizada(votosTotaisPartidoPorBairroPorOrientacao['bairro'], votosTotaisPartidoPorBairroPorOrientacao['orientacao politica'], votosTotaisPartidoPorBairroPorOrientacao['ano']) "
   ]
  },
  {
   "cell_type": "code",
   "execution_count": null,
   "id": "82959b87",
   "metadata": {
    "scrolled": false
   },
   "outputs": [],
   "source": [
    "bairro = 'Méier'\n",
    "fig = px.line(votosTotaisPartidoPorBairroPorOrientacao[votosTotaisPartidoPorBairroPorOrientacao['bairro'].eq(bairro)], \n",
    "              x=\"ano\", y=\"desempenho por bairro\", \n",
    "              color='orientacao politica',\n",
    "              title='Desempenho de determinada orientação política no bairro '+bairro+' X ano')\n",
    "fig.show()"
   ]
  },
  {
   "cell_type": "code",
   "execution_count": null,
   "id": "e9ce25da",
   "metadata": {},
   "outputs": [],
   "source": [
    "orientacao = 'esquerda'\n",
    "bairro = ['Bangu', 'Laranjeiras', 'Freguesia (Jacarepaguá)']\n",
    "fig = px.line(votosTotaisPartidoPorBairroPorOrientacao[votosTotaisPartidoPorBairroPorOrientacao['orientacao politica'].eq(orientacao) & votosTotaisPartidoPorBairroPorOrientacao['bairro'].isin(bairro)], \n",
    "              x=\"ano\", y=\"desempenho por bairro\", \n",
    "              color='bairro',\n",
    "              title='Desempenho do(a) '+orientacao+' nos bairros '+str(bairro)[1:-1]+' X ano')\n",
    "fig.show()"
   ]
  },
  {
   "cell_type": "code",
   "execution_count": null,
   "id": "fc64ea6b",
   "metadata": {},
   "outputs": [],
   "source": [
    "auxDf = dfResultadosPartidoMunicipio[dfResultadosPartidoMunicipio['turno'].eq(1)]\n",
    "\n",
    "def calcularResultadoAgrupadoPorAno(ano):\n",
    "    bairrosArray = []\n",
    "    n_votosArray = []\n",
    "    partidosArray = []\n",
    "\n",
    "    for bairro, frame in auxDf[auxDf['ano'].eq(ano)].groupby('bairro'):\n",
    "        n_votos = np.max(frame['votos_nominais'])\n",
    "        partido = auxDf[auxDf['votos_nominais'].eq(n_votos) & auxDf['bairro'].eq(bairro) & auxDf['ano'].eq(ano)]['sigla_partido'].values[0]\n",
    "        \n",
    "        n_votosArray.append(n_votos)\n",
    "        partidosArray.append(partido)\n",
    "        bairrosArray.append(bairro)\n",
    "\n",
    "    dfAgrupadoResultadosPartidoMunicipio = pd.DataFrame([bairrosArray, n_votosArray, partidosArray], \n",
    "                              index=['bairro', 'votos', 'partido']).T\n",
    "    \n",
    "    dfAgrupadoResultadosPartidoMunicipio['ano'] = [ano]*len(dfAgrupadoResultadosPartidoMunicipio)\n",
    "    \n",
    "    return dfAgrupadoResultadosPartidoMunicipio\n",
    "\n",
    "dfAgrupadoResultadosPartidoMunicipioPorAno = pd.DataFrame()\n",
    "for a in dfResultadosPartidoMunicipio['ano'].unique():\n",
    "    dfAgrupadoResultadosPartidoMunicipioPorAno = dfAgrupadoResultadosPartidoMunicipioPorAno.append(calcularResultadoAgrupadoPorAno(a))\n",
    "dfAgrupadoResultadosPartidoMunicipioPorAno.reset_index(drop=True, inplace=True)"
   ]
  },
  {
   "cell_type": "code",
   "execution_count": null,
   "id": "969a6780",
   "metadata": {},
   "outputs": [],
   "source": [
    "ano = 2010\n",
    "fig = px.choropleth_mapbox(dfAgrupadoResultadosPartidoMunicipioPorAno[dfAgrupadoResultadosPartidoMunicipioPorAno['ano'].eq(ano)], geojson=bairros, locations='bairro', color='partido',\n",
    "                           featureidkey=\"properties.NOME\",\n",
    "                           color_continuous_scale=\"Viridis\",\n",
    "                           mapbox_style=\"carto-positron\",\n",
    "                           hover_data=['votos'],\n",
    "                           center={\"lon\": -43.1811097599, \"lat\": -22.895417528999 },\n",
    "                           title='Partido mais votado em cada bairro do Rio de Janeiro no ano '+str(ano),\n",
    "                           zoom=9\n",
    "                          )\n",
    "\n",
    "fig.show()"
   ]
  },
  {
   "cell_type": "code",
   "execution_count": null,
   "id": "06cb4468",
   "metadata": {},
   "outputs": [],
   "source": [
    "dfAgrupadoOrientacaoPoliticaMunicipioPorAno = dfResultadosPartidoMunicipio[dfResultadosPartidoMunicipio['turno'].eq(1)].set_index(['ano', 'orientacao politica', 'bairro']).groupby(level=(0, 1, 2)).agg({\"votos_nominais\":np.sum, \"votos_nao_nominais\":np.sum}).reset_index()\n",
    "    \n",
    "dfAgrupadoOrientacaoPoliticaMunicipioPorAno['votos totais'] = dfAgrupadoOrientacaoPoliticaMunicipioPorAno['votos_nominais'] + dfAgrupadoOrientacaoPoliticaMunicipioPorAno['votos_nao_nominais']\n",
    "\n",
    "dfOrientacaoPoliticaMunicipioMaxVotos = pd.DataFrame()\n",
    "for group, frame in dfAgrupadoOrientacaoPoliticaMunicipioPorAno.set_index(['ano', 'bairro']).groupby(level = (0, 1)):\n",
    "    n_votos = np.max(frame['votos totais'])\n",
    "    dfOrientacaoPoliticaMunicipioMaxVotos = dfOrientacaoPoliticaMunicipioMaxVotos.append(frame[frame['votos totais'].eq(n_votos)])\n",
    "\n",
    "dfOrientacaoPoliticaMunicipioMaxVotos.reset_index(inplace=True)"
   ]
  },
  {
   "cell_type": "code",
   "execution_count": null,
   "id": "b4aff5e9",
   "metadata": {},
   "outputs": [],
   "source": [
    "ano = 2018\n",
    "fig = px.choropleth_mapbox(dfOrientacaoPoliticaMunicipioMaxVotos[dfOrientacaoPoliticaMunicipioMaxVotos['ano'].eq(ano)], \n",
    "                           geojson=bairros, locations='bairro', color='orientacao politica',\n",
    "                           featureidkey=\"properties.NOME\",\n",
    "                           color_continuous_scale=\"Viridis\",\n",
    "                           mapbox_style=\"carto-positron\",\n",
    "                           hover_data=['votos totais'],\n",
    "                           center={\"lon\": -43.1811097599, \"lat\": -22.895417528999 },\n",
    "                           title='Orientação política mais votada em cada bairro do Rio de Janeiro no ano '+str(ano),\n",
    "                           zoom=9\n",
    "                          )\n",
    "\n",
    "fig.show()"
   ]
  },
  {
   "cell_type": "code",
   "execution_count": null,
   "id": "f3686a12",
   "metadata": {
    "scrolled": true
   },
   "outputs": [],
   "source": [
    "if not dataAlreadyBeenGot('csv/filiados.csv'):\n",
    "    dfFiliacaoPartidaria = pd.DataFrame()\n",
    "    for ano in dfAgrupadoResultadosPartidoMunicipioPorAno['ano'].unique():\n",
    "        queryFiliacaoPartidaria = \"\"\"\n",
    "            SELECT COUNT(*) AS n_filiados, FP.secao, FP.zona, FP.sigla_partido FROM `basedosdados.br_tse_filiacao_partidaria.filiacao_partidaria` AS FP\n",
    "            WHERE FP.id_municipio_tse={} AND (FP.data_desfiliacao > '{}-12-30' OR (FP.situacao_registro = 'regular' AND FP.data_filiacao < '{}-01-01'))\n",
    "            GROUP BY FP.zona, FP.sigla_partido, FP.secao\n",
    "            ORDER BY FP.zona\"\"\".format(municipios[municipios['nome_municipio'].eq('RIO DE JANEIRO')]['codigo_tse'].values[0], ano, ano)\n",
    "\n",
    "        dfResultadoQuery = bd.read_sql(queryFiliacaoPartidaria, billing_project_id='capacitacaoufrjanalytica')\n",
    "        dfResultadoQuery['ano'] = [ano]*len(dfResultadoQuery)\n",
    "        dfFiliacaoPartidaria = dfFiliacaoPartidaria.append(dfResultadoQuery)"
   ]
  },
  {
   "cell_type": "code",
   "execution_count": null,
   "id": "f4daf55a",
   "metadata": {},
   "outputs": [],
   "source": [
    "if not dataAlreadyBeenGot('csv/filiados.csv'):\n",
    "    dfFiliacaoPartidaria = pd.merge(dfFiliacaoPartidaria, bairrosFromZonaSecao, how='left', left_on=['secao', 'zona'], right_on = ['secao', 'zona'])\n",
    "    dfFiliacaoPartidaria.replace(np.nan, 'nao informado', inplace=True)\n"
   ]
  },
  {
   "cell_type": "code",
   "execution_count": null,
   "id": "65972bab",
   "metadata": {},
   "outputs": [],
   "source": [
    "if not dataAlreadyBeenGot('csv/filiados.csv'):\n",
    "    dfFiliacaoPartidaria = dfFiliacaoPartidaria.set_index(['ano', 'sigla_partido', 'bairro']).groupby(level=(0, 1, 2)).agg({\"n_filiados\":np.sum}).reset_index()\n",
    "    dfFiliacaoPartidaria.to_csv('csv/filiados.csv')\n",
    "else:\n",
    "    dfFiliacaoPartidaria = pd.read_csv(\"csv/filiados.csv\")"
   ]
  },
  {
   "cell_type": "code",
   "execution_count": null,
   "id": "b853a87d",
   "metadata": {},
   "outputs": [],
   "source": [
    "filiadosPorPartido = dfFiliacaoPartidaria.set_index(['ano', 'sigla_partido']).groupby(level=(0, 1)).agg({\"n_filiados\":np.sum}).reset_index()"
   ]
  },
  {
   "cell_type": "code",
   "execution_count": null,
   "id": "bc1a2912",
   "metadata": {},
   "outputs": [],
   "source": [
    "partido = ['MDB', 'PT', 'PSDB']\n",
    "fig = px.line(filiadosPorPartido[filiadosPorPartido['sigla_partido'].isin(partido)], x=\"ano\", y=\"n_filiados\", \n",
    "              color = \"sigla_partido\",\n",
    "              title='Filiados do '+str(partido)[1:-1]+' X ano')\n",
    "fig.show()"
   ]
  },
  {
   "cell_type": "code",
   "execution_count": null,
   "id": "d1e6ee5f",
   "metadata": {},
   "outputs": [],
   "source": [
    "filiadosPartidoPorBairro = dfFiliacaoPartidaria.set_index(['ano', 'bairro','sigla_partido']).groupby(level=(0, 1, 2)).agg({\"n_filiados\":np.sum}).reset_index()"
   ]
  },
  {
   "cell_type": "code",
   "execution_count": null,
   "id": "8f6d1626",
   "metadata": {
    "scrolled": false
   },
   "outputs": [],
   "source": [
    "partido = ['PT', 'PSL', 'PSOL', 'DEM']\n",
    "bairro = 'Barra da Tijuca'\n",
    "fig = px.line(filiadosPartidoPorBairro[filiadosPartidoPorBairro['sigla_partido'].isin(partido) & filiadosPartidoPorBairro['bairro'].eq(bairro)], \n",
    "              x=\"ano\", y=\"n_filiados\", \n",
    "              color='sigla_partido',\n",
    "              title='Filiados dos partido '+str(partido)[1:-1]+' no(a) '+bairro+' X ano')\n",
    "fig.show()"
   ]
  },
  {
   "cell_type": "code",
   "execution_count": null,
   "id": "bdcc2135",
   "metadata": {},
   "outputs": [],
   "source": [
    "dfFiliacaoPartidaria['orientacao politica'] = dfFiliacaoPartidaria['sigla_partido'].map(lambda x: returnOrientacaoPolitica(x))"
   ]
  },
  {
   "cell_type": "code",
   "execution_count": null,
   "id": "c634507f",
   "metadata": {},
   "outputs": [],
   "source": [
    "filiadosPorOrientacaoPolitica = dfFiliacaoPartidaria.set_index(['ano', 'orientacao politica']).groupby(level=(0, 1)).agg({\"n_filiados\":np.sum}).reset_index()"
   ]
  },
  {
   "cell_type": "code",
   "execution_count": null,
   "id": "16d5d682",
   "metadata": {},
   "outputs": [],
   "source": [
    "fig = px.line(filiadosPorOrientacaoPolitica, x=\"ano\", y=\"n_filiados\", color='orientacao politica',\n",
    "             title='Filiados de determinada ideologica política X ano')\n",
    "fig.show()"
   ]
  },
  {
   "cell_type": "code",
   "execution_count": null,
   "id": "c803b121",
   "metadata": {},
   "outputs": [],
   "source": [
    "filiadosOrientacaoPorBairro = dfFiliacaoPartidaria.set_index(['ano', 'bairro','orientacao politica']).groupby(level=(0, 1, 2)).agg({\"n_filiados\":np.sum}).reset_index()"
   ]
  },
  {
   "cell_type": "code",
   "execution_count": null,
   "id": "bd981bb2",
   "metadata": {},
   "outputs": [],
   "source": [
    "orientacao = 'direita'\n",
    "bairro = ['Barra da Tijuca', 'Taquara', 'Tanque', 'Copacabana']\n",
    "fig = px.line(filiadosOrientacaoPorBairro[filiadosOrientacaoPorBairro['bairro'].isin(bairro) & filiadosOrientacaoPorBairro['orientacao politica'].eq(orientacao)], \n",
    "              x=\"ano\", y=\"n_filiados\", color='bairro',\n",
    "             title='Filiados de partidos de '+orientacao+' nos(as) '+str(bairro)[1:-1]+' X ano')\n",
    "fig.show()"
   ]
  },
  {
   "cell_type": "code",
   "execution_count": null,
   "id": "30295825",
   "metadata": {},
   "outputs": [],
   "source": [
    "bairro = 'Barra da Tijuca'\n",
    "fig = px.line(filiadosOrientacaoPorBairro[filiadosOrientacaoPorBairro['bairro'].eq(bairro)], \n",
    "              x=\"ano\", y=\"n_filiados\", color='orientacao politica',\n",
    "             title='Filiados de determinada ideologica política no(a) '+bairro+' X ano')\n",
    "fig.show()"
   ]
  },
  {
   "cell_type": "code",
   "execution_count": null,
   "id": "655de563",
   "metadata": {},
   "outputs": [],
   "source": [
    "def calcularResultadoAgrupadoPorAno(ano):\n",
    "    bairrosArray = []\n",
    "    n_filiadosArray = []\n",
    "    partidosArray = []\n",
    "    \n",
    "    for bairro, frame in dfFiliacaoPartidaria[dfFiliacaoPartidaria['ano'].eq(ano)].groupby('bairro'):\n",
    "        n_filiados = np.max(frame['n_filiados'])\n",
    "        partido = dfFiliacaoPartidaria[dfFiliacaoPartidaria['n_filiados'].eq(n_filiados) & dfFiliacaoPartidaria['bairro'].eq(bairro)]['sigla_partido'].values[0]\n",
    "        \n",
    "            \n",
    "        n_filiadosArray.append(n_filiados)\n",
    "        partidosArray.append(partido)\n",
    "        bairrosArray.append(bairro)\n",
    "        \n",
    "    \n",
    "    dfAgrupadoFiliacaoPartidaria = pd.DataFrame([bairrosArray, n_filiadosArray, partidosArray], \n",
    "                              index=['bairro', 'filiados', 'partido']).T\n",
    "    \n",
    "    dfAgrupadoFiliacaoPartidaria['ano'] = [ano]*len(dfAgrupadoFiliacaoPartidaria)\n",
    "    \n",
    "    return dfAgrupadoFiliacaoPartidaria\n",
    "\n",
    "dfAgrupadoFiliacaoPartidariaPorAno = pd.DataFrame()\n",
    "for a in dfFiliacaoPartidaria['ano'].unique():\n",
    "    dfAgrupadoFiliacaoPartidariaPorAno = dfAgrupadoFiliacaoPartidariaPorAno.append(calcularResultadoAgrupadoPorAno(a))\n",
    "dfAgrupadoFiliacaoPartidariaPorAno.reset_index(drop=True, inplace=True)                     "
   ]
  },
  {
   "cell_type": "code",
   "execution_count": null,
   "id": "9c09cba6",
   "metadata": {
    "scrolled": false
   },
   "outputs": [],
   "source": [
    "ano = 2020\n",
    "fig = px.choropleth_mapbox(dfAgrupadoFiliacaoPartidariaPorAno[dfAgrupadoFiliacaoPartidariaPorAno['ano'].eq(ano)], geojson=bairros, locations='bairro', color='partido',\n",
    "                           featureidkey=\"properties.NOME\",\n",
    "                           color_continuous_scale=\"Viridis\",\n",
    "                           mapbox_style=\"carto-positron\",\n",
    "                           hover_data=['filiados'],\n",
    "                           center={\"lon\": -43.1811097599, \"lat\": -22.895417528999 },\n",
    "                           zoom=9\n",
    "                          )\n",
    "\n",
    "fig.show()"
   ]
  },
  {
   "cell_type": "code",
   "execution_count": null,
   "id": "d3e14b60",
   "metadata": {},
   "outputs": [],
   "source": [
    "dfAgrupadoFiliacaoOrientacaoPoliticaPorAno = dfFiliacaoPartidaria.set_index(['ano', 'orientacao politica', 'bairro']).groupby(level=(0, 1, 2)).agg({\"n_filiados\":np.sum}).reset_index()\n",
    "\n",
    "dfOrientacaoPoliticaMunicipioMaxFiliados = pd.DataFrame()\n",
    "for group, frame in dfAgrupadoFiliacaoOrientacaoPoliticaPorAno.set_index(['ano', 'bairro']).groupby(level = (0, 1)):\n",
    "    n_filiados = np.max(frame['n_filiados'])\n",
    "    dfOrientacaoPoliticaMunicipioMaxFiliados = dfOrientacaoPoliticaMunicipioMaxFiliados.append(frame[frame['n_filiados'].eq(n_filiados)])\n",
    "\n",
    "dfOrientacaoPoliticaMunicipioMaxFiliados.reset_index(inplace=True)"
   ]
  },
  {
   "cell_type": "code",
   "execution_count": null,
   "id": "a4601723",
   "metadata": {},
   "outputs": [],
   "source": [
    "ano = 2020\n",
    "fig = px.choropleth_mapbox(dfOrientacaoPoliticaMunicipioMaxFiliados[dfOrientacaoPoliticaMunicipioMaxFiliados['ano'].eq(ano)], \n",
    "                           geojson=bairros, locations='bairro', color='orientacao politica',\n",
    "                           featureidkey=\"properties.NOME\",\n",
    "                           color_continuous_scale=\"Viridis\",\n",
    "                           mapbox_style=\"carto-positron\",\n",
    "                           hover_data=['n_filiados'],\n",
    "                           center={\"lon\": -43.1811097599, \"lat\": -22.895417528999 },\n",
    "                           zoom=9\n",
    "                          )\n",
    "\n",
    "fig.show()"
   ]
  },
  {
   "cell_type": "code",
   "execution_count": null,
   "id": "1d8c2405",
   "metadata": {},
   "outputs": [],
   "source": [
    "votosArray = []\n",
    "anosArray = []\n",
    "partidosArray = []\n",
    "cargosArray = []\n",
    "bairrosArray = []\n",
    "for group, frame in dfResultadosPartidoMunicipio[dfResultadosPartidoMunicipio['turno'].ne(2)].set_index(['ano', 'sigla_partido', 'cargo', 'bairro']).groupby(level=(0, 1, 2, 3)):\n",
    "    n_votos = np.sum(frame['votos_nominais']) + np.sum(frame['votos_nao_nominais']) \n",
    "    votosArray.append(n_votos)\n",
    "    anosArray.append(group[0])\n",
    "    partidosArray.append(group[1])\n",
    "    cargosArray.append(group[2])\n",
    "    bairrosArray.append(group[3])\n",
    "\n",
    "dfVotosAgrupados = pd.DataFrame([votosArray, anosArray, partidosArray, cargosArray, bairrosArray],\n",
    "                               index=['votos', 'ano', 'partido', 'cargo', 'bairro']).T"
   ]
  },
  {
   "cell_type": "code",
   "execution_count": null,
   "id": "48d76b68",
   "metadata": {},
   "outputs": [],
   "source": [
    "filiadosArray = []\n",
    "anosArray = []\n",
    "partidosArray = []\n",
    "bairrosArray = []\n",
    "for group, frame in dfFiliacaoPartidaria.set_index(['ano', 'sigla_partido', 'bairro']).groupby(level=(0, 1, 2)):\n",
    "    n_filiados = np.sum(frame['n_filiados'])\n",
    "    filiadosArray.append(n_filiados)\n",
    "    anosArray.append(group[0])\n",
    "    partidosArray.append(group[1])\n",
    "    bairrosArray.append(group[2])\n",
    "    \n",
    "dfFiliadosAgrupados = pd.DataFrame([filiadosArray, anosArray, partidosArray, bairrosArray],\n",
    "                               index=['filiados', 'ano', 'partido', 'bairro']).T"
   ]
  },
  {
   "cell_type": "code",
   "execution_count": null,
   "id": "b6c98bba",
   "metadata": {},
   "outputs": [],
   "source": [
    "new_df = pd.merge(dfFiliadosAgrupados, dfVotosAgrupados,  how='inner', left_on=['ano', 'partido', 'bairro'], right_on = ['ano', 'partido', 'bairro'])"
   ]
  },
  {
   "cell_type": "code",
   "execution_count": null,
   "id": "fcca8403",
   "metadata": {},
   "outputs": [],
   "source": [
    "new_df['filiados'] = new_df['filiados'].values.astype(int)\n",
    "new_df['votos'] = new_df['votos'].values.astype(int)"
   ]
  },
  {
   "cell_type": "code",
   "execution_count": null,
   "id": "c2bd9f11",
   "metadata": {},
   "outputs": [],
   "source": [
    "dfWithoutCargos = new_df.set_index(['ano', 'partido', 'bairro']).groupby(level=(0, 1, 2)).agg({\"votos\":np.sum, \"filiados\":np.max}).reset_index()"
   ]
  },
  {
   "cell_type": "code",
   "execution_count": null,
   "id": "c756d9d8",
   "metadata": {
    "scrolled": false
   },
   "outputs": [],
   "source": [
    "fig = px.scatter(dfWithoutCargos, x=\"filiados\", y=\"votos\", color='partido', hover_data=['ano', 'bairro'])\n",
    "fig.show()"
   ]
  },
  {
   "cell_type": "code",
   "execution_count": null,
   "id": "673bfdd1",
   "metadata": {},
   "outputs": [],
   "source": [
    "dfPartidos = pd.DataFrame({'partido': dfWithoutCargos[:-1]['partido'].unique()})\n",
    "dfPartidos['corr'] = dfPartidos['partido'].map(lambda x: stats.pearsonr(dfWithoutCargos[dfWithoutCargos['partido'].eq(x)]['filiados'], dfWithoutCargos[dfWithoutCargos['partido'].eq(x)]['votos'])[0])\n",
    "dfPartidos.head()"
   ]
  },
  {
   "cell_type": "code",
   "execution_count": null,
   "id": "8a5c1133",
   "metadata": {},
   "outputs": [],
   "source": [
    "dfBairros = pd.DataFrame({'bairro': dfWithoutCargos['bairro'].unique()})\n",
    "dfBairros['corr'] = dfBairros['bairro'].map(lambda x: stats.pearsonr(dfWithoutCargos[dfWithoutCargos['bairro'].eq(x)]['filiados'], dfWithoutCargos[dfWithoutCargos['bairro'].eq(x)]['votos'])[0])\n",
    "\n",
    "dfBairros.head()"
   ]
  },
  {
   "cell_type": "code",
   "execution_count": null,
   "id": "2fb9548e",
   "metadata": {},
   "outputs": [],
   "source": [
    "dfCargos = pd.DataFrame({ 'cargo': new_df['cargo'].unique()})\n",
    "dfCargos['corr'] = dfCargos['cargo'].map(lambda x: stats.pearsonr(new_df[new_df['cargo'].eq(x)]['filiados'], new_df[new_df['cargo'].eq(x)]['votos'])[0])\n",
    "\n",
    "dfCargos.head()"
   ]
  },
  {
   "cell_type": "code",
   "execution_count": null,
   "id": "e93e2870",
   "metadata": {},
   "outputs": [],
   "source": [
    "representacao_congresso = pd.read_csv('csv/representacao_congresso.csv')\n",
    "\n",
    "representacao_congresso.columns = ['partido', 'Assentos no Senado', 'Assentos na Câmara']\n",
    "representacao_congresso['Assentos no Senado'] = representacao_congresso['Assentos no Senado'].map(lambda x: np.int(x[:-4]))\n",
    "representacao_congresso['Assentos na Câmara'] = representacao_congresso['Assentos na Câmara'].map(lambda x: np.int(x[:-6]))\n",
    "\n",
    "representacao_congresso['partido'] = representacao_congresso['partido'].map(lambda x: x.upper())"
   ]
  },
  {
   "cell_type": "code",
   "execution_count": null,
   "id": "b88b4082",
   "metadata": {},
   "outputs": [],
   "source": [
    "dfPartidos = pd.merge(dfPartidos, representacao_congresso,  how='inner', left_on=['partido'], right_on = ['partido'])"
   ]
  },
  {
   "cell_type": "code",
   "execution_count": null,
   "id": "c9377b60",
   "metadata": {},
   "outputs": [],
   "source": [
    "dfPartidos['orientacao politica'] = dfPartidos['partido'].map(lambda x: orientacao_partidos[orientacao_partidos['Nome'].eq(x)]['Congresso em Foco (2019)[37]'].iloc[0])"
   ]
  },
  {
   "cell_type": "code",
   "execution_count": null,
   "id": "169f9197",
   "metadata": {},
   "outputs": [],
   "source": [
    "def retornarValorDiscretizado(x, minValue, maxValue, bins):\n",
    "    for i in range(1, bins + 1):\n",
    "        if x <= minValue + i * ((maxValue - minValue)/bins):\n",
    "            return str(minValue + (i-1) * ((maxValue - minValue)/bins))+ \" - \" + str(minValue + i * ((maxValue - minValue)/bins))\n",
    "\n",
    "def discretizar(i):\n",
    "    minValue = np.min(i)\n",
    "    maxValue = np.max(i)\n",
    "    bins = int(np.sqrt(len(i)))\n",
    "            \n",
    "    return i.map(lambda v:retornarValorDiscretizado(v, minValue, maxValue, bins))\n",
    "\n",
    "dfPartidos['corr discretizada'] = discretizar(dfPartidos['corr'])"
   ]
  },
  {
   "cell_type": "code",
   "execution_count": null,
   "id": "db40ec8d",
   "metadata": {},
   "outputs": [],
   "source": [
    "def calcularIndiceDeGiniParaValor(df, resultado, valor, coluna):\n",
    "    gini = 0\n",
    "    for value in df[resultado].unique():\n",
    "        pi = len(df[df[coluna].eq(valor) & df[resultado].eq(value)])/len(df[df[coluna].eq(valor)])\n",
    "        gini += pi * pi\n",
    "    gini = 1 - gini\n",
    "    return gini\n",
    "    \n",
    "def calcularIndiceDeGini(df, resultado, coluna):\n",
    "    values = df[coluna].unique()\n",
    "    gini = 0\n",
    "    for i in values:\n",
    "        pi = len(df[df[coluna].eq(i)])/len(df)\n",
    "        gini += calcularIndiceDeGiniParaValor(df, resultado, i, coluna) * pi\n",
    "    \n",
    "    return gini\n",
    "\n",
    "def calcularEntropia(df, coluna):\n",
    "    values = df[coluna].unique()\n",
    "    entropia = 0\n",
    "    for i in values:\n",
    "        pi = len(df[df[coluna].eq(i)])/len(df)\n",
    "        entropia += pi*np.log2(pi)\n",
    "    return -entropia\n",
    "\n",
    "def calcularGanho(df, resultado, coluna):\n",
    "    values = df[coluna].unique()\n",
    "    ganho = 0\n",
    "    for i in values:\n",
    "        pi = len(df[df[coluna].eq(i)])/len(df)\n",
    "        ganho += pi * calcularEntropia(df[df[coluna].eq(i)], resultado)\n",
    "    ganho = calcularEntropia(df, resultado) - ganho\n",
    "    return ganho"
   ]
  },
  {
   "cell_type": "code",
   "execution_count": null,
   "id": "b3041b83",
   "metadata": {},
   "outputs": [],
   "source": [
    "partidosGini = pd.DataFrame()\n",
    "\n",
    "for c in ['orientacao politica', 'Assentos no Senado', 'Assentos na Câmara']:\n",
    "    partidosGini = partidosGini.append({'coluna': c, \n",
    "                                        'gini': calcularIndiceDeGini(dfPartidos, 'corr discretizada', c), \n",
    "                                        'informação mutua': calcularGanho(dfPartidos, 'corr discretizada', c)},\n",
    "                                       ignore_index=True)"
   ]
  },
  {
   "cell_type": "code",
   "execution_count": null,
   "id": "9bcb08e1",
   "metadata": {},
   "outputs": [],
   "source": [
    "fig = px.bar(partidosGini, x='coluna', y='gini', color='coluna',\n",
    "            title='Indice de gini por coluna dos Partidos')\n",
    "fig.show()"
   ]
  },
  {
   "cell_type": "code",
   "execution_count": null,
   "id": "591d94e4",
   "metadata": {},
   "outputs": [],
   "source": [
    "fig = px.bar(partidosGini, x='coluna', y='informação mutua', color='coluna',\n",
    "            title='Informação Mútua por coluna dos Partidos')\n",
    "fig.show()"
   ]
  },
  {
   "cell_type": "code",
   "execution_count": null,
   "id": "345509ae",
   "metadata": {},
   "outputs": [],
   "source": [
    "partidosCorrMediaOrientacaoPolitica = dfPartidos.groupby('orientacao politica').agg({'corr': np.average}).reset_index()\n",
    "\n",
    "fig = px.bar(partidosCorrMediaOrientacaoPolitica, x='orientacao politica', y='corr', color='orientacao politica',\n",
    "            title='Correlação media por orientacao politica')\n",
    "fig.show()"
   ]
  },
  {
   "cell_type": "code",
   "execution_count": null,
   "id": "9a11436e",
   "metadata": {},
   "outputs": [],
   "source": [
    "partidosCorrMediaAssentosNoSenado = dfPartidos.groupby('Assentos no Senado').agg({'corr': np.average}).reset_index()\n",
    "\n",
    "fig = px.bar(partidosCorrMediaAssentosNoSenado, x='Assentos no Senado', y='corr', color='Assentos no Senado',\n",
    "            title='Correlação media por Assentos no Senado')\n",
    "fig.show()"
   ]
  },
  {
   "cell_type": "code",
   "execution_count": null,
   "id": "cf17a274",
   "metadata": {},
   "outputs": [],
   "source": [
    "partidosCorrMediaAssentosNoSenadoCongresso = dfPartidos.groupby('Assentos na Câmara').agg({'corr': np.average}).reset_index()\n",
    "\n",
    "fig = px.bar(partidosCorrMediaAssentosNoSenadoCongresso, x='Assentos na Câmara', y='corr', color='Assentos na Câmara',\n",
    "            title='Correlação media por Assentos na Câmara')\n",
    "fig.show()"
   ]
  },
  {
   "cell_type": "code",
   "execution_count": null,
   "id": "96dd14b0",
   "metadata": {},
   "outputs": [],
   "source": [
    "bairro_idh = pd.read_csv('csv/bairro_idh.csv')\n",
    "bairro_idh = bairro_idh.iloc[1:]\n",
    "bairro_idh.columns = ['N', 'bairro', 'exp de vida', 'alfabetizacao', 'frequencia escolar', 'renda per capita' ,'IL', 'IE', 'IR', 'IDH']\n",
    "bairro_idh = bairro_idh.replace(to_replace ='\\[\\w\\]', value = '', regex = True)\n",
    "bairro_idh.replace(to_replace =',', value = '.', regex = True, inplace=True)\n",
    "        \n",
    "cols=[i for i in bairro_idh.columns if i not in [\"N\",\"bairro\"]]\n",
    "for col in cols:\n",
    "    bairro_idh[col]=pd.to_numeric(bairro_idh[col])"
   ]
  },
  {
   "cell_type": "code",
   "execution_count": null,
   "id": "e2741702",
   "metadata": {
    "scrolled": false
   },
   "outputs": [],
   "source": [
    "dfBairros = pd.merge(dfBairros, bairro_idh,  how='inner', left_on=['bairro'], right_on = ['bairro'])"
   ]
  },
  {
   "cell_type": "code",
   "execution_count": null,
   "id": "b8f9c866",
   "metadata": {},
   "outputs": [],
   "source": [
    "bairro_ids = pd.read_csv('csv/bairro_ids.csv')\n",
    "bairro_ids.columns = ['N', 'bairro', 'R A', 'regiao', 'IDS']\n",
    "bairro_ids.replace(to_replace =',', value = '.', regex = True, inplace=True)\n",
    "bairro_ids['IDS'] = pd.to_numeric(bairro_ids['IDS']) "
   ]
  },
  {
   "cell_type": "code",
   "execution_count": null,
   "id": "f886f842",
   "metadata": {
    "scrolled": true
   },
   "outputs": [],
   "source": [
    "dfBairros = pd.merge(dfBairros, bairro_ids.loc[:, ~bairro_ids.columns.isin(['N'])],  how='inner', left_on=['bairro'], right_on = ['bairro'])"
   ]
  },
  {
   "cell_type": "code",
   "execution_count": null,
   "id": "4ccf4700",
   "metadata": {
    "scrolled": true
   },
   "outputs": [],
   "source": [
    "dfBairros['exp de vida discretizada'] = discretizar(dfBairros['exp de vida'])\n",
    "dfBairros['alfabetizacao discretizada'] = discretizar(dfBairros['alfabetizacao'])\n",
    "dfBairros['frequencia escolar discretizada'] = discretizar(dfBairros['frequencia escolar'])\n",
    "dfBairros['renda per capita discretizada'] = discretizar(dfBairros['renda per capita'])\n",
    "dfBairros['corr discretizada'] = discretizar(dfBairros['corr'])"
   ]
  },
  {
   "cell_type": "code",
   "execution_count": null,
   "id": "fde57e5d",
   "metadata": {},
   "outputs": [],
   "source": [
    "bairrosGini = pd.DataFrame()\n",
    "\n",
    "for c in ['exp de vida discretizada', 'alfabetizacao discretizada', 'frequencia escolar discretizada', 'renda per capita discretizada', 'regiao']:\n",
    "    bairrosGini = bairrosGini.append({'coluna': c, \n",
    "                                        'gini': calcularIndiceDeGini(dfBairros, 'corr discretizada', c)}, \n",
    "                                       ignore_index=True)"
   ]
  },
  {
   "cell_type": "code",
   "execution_count": null,
   "id": "aaed2f5f",
   "metadata": {},
   "outputs": [],
   "source": [
    "fig = px.bar(bairrosGini, x='coluna', y='gini', color='coluna',\n",
    "            title='Indice de gini por coluna dos Bairros')\n",
    "fig.show()"
   ]
  },
  {
   "cell_type": "code",
   "execution_count": null,
   "id": "da63847c",
   "metadata": {},
   "outputs": [],
   "source": [
    "bairrosCorrMediaoRegiao = dfBairros.groupby('regiao').agg({'corr': np.average}).reset_index()\n",
    "\n",
    "fig = px.bar(bairrosCorrMediaoRegiao, x='regiao', y='corr', color='regiao',\n",
    "            title='Correlação media por região')\n",
    "fig.show()"
   ]
  },
  {
   "cell_type": "code",
   "execution_count": null,
   "id": "25bc0b1c",
   "metadata": {},
   "outputs": [],
   "source": [
    "bairrosCorrMediaExpDeVida = dfBairros.groupby('exp de vida discretizada').agg({'corr': np.average}).reset_index()\n",
    "\n",
    "fig = px.bar(bairrosCorrMediaExpDeVida, x='exp de vida discretizada', y='corr', color='exp de vida discretizada',\n",
    "            title='Correlação media por Expectativa de Vida')\n",
    "fig.show()"
   ]
  },
  {
   "cell_type": "code",
   "execution_count": null,
   "id": "15176148",
   "metadata": {},
   "outputs": [],
   "source": [
    "bairrosCorrMediaRenda = dfBairros.groupby('renda per capita discretizada').agg({'corr': np.average}).reset_index()\n",
    "\n",
    "\n",
    "fig = px.bar(bairrosCorrMediaRenda, x='renda per capita discretizada', y='corr', color='renda per capita discretizada',\n",
    "            title='Correlação media por Renda per Capita')\n",
    "fig.show()"
   ]
  },
  {
   "cell_type": "code",
   "execution_count": null,
   "id": "bcbf4a27",
   "metadata": {},
   "outputs": [],
   "source": [
    "bairrosCorrMediaAlfabetizacao = dfBairros.groupby('alfabetizacao discretizada').agg({'corr': np.average}).reset_index()\n",
    "\n",
    "\n",
    "fig = px.bar(bairrosCorrMediaAlfabetizacao, x='alfabetizacao discretizada', y='corr', color='alfabetizacao discretizada',\n",
    "            title='Correlação media por Alfabetização')\n",
    "fig.show()"
   ]
  },
  {
   "cell_type": "code",
   "execution_count": null,
   "id": "2fd8562a",
   "metadata": {},
   "outputs": [],
   "source": [
    "bairrosCorrMediaFrequenciaEscolar = dfBairros.groupby('frequencia escolar discretizada').agg({'corr': np.average}).reset_index()\n",
    "\n",
    "\n",
    "fig = px.bar(bairrosCorrMediaFrequenciaEscolar, x='frequencia escolar discretizada', y='corr', color='frequencia escolar discretizada',\n",
    "            title='Correlação media por Frequência Escolar')\n",
    "fig.show()"
   ]
  },
  {
   "cell_type": "code",
   "execution_count": null,
   "id": "89a7e04a",
   "metadata": {},
   "outputs": [],
   "source": [
    "reg = LinearRegression().fit(dfWithoutCargos['filiados'].values.reshape(-1, 1),dfWithoutCargos['votos'].values )"
   ]
  },
  {
   "cell_type": "code",
   "execution_count": null,
   "id": "de36144b",
   "metadata": {},
   "outputs": [],
   "source": [
    "reg.score(dfWithoutCargos['filiados'].values.reshape(-1, 1),dfWithoutCargos['votos'].values)"
   ]
  },
  {
   "cell_type": "code",
   "execution_count": null,
   "id": "f1d996c5",
   "metadata": {},
   "outputs": [],
   "source": [
    "fig = px.scatter(dfWithoutCargos, x=\"filiados\", y=\"votos\", color='partido', hover_data=['ano', 'bairro'])\n",
    "\n",
    "fig.add_trace(\n",
    "    go.Scatter(\n",
    "        x=dfWithoutCargos['filiados'].values,\n",
    "        y=reg.predict(dfWithoutCargos['filiados'].values.reshape(-1, 1)),\n",
    "        mode=\"lines\",\n",
    "        line=go.scatter.Line(color=\"gray\"),\n",
    "        showlegend=False)\n",
    ")\n",
    "fig.show()"
   ]
  },
  {
   "cell_type": "code",
   "execution_count": null,
   "id": "9d8607ed",
   "metadata": {},
   "outputs": [],
   "source": [
    "regDict = {}\n",
    "for partido in dfWithoutCargos['partido'].unique():\n",
    "    regDict[partido] = LinearRegression().fit(dfWithoutCargos[dfWithoutCargos['partido'].eq(partido)]['filiados'].values.reshape(-1, 1),dfWithoutCargos[dfWithoutCargos['partido'].eq(partido)]['votos'].values )"
   ]
  },
  {
   "cell_type": "code",
   "execution_count": null,
   "id": "d1170ee9",
   "metadata": {},
   "outputs": [],
   "source": [
    "dfScorePartido = pd.DataFrame({'partido': dfWithoutCargos['partido'].unique()})\n",
    "dfScorePartido['score'] = [regDict[partido].score(dfWithoutCargos[dfWithoutCargos['partido'].eq(partido)]['filiados'].values.reshape(-1, 1), dfWithoutCargos[dfWithoutCargos['partido'].eq(partido)]['votos'].values) for partido in dfWithoutCargos['partido'].unique()]\n",
    "dfScorePartido"
   ]
  },
  {
   "cell_type": "code",
   "execution_count": null,
   "id": "45ba1997",
   "metadata": {},
   "outputs": [],
   "source": [
    "partido = 'NOVO'\n",
    "fig = px.scatter(dfWithoutCargos[dfWithoutCargos['partido'].eq(partido)], x=\"filiados\", y=\"votos\", color='bairro', hover_data=['ano', 'bairro'])\n",
    "\n",
    "fig.add_trace(\n",
    "    go.Scatter(\n",
    "        x=dfWithoutCargos[dfWithoutCargos['partido'].eq(partido)]['filiados'].values,\n",
    "        y=regDict[partido].predict(dfWithoutCargos[dfWithoutCargos['partido'].eq(partido)]['filiados'].values.reshape(-1, 1)),\n",
    "        mode=\"lines\",\n",
    "        line=go.scatter.Line(color=\"gray\"),\n",
    "        showlegend=False)\n",
    ")\n",
    "fig.show()"
   ]
  },
  {
   "cell_type": "code",
   "execution_count": null,
   "id": "598f3a76",
   "metadata": {},
   "outputs": [],
   "source": [
    "for bairro in dfWithoutCargos['bairro'].unique():\n",
    "    regDict[bairro] = LinearRegression().fit(dfWithoutCargos[dfWithoutCargos['bairro'].eq(bairro)]['filiados'].values.reshape(-1, 1),dfWithoutCargos[dfWithoutCargos['bairro'].eq(bairro)]['votos'].values )"
   ]
  },
  {
   "cell_type": "code",
   "execution_count": null,
   "id": "89e6cc1c",
   "metadata": {},
   "outputs": [],
   "source": [
    "dfScoreBairro = pd.DataFrame({'bairro': dfWithoutCargos['bairro'].unique()})\n",
    "dfScoreBairro['score'] = [regDict[bairro].score(dfWithoutCargos[dfWithoutCargos['bairro'].eq(bairro)]['filiados'].values.reshape(-1, 1), dfWithoutCargos[dfWithoutCargos['bairro'].eq(bairro)]['votos'].values) for bairro in dfWithoutCargos['bairro'].unique()]\n",
    "dfScoreBairro.head()"
   ]
  },
  {
   "cell_type": "code",
   "execution_count": null,
   "id": "81f253d2",
   "metadata": {},
   "outputs": [],
   "source": [
    "bairro = 'Anil'\n",
    "fig = px.scatter(dfWithoutCargos[dfWithoutCargos['bairro'].eq(bairro)], x=\"filiados\", y=\"votos\", color='partido', hover_data=['ano', 'bairro'])\n",
    "\n",
    "fig.add_trace(\n",
    "    go.Scatter(\n",
    "        x=dfWithoutCargos[dfWithoutCargos['bairro'].eq(bairro)]['filiados'].values,\n",
    "        y=regDict[bairro].predict(dfWithoutCargos[dfWithoutCargos['bairro'].eq(bairro)]['filiados'].values.reshape(-1, 1)),\n",
    "        mode=\"lines\",\n",
    "        line=go.scatter.Line(color=\"gray\"),\n",
    "        showlegend=False)\n",
    ")\n",
    "fig.show()"
   ]
  },
  {
   "cell_type": "code",
   "execution_count": null,
   "id": "69ba9dc5",
   "metadata": {},
   "outputs": [],
   "source": [
    "def desempenhoVotos(orientacao, bairro):\n",
    "    votosPorBairroPorOrientacao = dfForKmeans[dfForKmeans['orientacao politica'].eq(orientacao) & dfForKmeans['bairro'].eq(bairro)]['votos']\n",
    "    votosPorBairro = dfForKmeans[dfForKmeans['bairro'].eq(bairro)]['votos'].sum()\n",
    "    \n",
    "    return votosPorBairroPorOrientacao/votosPorBairro\n",
    "\n",
    "def desempenhoFiliados(orientacao, bairro):\n",
    "    filiadosPorBairroPorOrientacao = dfForKmeans[dfForKmeans['orientacao politica'].eq(orientacao) & dfForKmeans['bairro'].eq(bairro)]['filiados']\n",
    "    filiadosPorBairro = dfForKmeans[dfForKmeans['bairro'].eq(bairro)]['filiados'].sum()\n",
    "    \n",
    "    return filiadosPorBairroPorOrientacao/filiadosPorBairro\n",
    "\n",
    "desempenhoVotos = np.vectorize(desempenhoVotos)\n",
    "desempenhoFiliados = np.vectorize(desempenhoFiliados)\n",
    "\n",
    "dfForKmeans = dfWithoutCargos.copy()\n",
    "dfForKmeans['orientacao politica'] = dfForKmeans['partido'].map(lambda x: returnOrientacaoPolitica(x))\n",
    "dfForKmeans = dfForKmeans.set_index(['bairro', 'orientacao politica']).groupby(level=(0, 1)).agg({\"votos\":np.sum, \"filiados\":np.max}).reset_index()\n",
    "dfForKmeans['desempenho votos'] = desempenhoVotos(dfForKmeans['orientacao politica'].values, dfForKmeans['bairro'].values)\n",
    "dfForKmeans['desempenho filiados'] = desempenhoFiliados(dfForKmeans['orientacao politica'].values, dfForKmeans['bairro'].values)\n",
    "\n",
    "dfForKmeans = pd.pivot_table(dfForKmeans, values=['desempenho votos', 'desempenho filiados'], index=['bairro'], columns=['orientacao politica'], aggfunc={np.sum})\n",
    "dfForKmeans.reset_index(inplace=True)\n",
    "dfForKmeans.columns = ['bairro', 'filiados_centro', 'filiados_direita', 'filiados_esquerda', 'votos_centro', 'votos_direita' , 'votos_esquerda']\n",
    "\n",
    "dfForKmeans[['votos_esquerda', 'votos_direita', 'votos_centro', 'filiados_esquerda', 'filiados_direita', 'filiados_centro']] = StandardScaler().fit_transform(dfForKmeans[['votos_esquerda', 'votos_direita', 'votos_centro', 'filiados_esquerda', 'filiados_direita', 'filiados_centro']])"
   ]
  },
  {
   "cell_type": "code",
   "execution_count": null,
   "id": "916b8e41",
   "metadata": {},
   "outputs": [],
   "source": [
    "kmeans = KMeans(n_clusters=3).fit(dfForKmeans[dfForKmeans.columns.difference(['bairro'])].values)\n",
    "dfForKmeans['labels'] = kmeans.labels_"
   ]
  },
  {
   "cell_type": "code",
   "execution_count": null,
   "id": "4982d638",
   "metadata": {},
   "outputs": [],
   "source": [
    "fig = px.scatter_3d(dfForKmeans,\n",
    "                 x=\"votos_esquerda\", y=\"votos_direita\", z='votos_centro',color='labels', hover_data=['bairro'])\n",
    "fig.show()"
   ]
  },
  {
   "cell_type": "code",
   "execution_count": null,
   "id": "015e517f",
   "metadata": {},
   "outputs": [],
   "source": [
    "fig = px.scatter_3d(dfForKmeans,\n",
    "                 x=\"filiados_esquerda\", y=\"filiados_direita\", z='filiados_centro', color='labels', hover_data=['bairro'])\n",
    "fig.show()"
   ]
  },
  {
   "cell_type": "code",
   "execution_count": null,
   "id": "527351c0",
   "metadata": {},
   "outputs": [],
   "source": [
    "fig = px.choropleth_mapbox(dfForKmeans, \n",
    "                           geojson=bairros, locations='bairro', color='labels',\n",
    "                           featureidkey=\"properties.NOME\",\n",
    "                           mapbox_style=\"carto-positron\",\n",
    "                           center={\"lon\": -43.1811097599, \"lat\": -22.895417528999 },\n",
    "                           zoom=9\n",
    "                          )\n",
    "\n",
    "fig.show()"
   ]
  },
  {
   "cell_type": "code",
   "execution_count": null,
   "id": "499c2034",
   "metadata": {},
   "outputs": [],
   "source": [
    "kmeansVotos = KMeans(n_clusters=3).fit(dfForKmeans[dfForKmeans.columns.difference(['bairro', 'filiados_centro', 'filiados_direita', 'filiados_esquerda'])].values)\n",
    "dfForKmeans['labels votos'] = kmeansVotos.labels_"
   ]
  },
  {
   "cell_type": "code",
   "execution_count": null,
   "id": "05418ccd",
   "metadata": {},
   "outputs": [],
   "source": [
    "fig = px.scatter_3d(dfForKmeans,\n",
    "                 x=\"votos_esquerda\", y=\"votos_direita\", z='votos_centro',color='labels votos', hover_data=['bairro'])\n",
    "fig.show()"
   ]
  },
  {
   "cell_type": "code",
   "execution_count": null,
   "id": "c7f71490",
   "metadata": {},
   "outputs": [],
   "source": [
    "fig = px.choropleth_mapbox(dfForKmeans, \n",
    "                           geojson=bairros, locations='bairro', color='labels votos',\n",
    "                           featureidkey=\"properties.NOME\",\n",
    "                           mapbox_style=\"carto-positron\",\n",
    "                           center={\"lon\": -43.1811097599, \"lat\": -22.895417528999 },\n",
    "                           zoom=9\n",
    "                          )\n",
    "\n",
    "fig.show()"
   ]
  },
  {
   "cell_type": "code",
   "execution_count": null,
   "id": "b646fd76",
   "metadata": {},
   "outputs": [],
   "source": [
    "kmeansFiliados = KMeans(n_clusters=3).fit(dfForKmeans[dfForKmeans.columns.difference(['bairro', 'votos_centro', 'votos_direita' , 'votos_esquerda'])].values)\n",
    "dfForKmeans['labels filiados'] = kmeansFiliados.labels_"
   ]
  },
  {
   "cell_type": "code",
   "execution_count": null,
   "id": "74b51440",
   "metadata": {},
   "outputs": [],
   "source": [
    "fig = px.scatter_3d(dfForKmeans,\n",
    "                 x=\"filiados_esquerda\", y=\"filiados_direita\", z='filiados_centro', color='labels filiados', hover_data=['bairro'])\n",
    "fig.show()"
   ]
  },
  {
   "cell_type": "code",
   "execution_count": null,
   "id": "e3af9fef",
   "metadata": {},
   "outputs": [],
   "source": [
    "fig = px.choropleth_mapbox(dfForKmeans, \n",
    "                           geojson=bairros, locations='bairro', color='labels filiados',\n",
    "                           featureidkey=\"properties.NOME\",\n",
    "                           mapbox_style=\"carto-positron\",\n",
    "                           center={\"lon\": -43.1811097599, \"lat\": -22.895417528999 },\n",
    "                           zoom=9\n",
    "                          )\n",
    "\n",
    "fig.show()"
   ]
  },
  {
   "cell_type": "code",
   "execution_count": null,
   "id": "50e791c7",
   "metadata": {},
   "outputs": [],
   "source": [
    "np.mean(dfForKmeans[dfForKmeans['labels votos'].eq(1)]['votos_esquerda'])"
   ]
  },
  {
   "cell_type": "code",
   "execution_count": null,
   "id": "14642c5a",
   "metadata": {},
   "outputs": [],
   "source": [
    "np.mean(dfForKmeans[dfForKmeans['labels votos'].eq(1)]['votos_direita'])"
   ]
  },
  {
   "cell_type": "code",
   "execution_count": null,
   "id": "c42e3dfe",
   "metadata": {},
   "outputs": [],
   "source": [
    "np.mean(dfForKmeans[dfForKmeans['labels votos'].eq(1)]['votos_centro'])"
   ]
  },
  {
   "cell_type": "code",
   "execution_count": null,
   "id": "3416a75f",
   "metadata": {},
   "outputs": [],
   "source": [
    "np.mean(dfForKmeans[dfForKmeans['labels votos'].eq(0)]['votos_esquerda'])"
   ]
  },
  {
   "cell_type": "code",
   "execution_count": null,
   "id": "9ded2030",
   "metadata": {},
   "outputs": [],
   "source": [
    "np.mean(dfForKmeans[dfForKmeans['labels votos'].eq(0)]['votos_direita'])"
   ]
  },
  {
   "cell_type": "code",
   "execution_count": null,
   "id": "355150c0",
   "metadata": {},
   "outputs": [],
   "source": [
    "np.mean(dfForKmeans[dfForKmeans['labels votos'].eq(0)]['votos_centro'])"
   ]
  },
  {
   "cell_type": "code",
   "execution_count": null,
   "id": "29f2b572",
   "metadata": {},
   "outputs": [],
   "source": [
    "np.mean(dfForKmeans[dfForKmeans['labels votos'].eq(2)]['votos_esquerda'])"
   ]
  },
  {
   "cell_type": "code",
   "execution_count": null,
   "id": "ec361b60",
   "metadata": {},
   "outputs": [],
   "source": [
    "np.mean(dfForKmeans[dfForKmeans['labels votos'].eq(2)]['votos_direita'])"
   ]
  },
  {
   "cell_type": "code",
   "execution_count": null,
   "id": "ade3ec1f",
   "metadata": {},
   "outputs": [],
   "source": [
    "np.mean(dfForKmeans[dfForKmeans['labels votos'].eq(2)]['votos_centro'])"
   ]
  },
  {
   "cell_type": "code",
   "execution_count": null,
   "id": "efd1eaf8",
   "metadata": {},
   "outputs": [],
   "source": []
  }
 ],
 "metadata": {
  "kernelspec": {
   "display_name": "Python 3",
   "language": "python",
   "name": "python3"
  },
  "language_info": {
   "codemirror_mode": {
    "name": "ipython",
    "version": 3
   },
   "file_extension": ".py",
   "mimetype": "text/x-python",
   "name": "python",
   "nbconvert_exporter": "python",
   "pygments_lexer": "ipython3",
   "version": "3.8.8"
  }
 },
 "nbformat": 4,
 "nbformat_minor": 5
}
