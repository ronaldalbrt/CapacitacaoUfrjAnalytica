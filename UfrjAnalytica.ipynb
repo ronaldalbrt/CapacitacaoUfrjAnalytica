{
 "cells": [
  {
   "cell_type": "code",
   "execution_count": null,
   "id": "e9c0eef3",
   "metadata": {},
   "outputs": [],
   "source": [
    "import pandas as pd\n",
    "import numpy as np\n",
    "import scipy.stats as stats\n",
    "import basedosdados as bd\n",
    "import re\n",
    "import json\n",
    "import string\n",
    "import plotly\n",
    "import plotly.express as px\n",
    "import plotly.offline as py\n",
    "import plotly.graph_objs as go\n",
    "import scipy.stats as stats\n",
    "import os"
   ]
  },
  {
   "cell_type": "code",
   "execution_count": null,
   "id": "cf810131",
   "metadata": {},
   "outputs": [],
   "source": [
    "municipios = pd.read_csv(\"csv/municipios.csv\")\n",
    "zonas_eleitorais = pd.read_csv(\"csv/zona_eleitoral.csv\", error_bad_lines=False, delimiter=',')\n",
    "\n",
    "zonas_eleitorais = zonas_eleitorais[zonas_eleitorais['uf'].eq('RJ') & zonas_eleitorais['nome_municipio'].eq('RIO DE JANEIRO')]\n",
    "zonas_eleitorais['id'].replace('(19-0*)','',regex=True, inplace = True)\n",
    "\n",
    "orientacao_partidos = pd.read_csv(\"csv/orientacao_partidos.csv\", error_bad_lines=False, delimiter=',')\n",
    "orientacao_partidos =  orientacao_partidos.replace({ \"—\":\"esquerda\"})\n",
    "orientacao_partidos['Nome'] = orientacao_partidos['Nome'].map(lambda x: x.upper())\n",
    "\n",
    "with open('csv/bairros-geojson.json', encoding=\"utf8\") as geojson:\n",
    "    bairros = json.load(geojson)"
   ]
  },
  {
   "cell_type": "code",
   "execution_count": null,
   "id": "d63465f0",
   "metadata": {},
   "outputs": [],
   "source": [
    "def dataAlreadyBeenGot(csvName):\n",
    "    if os.stat(csvName).st_size == 0:\n",
    "        return False\n",
    "    else:\n",
    "        return True"
   ]
  },
  {
   "cell_type": "code",
   "execution_count": null,
   "id": "f2da0260",
   "metadata": {},
   "outputs": [],
   "source": [
    "if not dataAlreadyBeenGot('csv/resultado_eleicoes.csv'):\n",
    "    queryResultadosPartidoMunicipio = \"\"\"\n",
    "        SELECT MZ.ano, MZ.zona, MZ.sigla_partido, MZ.cargo, MZ.turno, MZ.votos_nominais, MZ.votos_nao_nominais FROM `basedosdados.br_tse_eleicoes.resultados_partido_municipio_zona` AS MZ\n",
    "        WHERE MZ.id_municipio_tse={} AND MZ.sigla_uf='RJ'\n",
    "        ORDER BY MZ.ano ASC\"\"\".format(municipios[municipios['nome_municipio'].eq('RIO DE JANEIRO')]['codigo_tse'].values[0])\n",
    "\n",
    "    dfResultadosPartidoMunicipio = bd.read_sql(queryResultadosPartidoMunicipio, billing_project_id='capacitacaoufrjanalytica')\n",
    "    dfResultadosPartidoMunicipio.to_csv(\"csv/resultado_eleicoes.csv\", index=False)\n",
    "else:\n",
    "    dfResultadosPartidoMunicipio = pd.read_csv(\"csv/resultado_eleicoes.csv\")"
   ]
  },
  {
   "cell_type": "code",
   "execution_count": null,
   "id": "1924934f",
   "metadata": {},
   "outputs": [],
   "source": [
    "dfResultadosPartidoMunicipio['sigla_partido'].replace({'PEN':'PATRIOTA', 'PATRI':'PATRIOTA', \n",
    "                                                       'PT DO B':'AVANTE', 'PT do B':'AVANTE', \n",
    "                                                       'PC do B': 'PCDOB', 'PC DO B': 'PCDOB',\n",
    "                                                       'PRONA':'PL', 'PGT':'PL', 'PPB':'PP',\n",
    "                                                       'PPS': 'CIDADANIA', 'PRN':'PTC',\n",
    "                                                       'PRP': 'PATRIOTA', 'PSDC':'DC',\n",
    "                                                       'PSN':'PODE', 'PST': 'PL', 'PTN':'PODE',\n",
    "                                                       'PHS':'PODE', 'PRB':'REPUBLICANOS',\n",
    "                                                       'PR': 'PL', 'PPL': 'PCDOB', 'SD': 'SOLIDARIEDADE',\n",
    "                                                       'PAN':'PTB','PFL':'DEM', 'PMDB':'MDB'}, inplace=True)\n"
   ]
  },
  {
   "cell_type": "code",
   "execution_count": null,
   "id": "0f98a13f",
   "metadata": {},
   "outputs": [],
   "source": [
    "dfResultadosPartidoMunicipio = dfResultadosPartidoMunicipio.set_index(['ano', 'sigla_partido', 'zona', 'cargo', 'turno']).groupby(level=(0, 1, 2, 3, 4)).agg({\"votos_nominais\":np.sum, \"votos_nao_nominais\":np.sum}).reset_index()"
   ]
  },
  {
   "cell_type": "code",
   "execution_count": null,
   "id": "2bc0d2a6",
   "metadata": {},
   "outputs": [],
   "source": [
    "votosTotaisPorPartido = dfResultadosPartidoMunicipio[dfResultadosPartidoMunicipio['turno'].eq(1)].set_index(['ano', 'sigla_partido']).groupby(level=(0, 1)).agg({\"votos_nominais\":np.sum, \"votos_nao_nominais\":np.sum}).reset_index()\n",
    "\n",
    "votosTotaisPorPartido['votos totais'] = votosTotaisPorPartido['votos_nominais'] + votosTotaisPorPartido['votos_nao_nominais']"
   ]
  },
  {
   "cell_type": "code",
   "execution_count": null,
   "id": "92aff847",
   "metadata": {
    "scrolled": false
   },
   "outputs": [],
   "source": [
    "partido = ['PT', 'PSL', 'PSOL']\n",
    "fig = px.line(votosTotaisPorPartido[votosTotaisPorPartido['sigla_partido'].isin(partido)], x=\"ano\", y=\"votos totais\", \n",
    "              color='sigla_partido',\n",
    "              title='Votos dos partido '+str(partido)[1:-1]+' X ano')\n",
    "fig.show()"
   ]
  },
  {
   "cell_type": "code",
   "execution_count": null,
   "id": "b4952048",
   "metadata": {},
   "outputs": [],
   "source": [
    "def returnOrientacaoPolitica(partido):\n",
    "    return orientacao_partidos[orientacao_partidos['Nome'].eq(partido)]['Congresso em Foco (2019)[37]'].values[0]"
   ]
  },
  {
   "cell_type": "code",
   "execution_count": null,
   "id": "d7f737ba",
   "metadata": {},
   "outputs": [],
   "source": [
    "dfResultadosPartidoMunicipio['orientacao politica'] = dfResultadosPartidoMunicipio['sigla_partido'].map(lambda x: returnOrientacaoPolitica(x))"
   ]
  },
  {
   "cell_type": "code",
   "execution_count": null,
   "id": "6763471a",
   "metadata": {},
   "outputs": [],
   "source": [
    "votosPorOrientacaoPolitica = dfResultadosPartidoMunicipio[dfResultadosPartidoMunicipio['turno'].eq(1)].set_index(['ano', 'orientacao politica']).groupby(level=(0, 1)).agg({\"votos_nominais\":np.sum, \"votos_nao_nominais\":np.sum}).reset_index()\n",
    "votosPorOrientacaoPolitica['votos totais'] = votosPorOrientacaoPolitica['votos_nominais'] + votosPorOrientacaoPolitica['votos_nao_nominais']"
   ]
  },
  {
   "cell_type": "code",
   "execution_count": null,
   "id": "4e55e020",
   "metadata": {},
   "outputs": [],
   "source": [
    "fig = px.line(votosPorOrientacaoPolitica, x=\"ano\", y=\"votos totais\", color='orientacao politica',\n",
    "             title='Votos de determinada ideologica polìtica X ano')\n",
    "fig.show()"
   ]
  },
  {
   "cell_type": "code",
   "execution_count": null,
   "id": "e666625d",
   "metadata": {},
   "outputs": [],
   "source": [
    "def neighhboorhoodCoordinateIsInside(latitude, longitude):\n",
    "    for e in bairros['features']:\n",
    "        if (e['geometry']['type'] != 'MultiPolygon'):\n",
    "            vertices = e['geometry']['coordinates'][0]\n",
    "        else:\n",
    "            vertices = e['geometry']['coordinates'][0][0]\n",
    "        wn = 0;\n",
    "        i = 0\n",
    "        j = len(vertices) - 1\n",
    "        while (i < len(vertices)):\n",
    "            v = vertices[j];\n",
    "            v1 = vertices[i];\n",
    "            if ( v[0] <= longitude ) :\n",
    "                if ( longitude < v1[0] ):  \n",
    "                    if ( (v1[1] - v[1]) * (longitude - v[0]) - (v1[0] - v[0]) * (latitude - v[1]) > 0 ):\n",
    "                        wn += 1;\n",
    "            else:\n",
    "                if( longitude >= v1[0] ):\n",
    "                    if ( (v1[1] - v[1]) * (longitude - v[0]) - (v1[0] - v[0]) * (latitude - v[1]) < 0 ):\n",
    "                        wn -= 1;\n",
    "            j = i\n",
    "            i += 1\n",
    "    \n",
    "        if (wn != 0):\n",
    "            return e['properties']['NOME']\n",
    "        \n",
    "def returnLat(zona):\n",
    "    return zonas_eleitorais[zonas_eleitorais['id'].eq(str(zona))]['latitude'].values[0] \n",
    "def returnLon(zona):\n",
    "    return zonas_eleitorais[zonas_eleitorais['id'].eq(str(zona))]['longitude'].values[0] \n",
    "def returnBairro(zona):\n",
    "    return zonas_eleitorais[zonas_eleitorais['id'].eq(str(zona))]['bairro'].values[0]"
   ]
  },
  {
   "cell_type": "code",
   "execution_count": null,
   "id": "3a4b01a5",
   "metadata": {},
   "outputs": [],
   "source": [
    "dfResultadosPartidoMunicipio['bairro'] = dfResultadosPartidoMunicipio['zona'].map(lambda x: returnBairro(x))"
   ]
  },
  {
   "cell_type": "code",
   "execution_count": null,
   "id": "11117586",
   "metadata": {},
   "outputs": [],
   "source": [
    "dfResultadosPartidoMunicipio['latitude'] = dfResultadosPartidoMunicipio['zona'].map(lambda x: returnLat(x))\n",
    "dfResultadosPartidoMunicipio['longitude'] = dfResultadosPartidoMunicipio['zona'].map(lambda x: returnLon(x))"
   ]
  },
  {
   "cell_type": "code",
   "execution_count": null,
   "id": "fc64ea6b",
   "metadata": {},
   "outputs": [],
   "source": [
    "auxDf = dfResultadosPartidoMunicipio[dfResultadosPartidoMunicipio['turno'].eq(1)]\n",
    "\n",
    "def calcularResultadoAgrupadoPorAno(ano):\n",
    "    bairrosArray = []\n",
    "    n_votosArray = []\n",
    "    partidosArray = []\n",
    "    latitudeArray = []\n",
    "    longitudeArray = []\n",
    "    for bairro, frame in auxDf[auxDf['ano'].eq(ano)].groupby('bairro'):\n",
    "        n_votos = np.max(frame['votos_nominais'])\n",
    "        partido = auxDf[auxDf['votos_nominais'].eq(n_votos) & auxDf['bairro'].eq(bairro)]['sigla_partido'].values[0]\n",
    "        latitude = auxDf[auxDf['votos_nominais'].eq(n_votos) & auxDf['bairro'].eq(bairro)]['latitude'].values[0]\n",
    "        longitude = auxDf[auxDf['votos_nominais'].eq(n_votos) & auxDf['bairro'].eq(bairro)]['longitude'].values[0]\n",
    "        \n",
    "        n_votosArray.append(n_votos)\n",
    "        partidosArray.append(partido)\n",
    "        latitudeArray.append(latitude)\n",
    "        longitudeArray.append(longitude)\n",
    "        bairrosArray.append(neighhboorhoodCoordinateIsInside(latitude, longitude))\n",
    "\n",
    "    dfAgrupadoResultadosPartidoMunicipio = pd.DataFrame([bairrosArray, n_votosArray, partidosArray], \n",
    "                              index=['bairro', 'votos', 'partido']).T\n",
    "    \n",
    "    dfAgrupadoResultadosPartidoMunicipio['ano'] = [ano]*len(dfAgrupadoResultadosPartidoMunicipio)\n",
    "    \n",
    "    return dfAgrupadoResultadosPartidoMunicipio\n",
    "\n",
    "dfAgrupadoResultadosPartidoMunicipioPorAno = pd.DataFrame()\n",
    "for a in dfResultadosPartidoMunicipio['ano'].unique():\n",
    "    dfAgrupadoResultadosPartidoMunicipioPorAno = dfAgrupadoResultadosPartidoMunicipioPorAno.append(calcularResultadoAgrupadoPorAno(a))\n",
    "dfAgrupadoResultadosPartidoMunicipioPorAno.reset_index(drop=True, inplace=True)"
   ]
  },
  {
   "cell_type": "code",
   "execution_count": null,
   "id": "969a6780",
   "metadata": {},
   "outputs": [],
   "source": [
    "ano = 2016\n",
    "fig = px.choropleth_mapbox(dfAgrupadoResultadosPartidoMunicipioPorAno[dfAgrupadoResultadosPartidoMunicipioPorAno['ano'].eq(ano)], geojson=bairros, locations='bairro', color='partido',\n",
    "                           featureidkey=\"properties.NOME\",\n",
    "                           color_continuous_scale=\"Viridis\",\n",
    "                           mapbox_style=\"carto-positron\",\n",
    "                           hover_data=['votos'],\n",
    "                           center={\"lon\": -43.1811097599, \"lat\": -22.895417528999 },\n",
    "                           zoom=9\n",
    "                          )\n",
    "\n",
    "fig.show()"
   ]
  },
  {
   "cell_type": "code",
   "execution_count": null,
   "id": "06cb4468",
   "metadata": {},
   "outputs": [],
   "source": [
    "dfAgrupadoOrientacaoPoliticaMunicipioPorAno = dfResultadosPartidoMunicipio[dfResultadosPartidoMunicipio['turno'].eq(1)].set_index(['ano', 'orientacao politica', 'latitude', 'longitude']).groupby(level=(0, 1, 2, 3)).agg({\"votos_nominais\":np.sum, \"votos_nao_nominais\":np.sum}).reset_index()\n",
    "    \n",
    "dfAgrupadoOrientacaoPoliticaMunicipioPorAno['votos totais'] = dfAgrupadoOrientacaoPoliticaMunicipioPorAno['votos_nominais'] + dfAgrupadoOrientacaoPoliticaMunicipioPorAno['votos_nao_nominais']\n",
    "dfAgrupadoOrientacaoPoliticaMunicipioPorAno['bairro'] = dfAgrupadoOrientacaoPoliticaMunicipioPorAno.apply(lambda l: neighhboorhoodCoordinateIsInside(l[2], l[3]), axis=1)\n",
    "\n",
    "dfOrientacaoPoliticaMunicipioMaxVotos = pd.DataFrame()\n",
    "for group, frame in dfAgrupadoOrientacaoPoliticaMunicipioPorAno.set_index(['ano', 'bairro']).groupby(level = (0, 1)):\n",
    "    n_votos = np.max(frame['votos totais'])\n",
    "    dfOrientacaoPoliticaMunicipioMaxVotos = dfOrientacaoPoliticaMunicipioMaxVotos.append(frame[frame['votos totais'].eq(n_votos)])\n",
    "\n",
    "dfOrientacaoPoliticaMunicipioMaxVotos.reset_index(inplace=True)"
   ]
  },
  {
   "cell_type": "code",
   "execution_count": null,
   "id": "b4aff5e9",
   "metadata": {},
   "outputs": [],
   "source": [
    "ano = 2008\n",
    "fig = px.choropleth_mapbox(dfOrientacaoPoliticaMunicipioMaxVotos[dfOrientacaoPoliticaMunicipioMaxVotos['ano'].eq(ano)], \n",
    "                           geojson=bairros, locations='bairro', color='orientacao politica',\n",
    "                           featureidkey=\"properties.NOME\",\n",
    "                           color_continuous_scale=\"Viridis\",\n",
    "                           mapbox_style=\"carto-positron\",\n",
    "                           hover_data=['votos totais'],\n",
    "                           center={\"lon\": -43.1811097599, \"lat\": -22.895417528999 },\n",
    "                           zoom=9\n",
    "                          )\n",
    "\n",
    "fig.show()"
   ]
  },
  {
   "cell_type": "code",
   "execution_count": null,
   "id": "f3686a12",
   "metadata": {},
   "outputs": [],
   "source": [
    "if not dataAlreadyBeenGot('csv/filiados.csv'):\n",
    "    dfFiliacaoPartidaria = pd.DataFrame()\n",
    "    for ano in dfAgrupadoResultadosPartidoMunicipioPorAno['ano'].unique():\n",
    "        queryFiliacaoPartidaria = \"\"\"\n",
    "            SELECT COUNT(*) AS n_filiados, FP.zona, FP.sigla_partido FROM `basedosdados.br_tse_filiacao_partidaria.filiacao_partidaria` AS FP\n",
    "            WHERE FP.id_municipio_tse={} AND (FP.data_desfiliacao > '{}-12-30' OR (FP.situacao_registro = 'regular' AND FP.data_filiacao < '{}-01-01'))\n",
    "            GROUP BY FP.zona, FP.sigla_partido\n",
    "            ORDER BY FP.zona\"\"\".format(municipios[municipios['nome_municipio'].eq('RIO DE JANEIRO')]['codigo_tse'].values[0], ano, ano)\n",
    "\n",
    "        dfResultadoQuery = bd.read_sql(queryFiliacaoPartidaria, billing_project_id='capacitacaoufrjanalytica')\n",
    "        dfResultadoQuery['ano'] = [ano]*len(dfResultadoQuery)\n",
    "        dfFiliacaoPartidaria = dfFiliacaoPartidaria.append(dfResultadoQuery)\n",
    "    dfFiliacaoPartidaria.to_csv(\"csv/filiados.csv\", index=False)\n",
    "else:\n",
    "    dfFiliacaoPartidaria = pd.read_csv(\"csv/filiados.csv\")\n"
   ]
  },
  {
   "cell_type": "code",
   "execution_count": null,
   "id": "b853a87d",
   "metadata": {},
   "outputs": [],
   "source": [
    "filiadosPorPartido = dfFiliacaoPartidaria.set_index(['ano', 'sigla_partido']).groupby(level=(0, 1)).agg({\"n_filiados\":np.sum}).reset_index()"
   ]
  },
  {
   "cell_type": "code",
   "execution_count": null,
   "id": "bc1a2912",
   "metadata": {},
   "outputs": [],
   "source": [
    "partido = ['MDB', 'PT', 'PSDB']\n",
    "fig = px.line(filiadosPorPartido[filiadosPorPartido['sigla_partido'].isin(partido)], x=\"ano\", y=\"n_filiados\", \n",
    "              color = \"sigla_partido\",\n",
    "              title='Filiados do '+str(partido)[1:-1]+' X ano')\n",
    "fig.show()"
   ]
  },
  {
   "cell_type": "code",
   "execution_count": null,
   "id": "bdcc2135",
   "metadata": {},
   "outputs": [],
   "source": [
    "dfFiliacaoPartidaria['orientacao politica'] = dfFiliacaoPartidaria['sigla_partido'].map(lambda x: returnOrientacaoPolitica(x))"
   ]
  },
  {
   "cell_type": "code",
   "execution_count": null,
   "id": "c634507f",
   "metadata": {},
   "outputs": [],
   "source": [
    "filiadosPorOrientacaoPolitica = dfFiliacaoPartidaria.set_index(['ano', 'orientacao politica']).groupby(level=(0, 1)).agg({\"n_filiados\":np.sum}).reset_index()"
   ]
  },
  {
   "cell_type": "code",
   "execution_count": null,
   "id": "16d5d682",
   "metadata": {},
   "outputs": [],
   "source": [
    "fig = px.line(filiadosPorOrientacaoPolitica, x=\"ano\", y=\"n_filiados\", color='orientacao politica',\n",
    "             title='Filiados de determinada ideologica política X ano')\n",
    "fig.show()"
   ]
  },
  {
   "cell_type": "code",
   "execution_count": null,
   "id": "761158e4",
   "metadata": {},
   "outputs": [],
   "source": [
    "dfFiliacaoPartidaria['bairro'] = dfFiliacaoPartidaria['zona'].map(lambda x: returnBairro(x))"
   ]
  },
  {
   "cell_type": "code",
   "execution_count": null,
   "id": "6427af46",
   "metadata": {},
   "outputs": [],
   "source": [
    "dfFiliacaoPartidaria['latitude'] = dfFiliacaoPartidaria['zona'].map(lambda x: returnLat(x))\n",
    "dfFiliacaoPartidaria['longitude'] = dfFiliacaoPartidaria['zona'].map(lambda x: returnLon(x))"
   ]
  },
  {
   "cell_type": "code",
   "execution_count": null,
   "id": "655de563",
   "metadata": {},
   "outputs": [],
   "source": [
    "def calcularResultadoAgrupadoPorAno(ano):\n",
    "    bairrosArray = []\n",
    "    n_filiadosArray = []\n",
    "    partidosArray = []\n",
    "    latitudeArray = []\n",
    "    longitudeArray = []\n",
    "    for bairro, frame in dfFiliacaoPartidaria[dfFiliacaoPartidaria['ano'].eq(ano)].groupby('bairro'):\n",
    "        n_filiados = np.max(frame['n_filiados'])\n",
    "        partido = dfFiliacaoPartidaria[dfFiliacaoPartidaria['n_filiados'].eq(n_filiados) & dfFiliacaoPartidaria['bairro'].eq(bairro)]['sigla_partido'].values[0]\n",
    "        latitude = dfFiliacaoPartidaria[dfFiliacaoPartidaria['n_filiados'].eq(n_filiados) & dfFiliacaoPartidaria['bairro'].eq(bairro)]['latitude'].values[0]\n",
    "        longitude = dfFiliacaoPartidaria[dfFiliacaoPartidaria['n_filiados'].eq(n_filiados) & dfFiliacaoPartidaria['bairro'].eq(bairro)]['longitude'].values[0]\n",
    "            \n",
    "        n_filiadosArray.append(n_filiados)\n",
    "        partidosArray.append(partido)\n",
    "        latitudeArray.append(latitude)\n",
    "        longitudeArray.append(longitude)\n",
    "        bairrosArray.append(neighhboorhoodCoordinateIsInside(latitude, longitude))\n",
    "        \n",
    "    \n",
    "    dfAgrupadoFiliacaoPartidaria = pd.DataFrame([bairrosArray, n_filiadosArray, partidosArray], \n",
    "                              index=['bairro', 'filiados', 'partido']).T\n",
    "    \n",
    "    dfAgrupadoFiliacaoPartidaria['ano'] = [ano]*len(dfAgrupadoFiliacaoPartidaria)\n",
    "    \n",
    "    return dfAgrupadoFiliacaoPartidaria\n",
    "\n",
    "dfAgrupadoFiliacaoPartidariaPorAno = pd.DataFrame()\n",
    "for a in dfFiliacaoPartidaria['ano'].unique():\n",
    "    dfAgrupadoFiliacaoPartidariaPorAno = dfAgrupadoFiliacaoPartidariaPorAno.append(calcularResultadoAgrupadoPorAno(a))\n",
    "dfAgrupadoFiliacaoPartidariaPorAno.reset_index(drop=True, inplace=True)                     "
   ]
  },
  {
   "cell_type": "code",
   "execution_count": null,
   "id": "9c09cba6",
   "metadata": {
    "scrolled": false
   },
   "outputs": [],
   "source": [
    "ano = 1998\n",
    "fig = px.choropleth_mapbox(dfAgrupadoFiliacaoPartidariaPorAno[dfAgrupadoFiliacaoPartidariaPorAno['ano'].eq(ano)], geojson=bairros, locations='bairro', color='partido',\n",
    "                           featureidkey=\"properties.NOME\",\n",
    "                           color_continuous_scale=\"Viridis\",\n",
    "                           mapbox_style=\"carto-positron\",\n",
    "                           hover_data=['filiados'],\n",
    "                           center={\"lon\": -43.1811097599, \"lat\": -22.895417528999 },\n",
    "                           zoom=9\n",
    "                          )\n",
    "\n",
    "fig.show()"
   ]
  },
  {
   "cell_type": "code",
   "execution_count": null,
   "id": "d3e14b60",
   "metadata": {},
   "outputs": [],
   "source": [
    "dfAgrupadoFiliacaoOrientacaoPoliticaPorAno = dfFiliacaoPartidaria.set_index(['ano', 'orientacao politica', 'latitude', 'longitude']).groupby(level=(0, 1, 2, 3)).agg({\"n_filiados\":np.sum}).reset_index()\n",
    "    \n",
    "dfAgrupadoFiliacaoOrientacaoPoliticaPorAno['bairro'] = dfAgrupadoFiliacaoOrientacaoPoliticaPorAno.apply(lambda l: neighhboorhoodCoordinateIsInside(l[2], l[3]), axis=1)\n",
    "\n",
    "dfOrientacaoPoliticaMunicipioMaxFiliados = pd.DataFrame()\n",
    "for group, frame in dfAgrupadoFiliacaoOrientacaoPoliticaPorAno.set_index(['ano', 'bairro']).groupby(level = (0, 1)):\n",
    "    n_filiados = np.max(frame['n_filiados'])\n",
    "    dfOrientacaoPoliticaMunicipioMaxFiliados = dfOrientacaoPoliticaMunicipioMaxFiliados.append(frame[frame['n_filiados'].eq(n_filiados)])\n",
    "\n",
    "dfOrientacaoPoliticaMunicipioMaxFiliados.reset_index(inplace=True)"
   ]
  },
  {
   "cell_type": "code",
   "execution_count": null,
   "id": "a4601723",
   "metadata": {},
   "outputs": [],
   "source": [
    "ano = 2020\n",
    "fig = px.choropleth_mapbox(dfOrientacaoPoliticaMunicipioMaxFiliados[dfOrientacaoPoliticaMunicipioMaxFiliados['ano'].eq(ano)], \n",
    "                           geojson=bairros, locations='bairro', color='orientacao politica',\n",
    "                           featureidkey=\"properties.NOME\",\n",
    "                           color_continuous_scale=\"Viridis\",\n",
    "                           mapbox_style=\"carto-positron\",\n",
    "                           hover_data=['n_filiados'],\n",
    "                           center={\"lon\": -43.1811097599, \"lat\": -22.895417528999 },\n",
    "                           zoom=9\n",
    "                          )\n",
    "\n",
    "fig.show()"
   ]
  },
  {
   "cell_type": "code",
   "execution_count": null,
   "id": "1d8c2405",
   "metadata": {},
   "outputs": [],
   "source": [
    "votosArray = []\n",
    "anosArray = []\n",
    "partidosArray = []\n",
    "cargosArray = []\n",
    "bairrosArray = []\n",
    "for group, frame in dfResultadosPartidoMunicipio[dfResultadosPartidoMunicipio['turno'].ne(2)].set_index(['ano', 'sigla_partido', 'cargo', 'bairro']).groupby(level=(0, 1, 2, 3)):\n",
    "    n_votos = np.sum(frame['votos_nominais']) + np.sum(frame['votos_nao_nominais']) \n",
    "    votosArray.append(n_votos)\n",
    "    anosArray.append(group[0])\n",
    "    partidosArray.append(group[1])\n",
    "    cargosArray.append(group[2])\n",
    "    bairrosArray.append(group[3])\n",
    "\n",
    "dfVotosAgrupados = pd.DataFrame([votosArray, anosArray, partidosArray, cargosArray, bairrosArray],\n",
    "                               index=['votos', 'ano', 'partido', 'cargo', 'bairro']).T"
   ]
  },
  {
   "cell_type": "code",
   "execution_count": null,
   "id": "48d76b68",
   "metadata": {},
   "outputs": [],
   "source": [
    "filiadosArray = []\n",
    "anosArray = []\n",
    "partidosArray = []\n",
    "bairrosArray = []\n",
    "for group, frame in dfFiliacaoPartidaria.set_index(['ano', 'sigla_partido', 'bairro']).groupby(level=(0, 1, 2)):\n",
    "    n_filiados = np.sum(frame['n_filiados'])\n",
    "    filiadosArray.append(n_filiados)\n",
    "    anosArray.append(group[0])\n",
    "    partidosArray.append(group[1])\n",
    "    bairrosArray.append(group[2])\n",
    "    \n",
    "dfFiliadosAgrupados = pd.DataFrame([filiadosArray, anosArray, partidosArray, bairrosArray],\n",
    "                               index=['filiados', 'ano', 'partido', 'bairro']).T"
   ]
  },
  {
   "cell_type": "code",
   "execution_count": null,
   "id": "b6c98bba",
   "metadata": {},
   "outputs": [],
   "source": [
    "new_df = pd.merge(dfFiliadosAgrupados, dfVotosAgrupados,  how='inner', left_on=['ano', 'partido', 'bairro'], right_on = ['ano', 'partido', 'bairro'])"
   ]
  },
  {
   "cell_type": "code",
   "execution_count": null,
   "id": "fcca8403",
   "metadata": {},
   "outputs": [],
   "source": [
    "new_df['filiados'] = new_df['filiados'].apply(lambda x: int(x)) \n",
    "new_df['votos'] = new_df['votos'].apply(lambda x: int(x)) "
   ]
  },
  {
   "cell_type": "code",
   "execution_count": null,
   "id": "c2bd9f11",
   "metadata": {},
   "outputs": [],
   "source": [
    "dfWithoutCargos = new_df.set_index(['ano', 'partido', 'bairro']).groupby(level=(0, 1, 2)).agg({\"votos\":np.sum, \"filiados\":np.max}).reset_index()"
   ]
  },
  {
   "cell_type": "code",
   "execution_count": null,
   "id": "c756d9d8",
   "metadata": {
    "scrolled": false
   },
   "outputs": [],
   "source": [
    "fig = px.scatter(dfWithoutCargos, x=\"filiados\", y=\"votos\", color='partido', hover_data=['ano', 'bairro'])\n",
    "fig.show()"
   ]
  },
  {
   "cell_type": "code",
   "execution_count": null,
   "id": "673bfdd1",
   "metadata": {},
   "outputs": [],
   "source": [
    "dfPartidos = pd.DataFrame({'partido': dfWithoutCargos[:-1]['partido'].unique()})\n",
    "dfPartidos['corr'] = dfPartidos['partido'].map(lambda x: stats.pearsonr(dfWithoutCargos[dfWithoutCargos['partido'].eq(x)]['filiados'], dfWithoutCargos[dfWithoutCargos['partido'].eq(x)]['votos'])[0])\n",
    "dfPartidos.head()"
   ]
  },
  {
   "cell_type": "code",
   "execution_count": null,
   "id": "8a5c1133",
   "metadata": {},
   "outputs": [],
   "source": [
    "dfBairros = pd.DataFrame({'bairro': dfWithoutCargos['bairro'].unique()})\n",
    "dfBairros['corr'] = dfBairros['bairro'].map(lambda x: stats.pearsonr(dfWithoutCargos[dfWithoutCargos['bairro'].eq(x)]['filiados'], dfWithoutCargos[dfWithoutCargos['bairro'].eq(x)]['votos'])[0])\n",
    "\n",
    "dfBairros.head()"
   ]
  },
  {
   "cell_type": "code",
   "execution_count": null,
   "id": "2fb9548e",
   "metadata": {},
   "outputs": [],
   "source": [
    "dfCargos = pd.DataFrame({ 'cargo': new_df['cargo'].unique()})\n",
    "dfCargos['corr'] = dfCargos['cargo'].map(lambda x: stats.pearsonr(new_df[new_df['cargo'].eq(x)]['filiados'], new_df[new_df['cargo'].eq(x)]['votos'])[0])\n",
    "\n",
    "dfCargos.head()"
   ]
  },
  {
   "cell_type": "code",
   "execution_count": null,
   "id": "e93e2870",
   "metadata": {},
   "outputs": [],
   "source": [
    "representacao_congresso = pd.read_csv('csv/representacao_congresso.csv')\n",
    "\n",
    "representacao_congresso.columns = ['partido', 'Assentos no Senado', 'Assentos na Câmara']\n",
    "representacao_congresso['Assentos no Senado'] = representacao_congresso['Assentos no Senado'].map(lambda x: np.int(x[:-4]))\n",
    "representacao_congresso['Assentos na Câmara'] = representacao_congresso['Assentos na Câmara'].map(lambda x: np.int(x[:-6]))\n",
    "\n",
    "representacao_congresso['partido'] = representacao_congresso['partido'].map(lambda x: x.upper())"
   ]
  },
  {
   "cell_type": "code",
   "execution_count": null,
   "id": "b88b4082",
   "metadata": {},
   "outputs": [],
   "source": [
    "dfPartidos = pd.merge(dfPartidos, representacao_congresso,  how='inner', left_on=['partido'], right_on = ['partido'])"
   ]
  },
  {
   "cell_type": "code",
   "execution_count": null,
   "id": "c9377b60",
   "metadata": {},
   "outputs": [],
   "source": [
    "dfPartidos['orientacao politica'] = dfPartidos['partido'].map(lambda x: orientacao_partidos[orientacao_partidos['Nome'].eq(x)]['Congresso em Foco (2019)[37]'].iloc[0])"
   ]
  },
  {
   "cell_type": "code",
   "execution_count": null,
   "id": "169f9197",
   "metadata": {},
   "outputs": [],
   "source": [
    "def retornarValorDiscretizado(x, minValue, maxValue, bins):\n",
    "    for i in range(1, bins + 1):\n",
    "        if x <= minValue + i * ((maxValue - minValue)/bins):\n",
    "            return str(minValue + (i-1) * ((maxValue - minValue)/bins))+ \" - \" + str(minValue + i * ((maxValue - minValue)/bins))\n",
    "\n",
    "def discretizar(i):\n",
    "    minValue = np.min(i)\n",
    "    maxValue = np.max(i)\n",
    "    bins = int(np.sqrt(len(i)))\n",
    "            \n",
    "    return i.map(lambda v:retornarValorDiscretizado(v, minValue, maxValue, bins))\n",
    "\n",
    "dfPartidos['corrDiscretizados'] = discretizar(dfPartidos['corr'])"
   ]
  },
  {
   "cell_type": "code",
   "execution_count": null,
   "id": "db40ec8d",
   "metadata": {},
   "outputs": [],
   "source": [
    "def calcularIndiceDeGiniParaValor(df, resultado, valor, coluna):\n",
    "    gini = 0\n",
    "    for value in df[resultado].unique():\n",
    "        pi = len(df[df[coluna].eq(valor) & df[resultado].eq(value)])/len(df[df[coluna].eq(valor)])\n",
    "        gini += pi * pi\n",
    "    gini = 1 - gini\n",
    "    return gini\n",
    "    \n",
    "def calcularIndiceDeGini(df, resultado, coluna):\n",
    "    values = df[coluna].unique()\n",
    "    gini = 0\n",
    "    for i in values:\n",
    "        pi = len(df[df[coluna].eq(i)])/len(df)\n",
    "        gini += calcularIndiceDeGiniParaValor(df, resultado, i, coluna) * pi\n",
    "    \n",
    "    return gini"
   ]
  },
  {
   "cell_type": "code",
   "execution_count": null,
   "id": "b3041b83",
   "metadata": {},
   "outputs": [],
   "source": [
    "partidosGini = pd.DataFrame()\n",
    "\n",
    "for c in ['orientacao politica', 'Assentos no Senado', 'Assentos na Câmara']:\n",
    "    partidosGini = partidosGini.append({'coluna': c, \n",
    "                                        'gini': calcularIndiceDeGini(dfPartidos, 'corrDiscretizados', c)}, \n",
    "                                       ignore_index=True)"
   ]
  },
  {
   "cell_type": "code",
   "execution_count": null,
   "id": "9bcb08e1",
   "metadata": {
    "scrolled": false
   },
   "outputs": [],
   "source": [
    "fig = px.bar(partidosGini, x='coluna', y='gini', color='coluna',\n",
    "            title='Indice de gini por coluna dos Partidos')\n",
    "fig.show()"
   ]
  },
  {
   "cell_type": "code",
   "execution_count": null,
   "id": "345509ae",
   "metadata": {},
   "outputs": [],
   "source": [
    "partidosCorrMediaOrientacaoPolitica = dfPartidos.groupby('orientacao politica').agg({'corr': np.average}).reset_index()\n",
    "\n",
    "fig = px.bar(partidosCorrMediaOrientacaoPolitica, x='orientacao politica', y='corr', color='orientacao politica',\n",
    "            title='Correlação media por orientacao politica')\n",
    "fig.show()"
   ]
  },
  {
   "cell_type": "code",
   "execution_count": null,
   "id": "9a11436e",
   "metadata": {},
   "outputs": [],
   "source": [
    "partidosCorrMediaAssentosNoSenado = dfPartidos.groupby('Assentos no Senado').agg({'corr': np.average}).reset_index()\n",
    "\n",
    "fig = px.bar(partidosCorrMediaAssentosNoSenado, x='Assentos no Senado', y='corr', color='Assentos no Senado',\n",
    "            title='Correlação media por Assentos no Senado')\n",
    "fig.show()"
   ]
  },
  {
   "cell_type": "code",
   "execution_count": null,
   "id": "cf17a274",
   "metadata": {},
   "outputs": [],
   "source": [
    "partidosCorrMediaAssentosNoSenadoCongresso = dfPartidos.groupby('Assentos na Câmara').agg({'corr': np.average}).reset_index()\n",
    "\n",
    "fig = px.bar(partidosCorrMediaAssentosNoSenadoCongresso, x='Assentos na Câmara', y='corr', color='Assentos na Câmara',\n",
    "            title='Correlação media por Assentos na Câmara')\n",
    "fig.show()"
   ]
  },
  {
   "cell_type": "code",
   "execution_count": null,
   "id": "96dd14b0",
   "metadata": {},
   "outputs": [],
   "source": []
  }
 ],
 "metadata": {
  "kernelspec": {
   "display_name": "Python 3",
   "language": "python",
   "name": "python3"
  },
  "language_info": {
   "codemirror_mode": {
    "name": "ipython",
    "version": 3
   },
   "file_extension": ".py",
   "mimetype": "text/x-python",
   "name": "python",
   "nbconvert_exporter": "python",
   "pygments_lexer": "ipython3",
   "version": "3.8.8"
  }
 },
 "nbformat": 4,
 "nbformat_minor": 5
}
